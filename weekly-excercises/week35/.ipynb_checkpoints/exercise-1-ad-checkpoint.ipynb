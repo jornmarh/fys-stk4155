{
 "cells": [
  {
   "cell_type": "code",
   "execution_count": 43,
   "metadata": {},
   "outputs": [],
   "source": [
    "import os\n",
    "import numpy as np\n",
    "import pandas as pd\n",
    "import matplotlib.pyplot as plt\n",
    "from sklearn.model_selection import train_test_split\n",
    "from sklearn.preprocessing import StandardScaler\n",
    "from sklearn.metrics import mean_squared_error, r2_score"
   ]
  },
  {
   "cell_type": "code",
   "execution_count": 44,
   "metadata": {},
   "outputs": [],
   "source": [
    "x = np.random.rand(100)\n",
    "y = 2.0+5*x*x+0.1*np.random.randn(100)"
   ]
  },
  {
   "cell_type": "code",
   "execution_count": 55,
   "metadata": {},
   "outputs": [
    {
     "name": "stdout",
     "output_type": "stream",
     "text": [
      "[ 1.98356605 -0.02029726  5.0392582 ]\n",
      "MSE train: 0.0122920434\n",
      "MSE train: 0.0104843280\n"
     ]
    }
   ],
   "source": [
    "# number of features\n",
    "p = 3\n",
    "\n",
    "# Create design matrix X\n",
    "X = np.zeros((len(x), p))\n",
    "X[:,0] = 1.0\n",
    "X[:,1] = x\n",
    "X[:,2] = x*x\n",
    "\n",
    "# Split data into training and test and scale\n",
    "X_train, X_test, y_train, y_test = train_test_split(X,y, test_size=0.2)\n",
    "\n",
    "# Find beta\n",
    "beta_ols = np.linalg.inv(X_train.T @ X_train) @ X_train.T @ y_train\n",
    "    \n",
    "# Make predictions\n",
    "ytilde_train = X_train @ beta_ols\n",
    "ytilde_test = X_test @ beta_ols\n",
    "\n",
    "print(beta_ols)\n",
    "print('MSE train: %.10f' %(mean_squared_error(y_train, ytilde_train)))\n",
    "print('MSE train: %.10f' %(mean_squared_error(y_test, ytilde_test)))"
   ]
  },
  {
   "cell_type": "code",
   "execution_count": 38,
   "metadata": {},
   "outputs": [
    {
     "data": {
      "image/png": "[encoded data removed]",
      "text/plain": [
       "<Figure size 432x288 with 1 Axes>"
      ]
     },
     "metadata": {
      "needs_background": "light"
     },
     "output_type": "display_data"
    }
   ],
   "source": [
    "I = np.eye(p,p)\n",
    "\n",
    "# Decide which values of lambda to use\n",
    "nlambdas = 20\n",
    "MSEtrain = np.zeros(nlambdas)\n",
    "MSEpredict = np.zeros(nlambdas)\n",
    "lambdas = np.logspace(-4, 1, nlambdas)\n",
    "\n",
    "for i in range(nlambdas):\n",
    "    lmb = lambdas[i]\n",
    "    beta_ridge = np.linalg.inv(X_train.T @ X_train + lmb*I) @ X_train.T @ y_train\n",
    "    ytilde_train = X_train @ beta_ridge\n",
    "    ytilde_test = X_test @ beta_ridge\n",
    "    \n",
    "    MSEtrain[i] = mean_squared_error(y_train, ytilde_train)\n",
    "    MSEpredict[i] = mean_squared_error(y_test, ytilde_test)\n",
    "\n",
    "# plot\n",
    "plt.plot(np.log10(lambdas), MSEtrain, label = 'MSE Ridge train')\n",
    "plt.plot(np.log10(lambdas), MSEpredict, 'r--', label = 'MSE Ridge Test')\n",
    "plt.xlabel('log10(lambda)')\n",
    "plt.ylabel('MSE')\n",
    "plt.legend()\n",
    "plt.show()"
   ]
  },
  {
   "cell_type": "code",
   "execution_count": null,
   "metadata": {},
   "outputs": [],
   "source": []
  }
 ],
 "metadata": {
  "kernelspec": {
   "display_name": "Python 3",
   "language": "python",
   "name": "python3"
  },
  "language_info": {
   "codemirror_mode": {
    "name": "ipython",
    "version": 3
   },
   "file_extension": ".py",
   "mimetype": "text/x-python",
   "name": "python",
   "nbconvert_exporter": "python",
   "pygments_lexer": "ipython3",
   "version": "3.8.5"
  }
 },
 "nbformat": 4,
 "nbformat_minor": 4
}
