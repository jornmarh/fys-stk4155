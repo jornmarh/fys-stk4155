{
 "cells": [
  {
   "cell_type": "markdown",
   "metadata": {},
   "source": [
    "# FYS-STK4155 - Project 1\n",
    "\n",
    "## By Jørn Marcus Høylo Rosenberg and Andreas Dyve\n",
    "\n",
    "This Notebook contains both the code for the project and the report. The notebook is structured with each exercise in its own cell(s). This leads to some repeting code, but is practical for the purpose of evaluating each task seperately. (eller noe i denne duren? Fin den)"
   ]
  },
  {
   "cell_type": "markdown",
   "metadata": {},
   "source": [
    "### Table of Contents\n",
    "\n",
    "* [Imported libraries](#imports)\n",
    "* [Functions used throughout the project](#functions)\n",
    "    * [Franke function](#frankefunction)\n",
    "    * [Cost functions](#costfunctions) \n",
    "    * [Design matrix function](#Xfunction)\n",
    "    * [Scaling function](#scalefunction)\n",
    "* [Exercise 1](#1)\n",
    "    * [OLS regression](#1.1)\n",
    "    * [Confidence intervals](#1.2)\n",
    "* [Exercise 2](#2)\n",
    "    * [Train vs test mse as function of complexity](#2.1)\n",
    "    * [OLS regression with bootstrap](#2.2)\n",
    "    * [bias-variance trade-off](#2.3)\n",
    "* [Exercise 3](#3)\n",
    "    * [OLS regression with cross-validation](#3.1)\n",
    "* [Exercise 4](#4)\n",
    "    * [Simple ridge regression looping over lambdas](#4.1)\n",
    "    * [Ridge regression with bootstrap and cross-validation](#4.2)\n",
    "    * [bias-variance trade-off](#4.3)\n",
    "* [Exercise 5](#5)\n",
    "    * [Lasso regression](#5.1)\n",
    "* [Exercise 6](#6)\n",
    "    * [Regular OLS](6.1)\n",
    "    * [Conf]\n",
    "    * [Bias-variance trade-off for OLS with bootstrap](#6.2)\n",
    "    * [Bootstrap - Comparison of the different models](#6.3)\n",
    "    * [Complexity analysis with different lambdas](#6.4)\n",
    "* [References](#ref)"
   ]
  },
  {
   "cell_type": "markdown",
   "metadata": {},
   "source": [
    "### 1. Imported libraries <a class=\"anchor\" id=\"imports\"></a>"
   ]
  },
  {
   "cell_type": "code",
   "execution_count": 1,
   "metadata": {},
   "outputs": [],
   "source": [
    "import numpy as np\n",
    "from random import random, seed\n",
    "from sklearn.model_selection import train_test_split\n",
    "from sklearn.linear_model import LinearRegression, Ridge\n",
    "from sklearn.preprocessing import StandardScaler\n",
    "import matplotlib.pyplot as plt\n",
    "from mpl_toolkits.mplot3d import Axes3D\n",
    "from matplotlib import cm\n",
    "from matplotlib.ticker import LinearLocator, FormatStrFormatter\n",
    "from sklearn.metrics import mean_squared_error, r2_score\n",
    "import pandas as pd\n",
    "from sklearn.utils import resample"
   ]
  },
  {
   "cell_type": "markdown",
   "metadata": {},
   "source": [
    "### 2. Functions used throughout the project <a class=\"anchor\" id=\"functions\"></a>\n",
    "\n",
    "The following functions are used for much of the repetative tasks in this project"
   ]
  },
  {
   "cell_type": "markdown",
   "metadata": {},
   "source": [
    "#### 2.1. Error functions <a class=\"anchor\" id=\"errorfunctions\"></a>"
   ]
  },
  {
   "cell_type": "code",
   "execution_count": 2,
   "metadata": {},
   "outputs": [],
   "source": [
    "def R2(y_data, y_model):\n",
    "    return 1 - np.sum((y_data - y_model) ** 2) / np.sum((y_data - np.mean(y_data)) ** 2)\n",
    "def MSE(y_data,y_model):\n",
    "    n = np.size(y_model)\n",
    "    return np.sum((y_data-y_model)**2)/n"
   ]
  },
  {
   "cell_type": "markdown",
   "metadata": {},
   "source": [
    "#### 2.2. Franke function <a class=\"anchor\" id=\"frankefunction\"></a>\n",
    "\n",
    "The provided code in the exercise set is used for making of the Franke function."
   ]
  },
  {
   "cell_type": "code",
   "execution_count": 3,
   "metadata": {},
   "outputs": [],
   "source": [
    "def FrankeFunction(x,y,noise_coef):\n",
    "    term1 = 0.75*np.exp(-(0.25*(9*x-2)**2) - 0.25*((9*y-2)**2))\n",
    "    term2 = 0.75*np.exp(-((9*x+1)**2)/49.0 - 0.1*(9*y+1))\n",
    "    term3 = 0.5*np.exp(-(9*x-7)**2/4.0 - 0.25*((9*y-3)**2))\n",
    "    term4 = -0.2*np.exp(-(9*x-4)**2 - (9*y-7)**2)\n",
    "    noise = noise_coef * np.random.randn(N*N)\n",
    "    return term1 + term2 + term3 + term4 + noise"
   ]
  },
  {
   "cell_type": "markdown",
   "metadata": {},
   "source": [
    "#### 2.3. Design matrix function <a class=\"anchor\" id=\"Xfunction\"></a>\n",
    "\n",
    "The provided code is used for computing the design matrix"
   ]
  },
  {
   "cell_type": "code",
   "execution_count": 4,
   "metadata": {},
   "outputs": [],
   "source": [
    "def create_X(x, y, n ):\n",
    "    if len(x.shape) > 1:\n",
    "        x = np.ravel(x)\n",
    "        y = np.ravel(y)\n",
    "\n",
    "    N = len(x)\n",
    "    l = int((n+1)*(n+2)/2) # Number of columns in beta\n",
    "    X = np.ones((N,l)) \n",
    "\n",
    "    for i in range(1,n+1):\n",
    "        q = int((i)*(i+1)/2) \n",
    "        for k in range(i+1): \n",
    "            X[:,q+k] = (x**(i-k))*(y**k)\n",
    "\n",
    "    return X"
   ]
  },
  {
   "cell_type": "markdown",
   "metadata": {},
   "source": [
    "#### 2.4. Scaling function <a class=\"anchor\" id=\"scalefunction\"></a>"
   ]
  },
  {
   "cell_type": "code",
   "execution_count": 5,
   "metadata": {},
   "outputs": [],
   "source": [
    "def scale(X_train, X_test, z_train, z_test):\n",
    "    scaler = StandardScaler() # Utilizing scikit's standardscaler\n",
    "\n",
    "    scaler_x = scaler.fit(X_train) # Scaling x-data\n",
    "    X_train_scaled = scaler_x.transform(X_train)\n",
    "    X_test_scaled = scaler_x.transform(X_test)\n",
    "\n",
    "    scaler_z = scaler.fit(z_train.reshape(-1,1)) # Scaling z-data\n",
    "    z_train_scaled = scaler_z.transform(z_train.reshape(-1,1)).ravel()\n",
    "    z_test_scaled = scaler_z.transform(z_test.reshape(-1,1)).ravel()\n",
    "\n",
    "    return X_train_scaled, X_test_scaled, z_train_scaled, z_test_scaled"
   ]
  },
  {
   "cell_type": "markdown",
   "metadata": {},
   "source": [
    "#### 2.5. Plot parameters <a class=\"anchor\" id=\"2.5\"></a>"
   ]
  },
  {
   "cell_type": "code",
   "execution_count": 6,
   "metadata": {},
   "outputs": [],
   "source": [
    "SMALL_SIZE = 8\n",
    "MEDIUM_SIZE = 10\n",
    "BIGGER_SIZE = 15\n",
    "\n",
    "plt.rc('font', size=SMALL_SIZE)          # controls default text sizes\n",
    "plt.rc('axes', titlesize=BIGGER_SIZE)     # fontsize of the axes title\n",
    "plt.rc('axes', labelsize=BIGGER_SIZE)    # fontsize of the x and y labels\n",
    "plt.rc('xtick', labelsize=MEDIUM_SIZE)    # fontsize of the tick labels\n",
    "plt.rc('ytick', labelsize=MEDIUM_SIZE)    # fontsize of the tick labels\n",
    "plt.rc('legend', fontsize=MEDIUM_SIZE)    # legend fontsize\n",
    "plt.rc('figure', titlesize=BIGGER_SIZE)  # fontsize of the figure title"
   ]
  },
  {
   "cell_type": "markdown",
   "metadata": {},
   "source": [
    "## Exercise 1: OLS on the Franke function <a class=\"anchor\" id=\"1\"></a>\n",
    "\n",
    "The goal of this task is to do an OLS regression analysis of the Franke function for a polynomial degree up to 5."
   ]
  },
  {
   "cell_type": "markdown",
   "metadata": {},
   "source": [
    "#### OLS regression <a class=\"anchor\" id=\"1.1\"></a>\n",
    "\n",
    "The following code creates the dataset and does an OLS regression analysis. From this point forwards and throughout the study of the Frankefunction we will restrict the datasize to a 20x20 meshgrid. Allthough this may be a tad unrealstic, it is necessary both in regard to highlighting certain statistical properties relevant for this project, and escpecially in terms of computational expence. In particular in the later sections when appyling methods such as bootstrapping and lasso regression which is know to uneconomic methods. However, incrasing the meshgrid to a respectable 200x200 points does not drastically affect the results of the model, aside from some stability, therfore we conclude that 20x20 is a decent compromise."
   ]
  },
  {
   "cell_type": "code",
   "execution_count": 23,
   "metadata": {},
   "outputs": [
    {
     "name": "stdout",
     "output_type": "stream",
     "text": [
      "Results for ordinary least squares method\n",
      "Degree: 0   mse train: 1.000000   mse test: 1.440723   r2_train: 0.000000   r2 test: -0.007569\n",
      "Degree: 1   mse train: 0.552123   mse test: 0.525735   r2_train: 0.447877   r2 test: 0.537482\n",
      "Degree: 2   mse train: 0.468758   mse test: 0.535676   r2_train: 0.531242   r2 test: 0.619697\n",
      "Degree: 3   mse train: 0.274178   mse test: 0.417494   r2_train: 0.725822   r2 test: 0.556697\n",
      "Degree: 4   mse train: 0.273511   mse test: 0.294854   r2_train: 0.726489   r2 test: 0.625667\n",
      "Degree: 5   mse train: 0.258712   mse test: 0.365581   r2_train: 0.741288   r2 test: 0.702094\n",
      "\n",
      " Standard deviation and mean value of X_train and z_train, degree = 5\n",
      "0.9759000729485332 1.7129155237073845e-16\n",
      "1.0 -1.0685896612017132e-16\n",
      "\n",
      "\n"
     ]
    },
    {
     "data": {
      "image/png": "[encoded data removed]",
      "text/plain": [
       "<Figure size 432x288 with 1 Axes>"
      ]
     },
     "metadata": {
      "needs_background": "light"
     },
     "output_type": "display_data"
    }
   ],
   "source": [
    "# Making meshgrid of datapoints and compute Franke's function\n",
    "np.random.seed(64)\n",
    "\n",
    "maxdegrees = 5 #Max degree of polynomial fit\n",
    "N = 20 #Total datapoints\n",
    "ts = 0.2 #Size of train test split\n",
    "printData = False #Change to print X_train and z_train\n",
    "scaling = True #Change to try without scaling\n",
    "\n",
    "x = np.sort(np.random.uniform(0, 1, N))\n",
    "y = np.sort(np.random.uniform(0, 1, N))\n",
    "x_mesh, y_mesh = np.meshgrid(x,y)\n",
    "x_flat = np.ravel(x_mesh) \n",
    "y_flat = np.ravel(y_mesh)\n",
    "\n",
    "z = FrankeFunction(x_flat, y_flat, 0.15) #Change the third argument to vary the amount of stoicrastic noise\n",
    "\n",
    "polydegree = np.zeros(maxdegrees+1)\n",
    "r2_train = np.zeros(maxdegrees+1)\n",
    "r2_test = np.zeros(maxdegrees+1)\n",
    "mse_train = np.zeros(maxdegrees+1)\n",
    "mse_test = np.zeros(maxdegrees+1)\n",
    "\n",
    "# OLS regression for polynomials from 0 to maxdegrees\n",
    "print(\"Results for ordinary least squares method\")\n",
    "for i in range(maxdegrees+1):\n",
    "    degree = i\n",
    "    polydegree[i] = degree\n",
    "    X = create_X(x_flat, y_flat, degree)\n",
    "    X_train, X_test, z_train, z_test = train_test_split(X,z, test_size=ts)\n",
    "    \n",
    "    if (scaling == True):\n",
    "        X_train, X_test, z_train, z_test = scale(X_train, X_test, z_train, z_test) #Scale data with standard scaler\n",
    "        \n",
    "    # prediction\n",
    "    beta = np.linalg.pinv(X_train.T @ X_train) @ X_train.T @ z_train\n",
    "    zTilde = X_train @ beta\n",
    "    zPredict = X_test @ beta\n",
    "    \n",
    "    # cost functions\n",
    "    r2_train[i] = r2_score(z_train, zTilde) #Error analysis from error functions from lecture notes\n",
    "    r2_test[i] = r2_score(z_test, zPredict)\n",
    "    mse_train[i] = MSE(z_train, zTilde) \n",
    "    mse_test[i] = MSE(z_test, zPredict)\n",
    "    \n",
    "    print('Degree: %i   mse train: %.6f   mse test: %.6f   r2_train: %.6f   r2 test: %.6f'\\\n",
    "          %(degree, mse_train[i], mse_test[i], r2_train[i], r2_test[i]))\n",
    "\n",
    "    \n",
    "if (printData == True):\n",
    "    print(\"\\n\", \"X_train:\", \"\\n\")\n",
    "    print(X_train, \"\\n\")\n",
    "    print(\"X_train shape: {}\".format(X_train.shape))\n",
    "    print(\"\\n\", \"Z_train:\", \"\\n\", z_train, \"\\n\")\n",
    "    print(\"z_train shape: {}\".format(z_train.shape), \"\\n\")\n",
    "\n",
    "    \n",
    "print(\"\\n\", \"Standard deviation and mean value of X_train and z_train, degree = %i\"%degree)\n",
    "print(np.std(X_train), np.mean(X_train))\n",
    "print(np.std(z_train), np.mean(z_train))\n",
    "print(\"\\n\")    \n",
    "\n",
    "plt.plot(polydegree, mse_train, label='mse train')\n",
    "plt.plot(polydegree, mse_test, label='mse test')\n",
    "plt.plot(polydegree, r2_train, label='r2 train')\n",
    "plt.plot(polydegree, r2_test, label='r2 test')\n",
    "plt.title(\"Error analysis of ordinary least square method for polynomials in range 0-5\")\n",
    "plt.xlabel(\"Polynomial degree\")\n",
    "plt.ylabel(\"Error\")\n",
    "plt.legend()\n",
    "plt.show()"
   ]
  },
  {
   "cell_type": "markdown",
   "metadata": {},
   "source": [
    "From the print-outs, its clear by both the R2 score and the mean squared error (MSE) that our polynomial fit impoves drastically by improving the complexity to a maximum of 5 degrees. We will see later on that this trend does not traverse endlessly. In addition, normal distrobuted noise has a large impact on the model fit, anything above a std of 0.5 for the noise result in terrible MSE and R2-score, a lower degree of noise does affect the fit, but only marginal in comparisson. For the remainder of the project, we will mostly apply a stoicrastic noise with standard deviation of 0.15, and a dataset consiting of 20x20 points. The value of the meshgrid is choosen as small to better visualize various effects and properties, all though not exactly realistic. \n",
    "\n",
    "A suprising result from this model is that when we study the dependence of scaling the data, a scaled dataset results in the MSE beginning at 1 and gradually lowering to around 0.25, which is a decent result. However, the intial unscaled data yields a significantly lower MSE of our model fit, beginig at close to 0, and shrinking even more as the polynomial degree increase. Given that a fit of degree 0, is not an accurate description of a the Franke function, so this must be incorrect.   \n",
    "\n",
    "In this exercise we decided to apply the StandardScaler() functionality included in Scikit-learn to scale the data of the design matrix X and the output z in a consistent matter. This function works by subtracting the sample mean from each datapoint and dividing by the standard deviation, providing a new dataset with mean value 0, and standard deviation 1, as seen in the print-outs for polynomial degree 5. The scaling was implemented by fitting a scaler to the train data exclusivly, in order to maintain the stochastic nature of the data. Somewhat suprinsingly, scaling this dataset resulted in a massive difference in the model evaluation, even though the data was normalized between 0 and 1 initially. When printing out the data (printData = True), we see that the x-data in particular vary largly, up to 10^5 between various datapoints. This results in a weight beeing added to each point representing a priority or importance for the model. This is not desirable when implementing a regression model. By applying the standard scaling method, this problem is efficintly resolved, and we see a way more realistic outcome of our model fit. \n",
    "\n",
    "From here on out we will predominantly make use of the mean squared error to evaluate the model fits, as this simplifes the comparrision betwen resampling methods, regression types and bias variance relations. "
   ]
  },
  {
   "cell_type": "markdown",
   "metadata": {},
   "source": [
    "#### 1.2. Confidence intervals <a class=\"anchor\" id=\"1.2\"></a>\n",
    "\n",
    "Here we find the confidence intervals for the coefficients of beta. The cnofidence interval is given by\n",
    "\n",
    "$$\n",
    "\\mu_{\\beta} \\pm \\frac{2\\sigma_{\\beta}}{\\sqrt{n}}\n",
    "$$\n",
    "\n",
    "where we use a a two-sigma confidence level, z = 2."
   ]
  },
  {
   "cell_type": "code",
   "execution_count": 24,
   "metadata": {},
   "outputs": [
    {
     "name": "stdout",
     "output_type": "stream",
     "text": [
      "\n"
     ]
    },
    {
     "data": {
      "image/png": "[encoded data removed]",
      "text/plain": [
       "<Figure size 432x288 with 1 Axes>"
      ]
     },
     "metadata": {
      "needs_background": "light"
     },
     "output_type": "display_data"
    }
   ],
   "source": [
    "_str = len(beta)\n",
    "variance = np.zeros(_str)\n",
    "CI = np.zeros(_str)\n",
    "\n",
    "for i in range(_str):\n",
    "    variance[i] = 0.1**2 * np.linalg.pinv(X_train.T @ X_train)[i,i]\n",
    "    CI[i] = 2*np.sqrt(variance[i])/np.sqrt(N)\n",
    "\n",
    "print(\"\")\n",
    "plt.errorbar(np.arange(0,_str), beta, yerr=CI, fmt='o', ecolor='red', capsize=5, markersize=4, label='beta_i with confidence range')\n",
    "plt.xlabel('i')\n",
    "plt.ylabel('beta [i]')\n",
    "plt.legend()\n",
    "plt.title(\"Confidence interval of the paramateres beta for a 5th order polynomial fit\")\n",
    "plt.show()"
   ]
  },
  {
   "cell_type": "markdown",
   "metadata": {},
   "source": [
    "### Exercise 2 - Bias-variance trade-off and resampling techniques \n",
    "<a class=\"anchor\" id=\"2\"></a>"
   ]
  },
  {
   "cell_type": "markdown",
   "metadata": {},
   "source": [
    "#### 2.1. Train vs test mse as function of complexity <a class=\"anchor\" id=\"2.1\"></a>\n",
    "\n",
    "The first task is to see how the train and test mse evolves with increasing complexity. Above polynomial degree 10 we can see the test error spiking, which indicates high variance. The lowest mse is found for a degree 9 polynomial fit, where mse = 0.2904."
   ]
  },
  {
   "cell_type": "code",
   "execution_count": 9,
   "metadata": {},
   "outputs": [
    {
     "name": "stdout",
     "output_type": "stream",
     "text": [
      "Degree: 0   mse train: 1.000000   mse test: 1.440723\n",
      "Degree: 1   mse train: 0.552123   mse test: 0.525735\n",
      "Degree: 2   mse train: 0.468758   mse test: 0.535676\n",
      "Degree: 3   mse train: 0.274178   mse test: 0.417494\n",
      "Degree: 4   mse train: 0.273511   mse test: 0.294854\n",
      "Degree: 5   mse train: 0.258712   mse test: 0.365581\n",
      "Degree: 6   mse train: 0.224589   mse test: 0.352596\n",
      "Degree: 7   mse train: 0.222232   mse test: 0.296650\n",
      "Degree: 8   mse train: 0.229393   mse test: 0.361353\n",
      "Degree: 9   mse train: 0.215597   mse test: 0.290401\n",
      "Degree: 10   mse train: 0.206917   mse test: 0.643161\n",
      "Degree: 11   mse train: 0.193310   mse test: 0.330206\n",
      "Degree: 12   mse train: 0.198744   mse test: 6.440320\n",
      "Degree: 13   mse train: 0.202599   mse test: 0.506152\n"
     ]
    },
    {
     "data": {
      "image/png": "[encoded data removed]",
      "text/plain": [
       "<Figure size 432x288 with 1 Axes>"
      ]
     },
     "metadata": {
      "needs_background": "light"
     },
     "output_type": "display_data"
    }
   ],
   "source": [
    "np.random.seed(64)\n",
    "\n",
    "N = 20 #Small mesh size\n",
    "maxdegrees = 14\n",
    "scaling = True #Change to try without scaling\n",
    "\n",
    "x = np.sort(np.random.uniform(0, 1, N))\n",
    "y = np.sort(np.random.uniform(0, 1, N))\n",
    "x_mesh, y_mesh = np.meshgrid(x,y)\n",
    "x_flat = np.ravel(x_mesh) \n",
    "y_flat = np.ravel(y_mesh)\n",
    "\n",
    "z = FrankeFunction(x_flat, y_flat, 0.15) #Change the third argument to vary the amount of stoicrastic noise\n",
    "\n",
    "mse_train = np.zeros(maxdegrees)\n",
    "mse_test = np.zeros(maxdegrees)\n",
    "\n",
    "# OLS regression for polynomials from 0 to maxdegrees\n",
    "polydegree = np.zeros(maxdegrees)\n",
    "for i in range(maxdegrees):\n",
    "    degree = i\n",
    "    polydegree[i] = degree\n",
    "    X = create_X(x_flat, y_flat, degree)\n",
    "    X_train, X_test, z_train, z_test = train_test_split(X,z, test_size=0.2)\n",
    "    \n",
    "    if (scaling == True):\n",
    "        X_train, X_test, z_train, z_test = scale(X_train, X_test, z_train, z_test) #Scale data with standard scaler\n",
    "        \n",
    "    # prediction\n",
    "    beta = np.linalg.pinv(X_train.T @ X_train) @ X_train.T @ z_train\n",
    "    zTilde = X_train @ beta\n",
    "    zPredict = X_test @ beta\n",
    "    \n",
    "    # cost functions\n",
    "    mse_train[i] = MSE(z_train, zTilde) \n",
    "    mse_test[i] = MSE(z_test, zPredict)\n",
    "    \n",
    "    print('Degree: %i   mse train: %.6f   mse test: %.6f'\\\n",
    "          %(degree, mse_train[i], mse_test[i]))\n",
    "\n",
    "plt.plot(polydegree, mse_train, label='mse train')\n",
    "plt.plot(polydegree, mse_test, label='mse test')\n",
    "plt.ylim(0,1.5)\n",
    "plt.legend()\n",
    "plt.xlabel(\"Polynomial degree\")\n",
    "plt.ylabel(\"MSE\")\n",
    "plt.title(\"Train and test mean squared error as a function of complexity\")\n",
    "plt.show()"
   ]
  },
  {
   "cell_type": "markdown",
   "metadata": {},
   "source": [
    "Again, we apply a small meshgrid in this example. Changing n to for example 200, removes the effect of overfitting in this exampl. All though the variance does in fact increase with complexity as expected, the magnitude compared to the bias is neglible when evaluating the mean squared error."
   ]
  },
  {
   "cell_type": "markdown",
   "metadata": {},
   "source": [
    "#### 2.2. OLS regression with bootstrap resampling <a class=\"anchor\" id=\"2.2\"></a>\n",
    "\n",
    "The code below performs an OLS regression with bootstrap resampling, using 1000 bootstraps. The results show a small improvement in the mse. The mse is 0.2672 for a degree 6 polynomial, compared to 0.29 previously found without bootstrap."
   ]
  },
  {
   "cell_type": "code",
   "execution_count": 10,
   "metadata": {},
   "outputs": [
    {
     "name": "stdout",
     "output_type": "stream",
     "text": [
      "                 MSE         Bias      Variance\n",
      "degree: 0      1.4407       1.4407      0.0000\n",
      "degree: 1      0.5827       0.5797      0.0030\n",
      "degree: 2      0.5599       0.5524      0.0075\n",
      "degree: 3      0.2869       0.2710      0.0159\n",
      "degree: 4      0.3324       0.3148      0.0176\n",
      "degree: 5      0.4372       0.3745      0.0627\n",
      "degree: 6      0.2672       0.2447      0.0226\n",
      "degree: 7      0.3934       0.3323      0.0611\n",
      "degree: 8      0.4674       0.3728      0.0946\n",
      "degree: 9      1.8366       0.5225      1.3142\n",
      "degree: 10      3.9732       0.5848      3.3884\n",
      "degree: 11      3.4979       0.7770      2.7209\n",
      "\n"
     ]
    },
    {
     "data": {
      "image/png": "[encoded data removed]",
      "text/plain": [
       "<Figure size 432x288 with 1 Axes>"
      ]
     },
     "metadata": {
      "needs_background": "light"
     },
     "output_type": "display_data"
    }
   ],
   "source": [
    "# Parameters\n",
    "\n",
    "N = 20 # Change to alter total datapoints\n",
    "ts = 0.2 #Change to alter train, test size\n",
    "\n",
    "n_bootstraps = 1000 #Number of bootstraps\n",
    "maxdegree = 12\n",
    "\n",
    "# Create data\n",
    "np.random.seed(64)\n",
    "x = np.sort(np.random.uniform(0, 1, N))\n",
    "y = np.sort(np.random.uniform(0, 1, N))\n",
    "x_mesh, y_mesh = np.meshgrid(x,y)\n",
    "x_flat = np.ravel(x_mesh)\n",
    "y_flat = np.ravel(y_mesh)\n",
    "\n",
    "z = FrankeFunction(x_flat, y_flat, 0.15)\n",
    "\n",
    "# Cost functions\n",
    "mse = np.zeros(maxdegree)\n",
    "r2 = np.zeros(maxdegree)\n",
    "bias = np.zeros(maxdegree)\n",
    "variance = np.zeros(maxdegree)\n",
    "\n",
    "polydegree = np.zeros(maxdegree)\n",
    "print(\"                 MSE         Bias      Variance\")\n",
    "for i in range(maxdegree):\n",
    "    degree = i\n",
    "    polydegree[i] = degree\n",
    "    X = create_X(x_flat, y_flat, degree)\n",
    "\n",
    "    X_train, X_test, z_train, z_test = train_test_split(X,z, test_size=ts)\n",
    "    X_train, X_test, z_train, z_test = scale(X_train, X_test, z_train, z_test)\n",
    "\n",
    "    z_pred = np.empty((z_test.shape[0], n_bootstraps))\n",
    "    for j in range(n_bootstraps):\n",
    "        x_bs,z_bs = resample(X_train, z_train)\n",
    "        beta_ols = np.linalg.pinv(x_bs.T @ x_bs) @ x_bs.T @ z_bs\n",
    "        z_pred[:,j] = X_test @ beta_ols\n",
    "    \n",
    "    mse[i] = np.mean(np.mean((z_test.reshape(-1,1) - z_pred)**2, axis=1, keepdims=True))\n",
    "    bias[i] = np.mean((z_test.reshape(-1,1) - np.mean(z_pred, axis=1, keepdims=True))**2)\n",
    "    variance[i] = np.mean(np.var(z_pred, axis=1, keepdims=True))\n",
    "    \n",
    "    print('degree: %i      %.4f       %.4f      %.4f'%(degree, mse[i], bias[i], variance[i])) \n",
    "    \n",
    "print(\"\")\n",
    "plt.plot(polydegree, mse, label='mse_ols')\n",
    "plt.plot(polydegree, bias, label='bias')\n",
    "plt.plot(polydegree, variance, label='variance')\n",
    "plt.title(\"Bias-variance tradeoff with bootstrap of ordinary least squares\")\n",
    "plt.xlabel('Polynomial degree')\n",
    "plt.ylabel('Error')\n",
    "plt.ylim(0,2)\n",
    "plt.legend()\n",
    "plt.show()"
   ]
  },
  {
   "cell_type": "markdown",
   "metadata": {},
   "source": [
    "Changing the datasize N here to 200 would be increadibly demaning, and as well vanish the visual que of the variance complexity relation. "
   ]
  },
  {
   "cell_type": "markdown",
   "metadata": {},
   "source": [
    "#### 2.3. Discussion of bias-variance trade-off <a class=\"anchor\" id=\"2.3\"></a>\n",
    "\n",
    "The data is represented by the function y = f(x) + $\\epsilon$, where $\\epsilon$ is normally distributed with mean zero and variance equal to $\\sigma²$. \n",
    "\n",
    "We have made a a model $\\tilde{y} = X\\beta$ approximating y, where $\\beta$ is found by minimizing the cost function\n",
    "\n",
    "$$\n",
    "C(X,\\beta) = \\frac{1}{n}\\sum_{i=0}^{n-1}{(y_i - \\tilde{y_i})^2} = \\mathbb{E}[(y - \\tilde{y})²]\n",
    "$$\n",
    "Putting in our function in place of y gives\n",
    "$$\n",
    "\\mathbb{E}[(y - \\tilde{y})²] = \\mathbb{E}[(f + \\epsilon - \\tilde{y})²]\n",
    "$$\n",
    "\n",
    "We can add and subtract $\\mathbb{E}[y]$\n",
    "\n",
    "$$\n",
    "\\mathbb{E}[(y - \\tilde{y})²] = \\mathbb{E}[(f + \\epsilon - \\tilde{y} + \\mathbb{E}[y] - \\mathbb{E}[y])²]\n",
    "$$\n",
    "\n",
    "From the definition of our function we have the following relations\n",
    "\n",
    "$$\n",
    "\\mathbb{E}[y] = f\n",
    "$$\n",
    "$$\n",
    "\\mathbb{E}[\\epsilon] = 0\n",
    "$$\n",
    "$$\n",
    "var[y] = var[\\epsilon] = \\sigma²\n",
    "$$\n",
    "\n",
    "Using these relations, the cost function can be rewritten as\n",
    "\n",
    "$$\n",
    "\\mathbb{E}[(y - \\tilde{y})²] = \\mathbb{E}[(f - \\mathbb{E}[\\tilde{y}])²] + var[\\tilde{y}] + \\epsilon² \n",
    "$$\n",
    "\n",
    "$$\n",
    "\\mathbb{E}[(y - \\tilde{y})²] = \\frac{1}{n}\\sum_i{(f_i - \\mathbb{E}[\\tilde{y}])²} + \\frac{1}{n}\\sum_i{(\\tilde{y_i} - \\mathbb{E}[\\tilde{y}])²} + \\epsilon²\n",
    "$$\n",
    "\n",
    "The first term represent the bias squared, the second the model variance and lastly $ \\sigma^2 $ to denote the error originating from the noise. The bias of the model is a measure of how accuarate our model approximation is to the original problem, while the variance is usefull to meassure how our model fluxates in performence depending on the input data. Another way to define the model variance is how sensetive the model is on the traing data used. \n",
    "\n",
    "A common problem in machine learning algoritms is the bias-variance tradeoff, ie finding the appropriate model to minimize simantainously the bias and variance of the model. In this example we see that a polynomial of degree 6 is the best we can do. Beyond this point the variance and thus MSE explode to larger values, in a problem known as overfitting, or making our model to complex. The opposite, underfitting is present in polynomial degrees below 2, in this case the model bias is large, as obviously a 1st or 2nd degree polynomial is a bad model of a 5th order problem. The overfitting problem occurs because our model is designed very specifically for a set of data. Therefore, when altering the test data, our complex model does a terrible job adjusting. \n",
    "\n",
    "The bias-variance tradeoff is also largly dependent on the amount of data used for training and testing, a larger training set corresponds to a overall better model, and vice versa in the opposite case. \n",
    "When increasing the amount of datapoints in total, this explosion of the model variance does not apper to take place. However this is not the case, as the variance also in this case does in fact increase in increasing complexity, and the bias converge to a low variance. But given the amount of points, the value of the variance is simply too low compared to the bias to effectivly impact the mean squared error in any significant way."
   ]
  },
  {
   "cell_type": "markdown",
   "metadata": {},
   "source": [
    "### Exercise 3 - Cross validation as resampling technique, adding more complexity \n",
    "<a class=\"anchor\" id=\"3\"></a>"
   ]
  },
  {
   "cell_type": "markdown",
   "metadata": {},
   "source": [
    "#### 3.1. OLS regression with cross-validation resampling <a class=\"anchor\" id=\"3.1\"></a>\n",
    "\n",
    "The code below performs an OLS regression with cross-validation resampling, utilizing the functionality included in scikit."
   ]
  },
  {
   "cell_type": "code",
   "execution_count": 20,
   "metadata": {},
   "outputs": [
    {
     "name": "stdout",
     "output_type": "stream",
     "text": [
      "Average mean squared error of cross-validtion\n",
      "degree: 0    MSE: 1.014967\n",
      "degree: 1    MSE: 0.543536\n",
      "degree: 2    MSE: 0.460891\n",
      "degree: 3    MSE: 0.327560\n",
      "degree: 4    MSE: 0.314723\n",
      "degree: 5    MSE: 0.298608\n",
      "degree: 6    MSE: 0.283374\n",
      "degree: 7    MSE: 0.293943\n",
      "degree: 8    MSE: 0.320473\n",
      "degree: 9    MSE: 0.368816\n",
      "degree: 10    MSE: 0.451438\n",
      "degree: 11    MSE: 0.619847\n"
     ]
    },
    {
     "data": {
      "image/png": "[encoded data removed]",
      "text/plain": [
       "<Figure size 432x288 with 1 Axes>"
      ]
     },
     "metadata": {
      "needs_background": "light"
     },
     "output_type": "display_data"
    }
   ],
   "source": [
    "from sklearn.model_selection import cross_val_score\n",
    "from sklearn.model_selection import KFold\n",
    "\n",
    "# Parameters\n",
    "N = 20\n",
    "maxdegree = 12\n",
    "k = 10 #Number of folds\n",
    "kfold = KFold(n_splits = k, shuffle=True, random_state=22) \n",
    "\n",
    "# Make dataset\n",
    "np.random.seed(64)\n",
    "x = np.sort(np.random.uniform(0, 1, N))\n",
    "y = np.sort(np.random.uniform(0, 1, N))\n",
    "x_mesh, y_mesh = np.meshgrid(x,y)\n",
    "x_flat = np.ravel(x_mesh)\n",
    "y_flat = np.ravel(y_mesh)\n",
    "\n",
    "z = FrankeFunction(x_flat, y_flat, 0.15)\n",
    "\n",
    "mse_scikit_cv = False #Change to True to conduct cross-validation with scikit-learn\n",
    "\n",
    "# Cost function\n",
    "mse_ols_cvd = np.zeros(maxdegree)\n",
    "polydegree = np.zeros(maxdegree)\n",
    "print(\"Average mean squared error of cross-validtion\")\n",
    "for i in range(maxdegree):\n",
    "    degree = i\n",
    "    polydegree[i] = degree\n",
    "    X = create_X(x_flat, y_flat, degree)\n",
    "    mse_split = np.zeros(k)\n",
    "    cv_split = 0\n",
    "    for train_indexes, test_indexes in kfold.split(X):\n",
    "        X_train = X[train_indexes]\n",
    "        X_test = X[test_indexes]\n",
    "        z_train = z[train_indexes]\n",
    "        z_test = z[test_indexes]\n",
    "        X_train, X_test, z_train, z_test = scale(X_train, X_test, z_train, z_test)\n",
    "\n",
    "        beta = np.linalg.pinv(X_train.T @ X_train) @ X_train.T @ z_train\n",
    "        z_pred = X_test @ beta\n",
    "        \n",
    "        mse_split[cv_split] = mean_squared_error(z_test, z_pred)\n",
    "        \n",
    "        cv_split += 1\n",
    "    \n",
    "    mse_ols_cvd[i] = np.mean(mse_split)\n",
    "    \n",
    "    #Compare with scikit-learn\n",
    "    linreg = LinearRegression()\n",
    "    mse_scikit_cv = np.mean(cross_val_score(linreg, X, z, scoring='neg_mean_squared_error', cv=kfold))\n",
    "\n",
    "    \n",
    "    if (mse_scikit_cv == True):\n",
    "        print('degree: %i    MSE: %.6f    scikit mse: %.6f' %(degree, mse_ols_cvd[i], mse_scikit_cv))\n",
    "    else:\n",
    "        print('degree: %i    MSE: %.6f' %(degree, mse_ols_cvd[i]))\n",
    "\n",
    "plt.plot(polydegree, mse_ols_cvd)\n",
    "plt.ylim(0,1)\n",
    "plt.title(\"Cross validation with ordinary least square\")\n",
    "plt.ylabel(\"MSE\")\n",
    "plt.xlabel(\"Polynomial degree\")\n",
    "plt.show()"
   ]
  },
  {
   "cell_type": "markdown",
   "metadata": {},
   "source": [
    "From the figure and data above, we make note of the same trend for the mean squared error for the ordinary least squares method as before in bootstrap and exercise 1. However when comparing the magintudes of the MSE observed from cross-validation and bootstrap, its a significant difference. This stems from the defintion of how variance is calculated as described previosly. The bootstrap does a much better job estimating the variance as we are fitting different training data on a constant test, as opposed to cross-validation where both the trainging data and test data undergoes a shuffel and random selection. However, we also see that when increasing the number of datapoints, that the MSE from cross-validtion and bootstrap converge towards eachother. When comparing the results from the resampling methods and exercise 1, we find that ols without resampling does a better fit, while cvd and bootstraping have similar magnituds when looking at a 5th order polynomial in particular.\n",
    "\n",
    "Altering the number of folds does not seem to affect the results too much, other than impoving our model slightly over the range of polynomial degrees. "
   ]
  },
  {
   "cell_type": "markdown",
   "metadata": {},
   "source": [
    "### Exercise 4 - Ridge regression on the Franke function with resampling\n",
    "<a class=\"anchor\" id=\"4\"></a>\n",
    "\n",
    "In this task we want to find both the optimal polynomial degree and hyperparameter lambda. If done simultaneously, this quickly becomes computationally heavy, especially with bootstrap resampling. Our approach is therefore to first do a simple ridge model looping over lambda-values to get a picture of what values give the lowest mse. Then, we implement the different resampling methods of a lambda in this area. "
   ]
  },
  {
   "cell_type": "markdown",
   "metadata": {},
   "source": [
    "Ridge and Lasso regression are two widely used extensions of ordinary least squares method to prevent overfitting by shrinking paramaters with large variance, and in the case of Lasso involve feature selection."
   ]
  },
  {
   "cell_type": "markdown",
   "metadata": {},
   "source": [
    "#### 4.1. Simple ridge regression looping over lambdas <a class=\"anchor\" id=\"4.1\"></a>\n",
    "\n",
    "The code below does a ridge regression without resampling and for a single given polynomial. The intended purpose of this simple model is to get a picture of what range of lambda-values are interesting when implementing bootstrap and cvd."
   ]
  },
  {
   "cell_type": "code",
   "execution_count": 12,
   "metadata": {},
   "outputs": [
    {
     "data": {
      "image/png": "[encoded data removed]",
      "text/plain": [
       "<Figure size 432x288 with 1 Axes>"
      ]
     },
     "metadata": {
      "needs_background": "light"
     },
     "output_type": "display_data"
    }
   ],
   "source": [
    "N = 20\n",
    "np.random.seed(64)\n",
    "x = np.sort(np.random.uniform(0, 1, N))\n",
    "y = np.sort(np.random.uniform(0, 1, N))\n",
    "x_mesh, y_mesh = np.meshgrid(x,y)\n",
    "x_flat = np.ravel(x_mesh)\n",
    "y_flat = np.ravel(y_mesh)\n",
    "\n",
    "z = FrankeFunction(x_flat, y_flat, 0.15)\n",
    "\n",
    "n_lambdas = 100\n",
    "lambdas = np.logspace(-6,1,n_lambdas)\n",
    "degree = 5\n",
    "\n",
    "#Error arrays\n",
    "mse = np.zeros(n_lambdas)\n",
    "\n",
    "X = create_X(x_flat, y_flat, degree)\n",
    "X_train, X_test, z_train, z_test = train_test_split(X,z, test_size=0.2)\n",
    "X_train, X_test, z_train, z_test = scale(X_train, X_test, z_train, z_test)\n",
    "for i in range(n_lambdas):\n",
    "    lmd = lambdas[i]\n",
    "    \n",
    "    I_ = np.eye(X_train.shape[1], X_train.shape[1])\n",
    "    beta = np.linalg.pinv(X_train.T @ X_train + lmd*I_) @ X_train.T @ z_train\n",
    "    z_pred = X_test @ beta\n",
    "    mse[i] = mean_squared_error(z_test,z_pred)\n",
    "\n",
    "plt.plot(np.log10(lambdas), mse, label=\"MSE\")\n",
    "plt.xlabel(\"log10(lambda)\")\n",
    "plt.ylabel(\"MSE\")\n",
    "plt.title('Simple ridge regression: mse as function of lambda')\n",
    "plt.legend()\n",
    "plt.show()"
   ]
  },
  {
   "cell_type": "markdown",
   "metadata": {},
   "source": [
    "The simple ridge regression generally shows that a lower lambda results in lower mse, suggesting that OLS is a better model for our Franke function. When using only 20*20 data points, some runs result in apearent minimas of mse for different lambdas, but when N increased, the trend of smaller mse with decreasing lambda becomes more consistent."
   ]
  },
  {
   "cell_type": "markdown",
   "metadata": {},
   "source": [
    "#### 4.2. Ridge regression with bootstrap and cross validation <a class=\"anchor\" id=\"4.2\"></a>\n",
    "\n",
    "The code below performs a ridge regression with bootstrap and cross-validation resampling using different values of lambda. It is expected to get the best mse score for as low value of lambda as possible, but different values are tested."
   ]
  },
  {
   "cell_type": "code",
   "execution_count": 13,
   "metadata": {},
   "outputs": [
    {
     "name": "stdout",
     "output_type": "stream",
     "text": [
      "Polynomial degree: 0\n",
      "\n",
      "Bootstrap\n"
     ]
    },
    {
     "data": {
      "text/html": [
       "<div>\n",
       "<style scoped>\n",
       "    .dataframe tbody tr th:only-of-type {\n",
       "        vertical-align: middle;\n",
       "    }\n",
       "\n",
       "    .dataframe tbody tr th {\n",
       "        vertical-align: top;\n",
       "    }\n",
       "\n",
       "    .dataframe thead th {\n",
       "        text-align: right;\n",
       "    }\n",
       "</style>\n",
       "<table border=\"1\" class=\"dataframe\">\n",
       "  <thead>\n",
       "    <tr style=\"text-align: right;\">\n",
       "      <th></th>\n",
       "      <th>mse</th>\n",
       "      <th>bias</th>\n",
       "      <th>variance</th>\n",
       "    </tr>\n",
       "    <tr>\n",
       "      <th>regression type</th>\n",
       "      <th></th>\n",
       "      <th></th>\n",
       "      <th></th>\n",
       "    </tr>\n",
       "  </thead>\n",
       "  <tbody>\n",
       "    <tr>\n",
       "      <th>OLS</th>\n",
       "      <td>1.136821</td>\n",
       "      <td>1.136821</td>\n",
       "      <td>0.0</td>\n",
       "    </tr>\n",
       "    <tr>\n",
       "      <th>ridge</th>\n",
       "      <td>1.136821</td>\n",
       "      <td>1.136821</td>\n",
       "      <td>0.0</td>\n",
       "    </tr>\n",
       "  </tbody>\n",
       "</table>\n",
       "</div>"
      ],
      "text/plain": [
       "                      mse      bias  variance\n",
       "regression type                              \n",
       "OLS              1.136821  1.136821       0.0\n",
       "ridge            1.136821  1.136821       0.0"
      ]
     },
     "metadata": {},
     "output_type": "display_data"
    },
    {
     "name": "stdout",
     "output_type": "stream",
     "text": [
      "\n",
      "\n",
      "Cross-validation\n"
     ]
    },
    {
     "data": {
      "text/html": [
       "<div>\n",
       "<style scoped>\n",
       "    .dataframe tbody tr th:only-of-type {\n",
       "        vertical-align: middle;\n",
       "    }\n",
       "\n",
       "    .dataframe tbody tr th {\n",
       "        vertical-align: top;\n",
       "    }\n",
       "\n",
       "    .dataframe thead th {\n",
       "        text-align: right;\n",
       "    }\n",
       "</style>\n",
       "<table border=\"1\" class=\"dataframe\">\n",
       "  <thead>\n",
       "    <tr style=\"text-align: right;\">\n",
       "      <th></th>\n",
       "      <th>mse</th>\n",
       "    </tr>\n",
       "    <tr>\n",
       "      <th>regression type</th>\n",
       "      <th></th>\n",
       "    </tr>\n",
       "  </thead>\n",
       "  <tbody>\n",
       "    <tr>\n",
       "      <th>OLS</th>\n",
       "      <td>1.014967</td>\n",
       "    </tr>\n",
       "    <tr>\n",
       "      <th>ridge</th>\n",
       "      <td>1.014967</td>\n",
       "    </tr>\n",
       "  </tbody>\n",
       "</table>\n",
       "</div>"
      ],
      "text/plain": [
       "                      mse\n",
       "regression type          \n",
       "OLS              1.014967\n",
       "ridge            1.014967"
      ]
     },
     "metadata": {},
     "output_type": "display_data"
    },
    {
     "name": "stdout",
     "output_type": "stream",
     "text": [
      "\n",
      "Polynomial degree: 1\n",
      "\n",
      "Bootstrap\n"
     ]
    },
    {
     "data": {
      "text/html": [
       "<div>\n",
       "<style scoped>\n",
       "    .dataframe tbody tr th:only-of-type {\n",
       "        vertical-align: middle;\n",
       "    }\n",
       "\n",
       "    .dataframe tbody tr th {\n",
       "        vertical-align: top;\n",
       "    }\n",
       "\n",
       "    .dataframe thead th {\n",
       "        text-align: right;\n",
       "    }\n",
       "</style>\n",
       "<table border=\"1\" class=\"dataframe\">\n",
       "  <thead>\n",
       "    <tr style=\"text-align: right;\">\n",
       "      <th></th>\n",
       "      <th>mse</th>\n",
       "      <th>bias</th>\n",
       "      <th>variance</th>\n",
       "    </tr>\n",
       "    <tr>\n",
       "      <th>regression type</th>\n",
       "      <th></th>\n",
       "      <th></th>\n",
       "      <th></th>\n",
       "    </tr>\n",
       "  </thead>\n",
       "  <tbody>\n",
       "    <tr>\n",
       "      <th>OLS</th>\n",
       "      <td>0.601679</td>\n",
       "      <td>0.597955</td>\n",
       "      <td>0.003724</td>\n",
       "    </tr>\n",
       "    <tr>\n",
       "      <th>ridge</th>\n",
       "      <td>0.601679</td>\n",
       "      <td>0.597955</td>\n",
       "      <td>0.003724</td>\n",
       "    </tr>\n",
       "  </tbody>\n",
       "</table>\n",
       "</div>"
      ],
      "text/plain": [
       "                      mse      bias  variance\n",
       "regression type                              \n",
       "OLS              0.601679  0.597955  0.003724\n",
       "ridge            0.601679  0.597955  0.003724"
      ]
     },
     "metadata": {},
     "output_type": "display_data"
    },
    {
     "name": "stdout",
     "output_type": "stream",
     "text": [
      "\n",
      "\n",
      "Cross-validation\n"
     ]
    },
    {
     "data": {
      "text/html": [
       "<div>\n",
       "<style scoped>\n",
       "    .dataframe tbody tr th:only-of-type {\n",
       "        vertical-align: middle;\n",
       "    }\n",
       "\n",
       "    .dataframe tbody tr th {\n",
       "        vertical-align: top;\n",
       "    }\n",
       "\n",
       "    .dataframe thead th {\n",
       "        text-align: right;\n",
       "    }\n",
       "</style>\n",
       "<table border=\"1\" class=\"dataframe\">\n",
       "  <thead>\n",
       "    <tr style=\"text-align: right;\">\n",
       "      <th></th>\n",
       "      <th>mse</th>\n",
       "    </tr>\n",
       "    <tr>\n",
       "      <th>regression type</th>\n",
       "      <th></th>\n",
       "    </tr>\n",
       "  </thead>\n",
       "  <tbody>\n",
       "    <tr>\n",
       "      <th>OLS</th>\n",
       "      <td>0.543536</td>\n",
       "    </tr>\n",
       "    <tr>\n",
       "      <th>ridge</th>\n",
       "      <td>0.543536</td>\n",
       "    </tr>\n",
       "  </tbody>\n",
       "</table>\n",
       "</div>"
      ],
      "text/plain": [
       "                      mse\n",
       "regression type          \n",
       "OLS              0.543536\n",
       "ridge            0.543536"
      ]
     },
     "metadata": {},
     "output_type": "display_data"
    },
    {
     "name": "stdout",
     "output_type": "stream",
     "text": [
      "\n",
      "Polynomial degree: 2\n",
      "\n",
      "Bootstrap\n"
     ]
    },
    {
     "data": {
      "text/html": [
       "<div>\n",
       "<style scoped>\n",
       "    .dataframe tbody tr th:only-of-type {\n",
       "        vertical-align: middle;\n",
       "    }\n",
       "\n",
       "    .dataframe tbody tr th {\n",
       "        vertical-align: top;\n",
       "    }\n",
       "\n",
       "    .dataframe thead th {\n",
       "        text-align: right;\n",
       "    }\n",
       "</style>\n",
       "<table border=\"1\" class=\"dataframe\">\n",
       "  <thead>\n",
       "    <tr style=\"text-align: right;\">\n",
       "      <th></th>\n",
       "      <th>mse</th>\n",
       "      <th>bias</th>\n",
       "      <th>variance</th>\n",
       "    </tr>\n",
       "    <tr>\n",
       "      <th>regression type</th>\n",
       "      <th></th>\n",
       "      <th></th>\n",
       "      <th></th>\n",
       "    </tr>\n",
       "  </thead>\n",
       "  <tbody>\n",
       "    <tr>\n",
       "      <th>OLS</th>\n",
       "      <td>0.432709</td>\n",
       "      <td>0.424888</td>\n",
       "      <td>0.007821</td>\n",
       "    </tr>\n",
       "    <tr>\n",
       "      <th>ridge</th>\n",
       "      <td>0.432709</td>\n",
       "      <td>0.424889</td>\n",
       "      <td>0.007820</td>\n",
       "    </tr>\n",
       "  </tbody>\n",
       "</table>\n",
       "</div>"
      ],
      "text/plain": [
       "                      mse      bias  variance\n",
       "regression type                              \n",
       "OLS              0.432709  0.424888  0.007821\n",
       "ridge            0.432709  0.424889  0.007820"
      ]
     },
     "metadata": {},
     "output_type": "display_data"
    },
    {
     "name": "stdout",
     "output_type": "stream",
     "text": [
      "\n",
      "\n",
      "Cross-validation\n"
     ]
    },
    {
     "data": {
      "text/html": [
       "<div>\n",
       "<style scoped>\n",
       "    .dataframe tbody tr th:only-of-type {\n",
       "        vertical-align: middle;\n",
       "    }\n",
       "\n",
       "    .dataframe tbody tr th {\n",
       "        vertical-align: top;\n",
       "    }\n",
       "\n",
       "    .dataframe thead th {\n",
       "        text-align: right;\n",
       "    }\n",
       "</style>\n",
       "<table border=\"1\" class=\"dataframe\">\n",
       "  <thead>\n",
       "    <tr style=\"text-align: right;\">\n",
       "      <th></th>\n",
       "      <th>mse</th>\n",
       "    </tr>\n",
       "    <tr>\n",
       "      <th>regression type</th>\n",
       "      <th></th>\n",
       "    </tr>\n",
       "  </thead>\n",
       "  <tbody>\n",
       "    <tr>\n",
       "      <th>OLS</th>\n",
       "      <td>0.460891</td>\n",
       "    </tr>\n",
       "    <tr>\n",
       "      <th>ridge</th>\n",
       "      <td>0.460891</td>\n",
       "    </tr>\n",
       "  </tbody>\n",
       "</table>\n",
       "</div>"
      ],
      "text/plain": [
       "                      mse\n",
       "regression type          \n",
       "OLS              0.460891\n",
       "ridge            0.460891"
      ]
     },
     "metadata": {},
     "output_type": "display_data"
    },
    {
     "name": "stdout",
     "output_type": "stream",
     "text": [
      "\n",
      "Polynomial degree: 3\n",
      "\n",
      "Bootstrap\n"
     ]
    },
    {
     "data": {
      "text/html": [
       "<div>\n",
       "<style scoped>\n",
       "    .dataframe tbody tr th:only-of-type {\n",
       "        vertical-align: middle;\n",
       "    }\n",
       "\n",
       "    .dataframe tbody tr th {\n",
       "        vertical-align: top;\n",
       "    }\n",
       "\n",
       "    .dataframe thead th {\n",
       "        text-align: right;\n",
       "    }\n",
       "</style>\n",
       "<table border=\"1\" class=\"dataframe\">\n",
       "  <thead>\n",
       "    <tr style=\"text-align: right;\">\n",
       "      <th></th>\n",
       "      <th>mse</th>\n",
       "      <th>bias</th>\n",
       "      <th>variance</th>\n",
       "    </tr>\n",
       "    <tr>\n",
       "      <th>regression type</th>\n",
       "      <th></th>\n",
       "      <th></th>\n",
       "      <th></th>\n",
       "    </tr>\n",
       "  </thead>\n",
       "  <tbody>\n",
       "    <tr>\n",
       "      <th>OLS</th>\n",
       "      <td>0.361177</td>\n",
       "      <td>0.353516</td>\n",
       "      <td>0.007661</td>\n",
       "    </tr>\n",
       "    <tr>\n",
       "      <th>ridge</th>\n",
       "      <td>0.361109</td>\n",
       "      <td>0.353462</td>\n",
       "      <td>0.007647</td>\n",
       "    </tr>\n",
       "  </tbody>\n",
       "</table>\n",
       "</div>"
      ],
      "text/plain": [
       "                      mse      bias  variance\n",
       "regression type                              \n",
       "OLS              0.361177  0.353516  0.007661\n",
       "ridge            0.361109  0.353462  0.007647"
      ]
     },
     "metadata": {},
     "output_type": "display_data"
    },
    {
     "name": "stdout",
     "output_type": "stream",
     "text": [
      "\n",
      "\n",
      "Cross-validation\n"
     ]
    },
    {
     "data": {
      "text/html": [
       "<div>\n",
       "<style scoped>\n",
       "    .dataframe tbody tr th:only-of-type {\n",
       "        vertical-align: middle;\n",
       "    }\n",
       "\n",
       "    .dataframe tbody tr th {\n",
       "        vertical-align: top;\n",
       "    }\n",
       "\n",
       "    .dataframe thead th {\n",
       "        text-align: right;\n",
       "    }\n",
       "</style>\n",
       "<table border=\"1\" class=\"dataframe\">\n",
       "  <thead>\n",
       "    <tr style=\"text-align: right;\">\n",
       "      <th></th>\n",
       "      <th>mse</th>\n",
       "    </tr>\n",
       "    <tr>\n",
       "      <th>regression type</th>\n",
       "      <th></th>\n",
       "    </tr>\n",
       "  </thead>\n",
       "  <tbody>\n",
       "    <tr>\n",
       "      <th>OLS</th>\n",
       "      <td>0.327560</td>\n",
       "    </tr>\n",
       "    <tr>\n",
       "      <th>ridge</th>\n",
       "      <td>0.327537</td>\n",
       "    </tr>\n",
       "  </tbody>\n",
       "</table>\n",
       "</div>"
      ],
      "text/plain": [
       "                      mse\n",
       "regression type          \n",
       "OLS              0.327560\n",
       "ridge            0.327537"
      ]
     },
     "metadata": {},
     "output_type": "display_data"
    },
    {
     "name": "stdout",
     "output_type": "stream",
     "text": [
      "\n",
      "Polynomial degree: 4\n",
      "\n",
      "Bootstrap\n"
     ]
    },
    {
     "data": {
      "text/html": [
       "<div>\n",
       "<style scoped>\n",
       "    .dataframe tbody tr th:only-of-type {\n",
       "        vertical-align: middle;\n",
       "    }\n",
       "\n",
       "    .dataframe tbody tr th {\n",
       "        vertical-align: top;\n",
       "    }\n",
       "\n",
       "    .dataframe thead th {\n",
       "        text-align: right;\n",
       "    }\n",
       "</style>\n",
       "<table border=\"1\" class=\"dataframe\">\n",
       "  <thead>\n",
       "    <tr style=\"text-align: right;\">\n",
       "      <th></th>\n",
       "      <th>mse</th>\n",
       "      <th>bias</th>\n",
       "      <th>variance</th>\n",
       "    </tr>\n",
       "    <tr>\n",
       "      <th>regression type</th>\n",
       "      <th></th>\n",
       "      <th></th>\n",
       "      <th></th>\n",
       "    </tr>\n",
       "  </thead>\n",
       "  <tbody>\n",
       "    <tr>\n",
       "      <th>OLS</th>\n",
       "      <td>0.338962</td>\n",
       "      <td>0.326422</td>\n",
       "      <td>0.01254</td>\n",
       "    </tr>\n",
       "    <tr>\n",
       "      <th>ridge</th>\n",
       "      <td>0.337774</td>\n",
       "      <td>0.325694</td>\n",
       "      <td>0.01208</td>\n",
       "    </tr>\n",
       "  </tbody>\n",
       "</table>\n",
       "</div>"
      ],
      "text/plain": [
       "                      mse      bias  variance\n",
       "regression type                              \n",
       "OLS              0.338962  0.326422   0.01254\n",
       "ridge            0.337774  0.325694   0.01208"
      ]
     },
     "metadata": {},
     "output_type": "display_data"
    },
    {
     "name": "stdout",
     "output_type": "stream",
     "text": [
      "\n",
      "\n",
      "Cross-validation\n"
     ]
    },
    {
     "data": {
      "text/html": [
       "<div>\n",
       "<style scoped>\n",
       "    .dataframe tbody tr th:only-of-type {\n",
       "        vertical-align: middle;\n",
       "    }\n",
       "\n",
       "    .dataframe tbody tr th {\n",
       "        vertical-align: top;\n",
       "    }\n",
       "\n",
       "    .dataframe thead th {\n",
       "        text-align: right;\n",
       "    }\n",
       "</style>\n",
       "<table border=\"1\" class=\"dataframe\">\n",
       "  <thead>\n",
       "    <tr style=\"text-align: right;\">\n",
       "      <th></th>\n",
       "      <th>mse</th>\n",
       "    </tr>\n",
       "    <tr>\n",
       "      <th>regression type</th>\n",
       "      <th></th>\n",
       "    </tr>\n",
       "  </thead>\n",
       "  <tbody>\n",
       "    <tr>\n",
       "      <th>OLS</th>\n",
       "      <td>0.314723</td>\n",
       "    </tr>\n",
       "    <tr>\n",
       "      <th>ridge</th>\n",
       "      <td>0.314523</td>\n",
       "    </tr>\n",
       "  </tbody>\n",
       "</table>\n",
       "</div>"
      ],
      "text/plain": [
       "                      mse\n",
       "regression type          \n",
       "OLS              0.314723\n",
       "ridge            0.314523"
      ]
     },
     "metadata": {},
     "output_type": "display_data"
    },
    {
     "name": "stdout",
     "output_type": "stream",
     "text": [
      "\n",
      "Polynomial degree: 5\n",
      "\n",
      "Bootstrap\n"
     ]
    },
    {
     "data": {
      "text/html": [
       "<div>\n",
       "<style scoped>\n",
       "    .dataframe tbody tr th:only-of-type {\n",
       "        vertical-align: middle;\n",
       "    }\n",
       "\n",
       "    .dataframe tbody tr th {\n",
       "        vertical-align: top;\n",
       "    }\n",
       "\n",
       "    .dataframe thead th {\n",
       "        text-align: right;\n",
       "    }\n",
       "</style>\n",
       "<table border=\"1\" class=\"dataframe\">\n",
       "  <thead>\n",
       "    <tr style=\"text-align: right;\">\n",
       "      <th></th>\n",
       "      <th>mse</th>\n",
       "      <th>bias</th>\n",
       "      <th>variance</th>\n",
       "    </tr>\n",
       "    <tr>\n",
       "      <th>regression type</th>\n",
       "      <th></th>\n",
       "      <th></th>\n",
       "      <th></th>\n",
       "    </tr>\n",
       "  </thead>\n",
       "  <tbody>\n",
       "    <tr>\n",
       "      <th>OLS</th>\n",
       "      <td>0.385875</td>\n",
       "      <td>0.364050</td>\n",
       "      <td>0.021826</td>\n",
       "    </tr>\n",
       "    <tr>\n",
       "      <th>ridge</th>\n",
       "      <td>0.395168</td>\n",
       "      <td>0.380443</td>\n",
       "      <td>0.014725</td>\n",
       "    </tr>\n",
       "  </tbody>\n",
       "</table>\n",
       "</div>"
      ],
      "text/plain": [
       "                      mse      bias  variance\n",
       "regression type                              \n",
       "OLS              0.385875  0.364050  0.021826\n",
       "ridge            0.395168  0.380443  0.014725"
      ]
     },
     "metadata": {},
     "output_type": "display_data"
    },
    {
     "name": "stdout",
     "output_type": "stream",
     "text": [
      "\n",
      "\n",
      "Cross-validation\n"
     ]
    },
    {
     "data": {
      "text/html": [
       "<div>\n",
       "<style scoped>\n",
       "    .dataframe tbody tr th:only-of-type {\n",
       "        vertical-align: middle;\n",
       "    }\n",
       "\n",
       "    .dataframe tbody tr th {\n",
       "        vertical-align: top;\n",
       "    }\n",
       "\n",
       "    .dataframe thead th {\n",
       "        text-align: right;\n",
       "    }\n",
       "</style>\n",
       "<table border=\"1\" class=\"dataframe\">\n",
       "  <thead>\n",
       "    <tr style=\"text-align: right;\">\n",
       "      <th></th>\n",
       "      <th>mse</th>\n",
       "    </tr>\n",
       "    <tr>\n",
       "      <th>regression type</th>\n",
       "      <th></th>\n",
       "    </tr>\n",
       "  </thead>\n",
       "  <tbody>\n",
       "    <tr>\n",
       "      <th>OLS</th>\n",
       "      <td>0.298608</td>\n",
       "    </tr>\n",
       "    <tr>\n",
       "      <th>ridge</th>\n",
       "      <td>0.301059</td>\n",
       "    </tr>\n",
       "  </tbody>\n",
       "</table>\n",
       "</div>"
      ],
      "text/plain": [
       "                      mse\n",
       "regression type          \n",
       "OLS              0.298608\n",
       "ridge            0.301059"
      ]
     },
     "metadata": {},
     "output_type": "display_data"
    },
    {
     "name": "stdout",
     "output_type": "stream",
     "text": [
      "\n",
      "Polynomial degree: 6\n",
      "\n",
      "Bootstrap\n"
     ]
    },
    {
     "data": {
      "text/html": [
       "<div>\n",
       "<style scoped>\n",
       "    .dataframe tbody tr th:only-of-type {\n",
       "        vertical-align: middle;\n",
       "    }\n",
       "\n",
       "    .dataframe tbody tr th {\n",
       "        vertical-align: top;\n",
       "    }\n",
       "\n",
       "    .dataframe thead th {\n",
       "        text-align: right;\n",
       "    }\n",
       "</style>\n",
       "<table border=\"1\" class=\"dataframe\">\n",
       "  <thead>\n",
       "    <tr style=\"text-align: right;\">\n",
       "      <th></th>\n",
       "      <th>mse</th>\n",
       "      <th>bias</th>\n",
       "      <th>variance</th>\n",
       "    </tr>\n",
       "    <tr>\n",
       "      <th>regression type</th>\n",
       "      <th></th>\n",
       "      <th></th>\n",
       "      <th></th>\n",
       "    </tr>\n",
       "  </thead>\n",
       "  <tbody>\n",
       "    <tr>\n",
       "      <th>OLS</th>\n",
       "      <td>0.340534</td>\n",
       "      <td>0.304685</td>\n",
       "      <td>0.035849</td>\n",
       "    </tr>\n",
       "    <tr>\n",
       "      <th>ridge</th>\n",
       "      <td>0.327565</td>\n",
       "      <td>0.306411</td>\n",
       "      <td>0.021155</td>\n",
       "    </tr>\n",
       "  </tbody>\n",
       "</table>\n",
       "</div>"
      ],
      "text/plain": [
       "                      mse      bias  variance\n",
       "regression type                              \n",
       "OLS              0.340534  0.304685  0.035849\n",
       "ridge            0.327565  0.306411  0.021155"
      ]
     },
     "metadata": {},
     "output_type": "display_data"
    },
    {
     "name": "stdout",
     "output_type": "stream",
     "text": [
      "\n",
      "\n",
      "Cross-validation\n"
     ]
    },
    {
     "data": {
      "text/html": [
       "<div>\n",
       "<style scoped>\n",
       "    .dataframe tbody tr th:only-of-type {\n",
       "        vertical-align: middle;\n",
       "    }\n",
       "\n",
       "    .dataframe tbody tr th {\n",
       "        vertical-align: top;\n",
       "    }\n",
       "\n",
       "    .dataframe thead th {\n",
       "        text-align: right;\n",
       "    }\n",
       "</style>\n",
       "<table border=\"1\" class=\"dataframe\">\n",
       "  <thead>\n",
       "    <tr style=\"text-align: right;\">\n",
       "      <th></th>\n",
       "      <th>mse</th>\n",
       "    </tr>\n",
       "    <tr>\n",
       "      <th>regression type</th>\n",
       "      <th></th>\n",
       "    </tr>\n",
       "  </thead>\n",
       "  <tbody>\n",
       "    <tr>\n",
       "      <th>OLS</th>\n",
       "      <td>0.283374</td>\n",
       "    </tr>\n",
       "    <tr>\n",
       "      <th>ridge</th>\n",
       "      <td>0.295862</td>\n",
       "    </tr>\n",
       "  </tbody>\n",
       "</table>\n",
       "</div>"
      ],
      "text/plain": [
       "                      mse\n",
       "regression type          \n",
       "OLS              0.283374\n",
       "ridge            0.295862"
      ]
     },
     "metadata": {},
     "output_type": "display_data"
    },
    {
     "name": "stdout",
     "output_type": "stream",
     "text": [
      "\n",
      "Polynomial degree: 7\n",
      "\n",
      "Bootstrap\n"
     ]
    },
    {
     "data": {
      "text/html": [
       "<div>\n",
       "<style scoped>\n",
       "    .dataframe tbody tr th:only-of-type {\n",
       "        vertical-align: middle;\n",
       "    }\n",
       "\n",
       "    .dataframe tbody tr th {\n",
       "        vertical-align: top;\n",
       "    }\n",
       "\n",
       "    .dataframe thead th {\n",
       "        text-align: right;\n",
       "    }\n",
       "</style>\n",
       "<table border=\"1\" class=\"dataframe\">\n",
       "  <thead>\n",
       "    <tr style=\"text-align: right;\">\n",
       "      <th></th>\n",
       "      <th>mse</th>\n",
       "      <th>bias</th>\n",
       "      <th>variance</th>\n",
       "    </tr>\n",
       "    <tr>\n",
       "      <th>regression type</th>\n",
       "      <th></th>\n",
       "      <th></th>\n",
       "      <th></th>\n",
       "    </tr>\n",
       "  </thead>\n",
       "  <tbody>\n",
       "    <tr>\n",
       "      <th>OLS</th>\n",
       "      <td>0.427522</td>\n",
       "      <td>0.349410</td>\n",
       "      <td>0.078112</td>\n",
       "    </tr>\n",
       "    <tr>\n",
       "      <th>ridge</th>\n",
       "      <td>0.381844</td>\n",
       "      <td>0.353604</td>\n",
       "      <td>0.028240</td>\n",
       "    </tr>\n",
       "  </tbody>\n",
       "</table>\n",
       "</div>"
      ],
      "text/plain": [
       "                      mse      bias  variance\n",
       "regression type                              \n",
       "OLS              0.427522  0.349410  0.078112\n",
       "ridge            0.381844  0.353604  0.028240"
      ]
     },
     "metadata": {},
     "output_type": "display_data"
    },
    {
     "name": "stdout",
     "output_type": "stream",
     "text": [
      "\n",
      "\n",
      "Cross-validation\n"
     ]
    },
    {
     "data": {
      "text/html": [
       "<div>\n",
       "<style scoped>\n",
       "    .dataframe tbody tr th:only-of-type {\n",
       "        vertical-align: middle;\n",
       "    }\n",
       "\n",
       "    .dataframe tbody tr th {\n",
       "        vertical-align: top;\n",
       "    }\n",
       "\n",
       "    .dataframe thead th {\n",
       "        text-align: right;\n",
       "    }\n",
       "</style>\n",
       "<table border=\"1\" class=\"dataframe\">\n",
       "  <thead>\n",
       "    <tr style=\"text-align: right;\">\n",
       "      <th></th>\n",
       "      <th>mse</th>\n",
       "    </tr>\n",
       "    <tr>\n",
       "      <th>regression type</th>\n",
       "      <th></th>\n",
       "    </tr>\n",
       "  </thead>\n",
       "  <tbody>\n",
       "    <tr>\n",
       "      <th>OLS</th>\n",
       "      <td>0.293943</td>\n",
       "    </tr>\n",
       "    <tr>\n",
       "      <th>ridge</th>\n",
       "      <td>0.291445</td>\n",
       "    </tr>\n",
       "  </tbody>\n",
       "</table>\n",
       "</div>"
      ],
      "text/plain": [
       "                      mse\n",
       "regression type          \n",
       "OLS              0.293943\n",
       "ridge            0.291445"
      ]
     },
     "metadata": {},
     "output_type": "display_data"
    },
    {
     "name": "stdout",
     "output_type": "stream",
     "text": [
      "\n",
      "Polynomial degree: 8\n",
      "\n",
      "Bootstrap\n"
     ]
    },
    {
     "data": {
      "text/html": [
       "<div>\n",
       "<style scoped>\n",
       "    .dataframe tbody tr th:only-of-type {\n",
       "        vertical-align: middle;\n",
       "    }\n",
       "\n",
       "    .dataframe tbody tr th {\n",
       "        vertical-align: top;\n",
       "    }\n",
       "\n",
       "    .dataframe thead th {\n",
       "        text-align: right;\n",
       "    }\n",
       "</style>\n",
       "<table border=\"1\" class=\"dataframe\">\n",
       "  <thead>\n",
       "    <tr style=\"text-align: right;\">\n",
       "      <th></th>\n",
       "      <th>mse</th>\n",
       "      <th>bias</th>\n",
       "      <th>variance</th>\n",
       "    </tr>\n",
       "    <tr>\n",
       "      <th>regression type</th>\n",
       "      <th></th>\n",
       "      <th></th>\n",
       "      <th></th>\n",
       "    </tr>\n",
       "  </thead>\n",
       "  <tbody>\n",
       "    <tr>\n",
       "      <th>OLS</th>\n",
       "      <td>0.914389</td>\n",
       "      <td>0.489203</td>\n",
       "      <td>0.425186</td>\n",
       "    </tr>\n",
       "    <tr>\n",
       "      <th>ridge</th>\n",
       "      <td>0.424207</td>\n",
       "      <td>0.389213</td>\n",
       "      <td>0.034995</td>\n",
       "    </tr>\n",
       "  </tbody>\n",
       "</table>\n",
       "</div>"
      ],
      "text/plain": [
       "                      mse      bias  variance\n",
       "regression type                              \n",
       "OLS              0.914389  0.489203  0.425186\n",
       "ridge            0.424207  0.389213  0.034995"
      ]
     },
     "metadata": {},
     "output_type": "display_data"
    },
    {
     "name": "stdout",
     "output_type": "stream",
     "text": [
      "\n",
      "\n",
      "Cross-validation\n"
     ]
    },
    {
     "data": {
      "text/html": [
       "<div>\n",
       "<style scoped>\n",
       "    .dataframe tbody tr th:only-of-type {\n",
       "        vertical-align: middle;\n",
       "    }\n",
       "\n",
       "    .dataframe tbody tr th {\n",
       "        vertical-align: top;\n",
       "    }\n",
       "\n",
       "    .dataframe thead th {\n",
       "        text-align: right;\n",
       "    }\n",
       "</style>\n",
       "<table border=\"1\" class=\"dataframe\">\n",
       "  <thead>\n",
       "    <tr style=\"text-align: right;\">\n",
       "      <th></th>\n",
       "      <th>mse</th>\n",
       "    </tr>\n",
       "    <tr>\n",
       "      <th>regression type</th>\n",
       "      <th></th>\n",
       "    </tr>\n",
       "  </thead>\n",
       "  <tbody>\n",
       "    <tr>\n",
       "      <th>OLS</th>\n",
       "      <td>0.320473</td>\n",
       "    </tr>\n",
       "    <tr>\n",
       "      <th>ridge</th>\n",
       "      <td>0.292902</td>\n",
       "    </tr>\n",
       "  </tbody>\n",
       "</table>\n",
       "</div>"
      ],
      "text/plain": [
       "                      mse\n",
       "regression type          \n",
       "OLS              0.320473\n",
       "ridge            0.292902"
      ]
     },
     "metadata": {},
     "output_type": "display_data"
    },
    {
     "name": "stdout",
     "output_type": "stream",
     "text": [
      "\n",
      "Polynomial degree: 9\n",
      "\n",
      "Bootstrap\n"
     ]
    },
    {
     "data": {
      "text/html": [
       "<div>\n",
       "<style scoped>\n",
       "    .dataframe tbody tr th:only-of-type {\n",
       "        vertical-align: middle;\n",
       "    }\n",
       "\n",
       "    .dataframe tbody tr th {\n",
       "        vertical-align: top;\n",
       "    }\n",
       "\n",
       "    .dataframe thead th {\n",
       "        text-align: right;\n",
       "    }\n",
       "</style>\n",
       "<table border=\"1\" class=\"dataframe\">\n",
       "  <thead>\n",
       "    <tr style=\"text-align: right;\">\n",
       "      <th></th>\n",
       "      <th>mse</th>\n",
       "      <th>bias</th>\n",
       "      <th>variance</th>\n",
       "    </tr>\n",
       "    <tr>\n",
       "      <th>regression type</th>\n",
       "      <th></th>\n",
       "      <th></th>\n",
       "      <th></th>\n",
       "    </tr>\n",
       "  </thead>\n",
       "  <tbody>\n",
       "    <tr>\n",
       "      <th>OLS</th>\n",
       "      <td>2.767866</td>\n",
       "      <td>0.896239</td>\n",
       "      <td>1.871627</td>\n",
       "    </tr>\n",
       "    <tr>\n",
       "      <th>ridge</th>\n",
       "      <td>0.527184</td>\n",
       "      <td>0.410251</td>\n",
       "      <td>0.116933</td>\n",
       "    </tr>\n",
       "  </tbody>\n",
       "</table>\n",
       "</div>"
      ],
      "text/plain": [
       "                      mse      bias  variance\n",
       "regression type                              \n",
       "OLS              2.767866  0.896239  1.871627\n",
       "ridge            0.527184  0.410251  0.116933"
      ]
     },
     "metadata": {},
     "output_type": "display_data"
    },
    {
     "name": "stdout",
     "output_type": "stream",
     "text": [
      "\n",
      "\n",
      "Cross-validation\n"
     ]
    },
    {
     "data": {
      "text/html": [
       "<div>\n",
       "<style scoped>\n",
       "    .dataframe tbody tr th:only-of-type {\n",
       "        vertical-align: middle;\n",
       "    }\n",
       "\n",
       "    .dataframe tbody tr th {\n",
       "        vertical-align: top;\n",
       "    }\n",
       "\n",
       "    .dataframe thead th {\n",
       "        text-align: right;\n",
       "    }\n",
       "</style>\n",
       "<table border=\"1\" class=\"dataframe\">\n",
       "  <thead>\n",
       "    <tr style=\"text-align: right;\">\n",
       "      <th></th>\n",
       "      <th>mse</th>\n",
       "    </tr>\n",
       "    <tr>\n",
       "      <th>regression type</th>\n",
       "      <th></th>\n",
       "    </tr>\n",
       "  </thead>\n",
       "  <tbody>\n",
       "    <tr>\n",
       "      <th>OLS</th>\n",
       "      <td>0.368816</td>\n",
       "    </tr>\n",
       "    <tr>\n",
       "      <th>ridge</th>\n",
       "      <td>0.296343</td>\n",
       "    </tr>\n",
       "  </tbody>\n",
       "</table>\n",
       "</div>"
      ],
      "text/plain": [
       "                      mse\n",
       "regression type          \n",
       "OLS              0.368816\n",
       "ridge            0.296343"
      ]
     },
     "metadata": {},
     "output_type": "display_data"
    },
    {
     "name": "stdout",
     "output_type": "stream",
     "text": [
      "\n",
      "Polynomial degree: 10\n",
      "\n",
      "Bootstrap\n"
     ]
    },
    {
     "data": {
      "text/html": [
       "<div>\n",
       "<style scoped>\n",
       "    .dataframe tbody tr th:only-of-type {\n",
       "        vertical-align: middle;\n",
       "    }\n",
       "\n",
       "    .dataframe tbody tr th {\n",
       "        vertical-align: top;\n",
       "    }\n",
       "\n",
       "    .dataframe thead th {\n",
       "        text-align: right;\n",
       "    }\n",
       "</style>\n",
       "<table border=\"1\" class=\"dataframe\">\n",
       "  <thead>\n",
       "    <tr style=\"text-align: right;\">\n",
       "      <th></th>\n",
       "      <th>mse</th>\n",
       "      <th>bias</th>\n",
       "      <th>variance</th>\n",
       "    </tr>\n",
       "    <tr>\n",
       "      <th>regression type</th>\n",
       "      <th></th>\n",
       "      <th></th>\n",
       "      <th></th>\n",
       "    </tr>\n",
       "  </thead>\n",
       "  <tbody>\n",
       "    <tr>\n",
       "      <th>OLS</th>\n",
       "      <td>39.926899</td>\n",
       "      <td>21.959821</td>\n",
       "      <td>17.967078</td>\n",
       "    </tr>\n",
       "    <tr>\n",
       "      <th>ridge</th>\n",
       "      <td>1.685689</td>\n",
       "      <td>1.419055</td>\n",
       "      <td>0.266634</td>\n",
       "    </tr>\n",
       "  </tbody>\n",
       "</table>\n",
       "</div>"
      ],
      "text/plain": [
       "                       mse       bias   variance\n",
       "regression type                                 \n",
       "OLS              39.926899  21.959821  17.967078\n",
       "ridge             1.685689   1.419055   0.266634"
      ]
     },
     "metadata": {},
     "output_type": "display_data"
    },
    {
     "name": "stdout",
     "output_type": "stream",
     "text": [
      "\n",
      "\n",
      "Cross-validation\n"
     ]
    },
    {
     "data": {
      "text/html": [
       "<div>\n",
       "<style scoped>\n",
       "    .dataframe tbody tr th:only-of-type {\n",
       "        vertical-align: middle;\n",
       "    }\n",
       "\n",
       "    .dataframe tbody tr th {\n",
       "        vertical-align: top;\n",
       "    }\n",
       "\n",
       "    .dataframe thead th {\n",
       "        text-align: right;\n",
       "    }\n",
       "</style>\n",
       "<table border=\"1\" class=\"dataframe\">\n",
       "  <thead>\n",
       "    <tr style=\"text-align: right;\">\n",
       "      <th></th>\n",
       "      <th>mse</th>\n",
       "    </tr>\n",
       "    <tr>\n",
       "      <th>regression type</th>\n",
       "      <th></th>\n",
       "    </tr>\n",
       "  </thead>\n",
       "  <tbody>\n",
       "    <tr>\n",
       "      <th>OLS</th>\n",
       "      <td>0.451438</td>\n",
       "    </tr>\n",
       "    <tr>\n",
       "      <th>ridge</th>\n",
       "      <td>0.298731</td>\n",
       "    </tr>\n",
       "  </tbody>\n",
       "</table>\n",
       "</div>"
      ],
      "text/plain": [
       "                      mse\n",
       "regression type          \n",
       "OLS              0.451438\n",
       "ridge            0.298731"
      ]
     },
     "metadata": {},
     "output_type": "display_data"
    },
    {
     "name": "stdout",
     "output_type": "stream",
     "text": [
      "\n",
      "Polynomial degree: 11\n",
      "\n",
      "Bootstrap\n"
     ]
    },
    {
     "data": {
      "text/html": [
       "<div>\n",
       "<style scoped>\n",
       "    .dataframe tbody tr th:only-of-type {\n",
       "        vertical-align: middle;\n",
       "    }\n",
       "\n",
       "    .dataframe tbody tr th {\n",
       "        vertical-align: top;\n",
       "    }\n",
       "\n",
       "    .dataframe thead th {\n",
       "        text-align: right;\n",
       "    }\n",
       "</style>\n",
       "<table border=\"1\" class=\"dataframe\">\n",
       "  <thead>\n",
       "    <tr style=\"text-align: right;\">\n",
       "      <th></th>\n",
       "      <th>mse</th>\n",
       "      <th>bias</th>\n",
       "      <th>variance</th>\n",
       "    </tr>\n",
       "    <tr>\n",
       "      <th>regression type</th>\n",
       "      <th></th>\n",
       "      <th></th>\n",
       "      <th></th>\n",
       "    </tr>\n",
       "  </thead>\n",
       "  <tbody>\n",
       "    <tr>\n",
       "      <th>OLS</th>\n",
       "      <td>0.620761</td>\n",
       "      <td>0.379091</td>\n",
       "      <td>0.241670</td>\n",
       "    </tr>\n",
       "    <tr>\n",
       "      <th>ridge</th>\n",
       "      <td>0.408088</td>\n",
       "      <td>0.386442</td>\n",
       "      <td>0.021645</td>\n",
       "    </tr>\n",
       "  </tbody>\n",
       "</table>\n",
       "</div>"
      ],
      "text/plain": [
       "                      mse      bias  variance\n",
       "regression type                              \n",
       "OLS              0.620761  0.379091  0.241670\n",
       "ridge            0.408088  0.386442  0.021645"
      ]
     },
     "metadata": {},
     "output_type": "display_data"
    },
    {
     "name": "stdout",
     "output_type": "stream",
     "text": [
      "\n",
      "\n",
      "Cross-validation\n"
     ]
    },
    {
     "data": {
      "text/html": [
       "<div>\n",
       "<style scoped>\n",
       "    .dataframe tbody tr th:only-of-type {\n",
       "        vertical-align: middle;\n",
       "    }\n",
       "\n",
       "    .dataframe tbody tr th {\n",
       "        vertical-align: top;\n",
       "    }\n",
       "\n",
       "    .dataframe thead th {\n",
       "        text-align: right;\n",
       "    }\n",
       "</style>\n",
       "<table border=\"1\" class=\"dataframe\">\n",
       "  <thead>\n",
       "    <tr style=\"text-align: right;\">\n",
       "      <th></th>\n",
       "      <th>mse</th>\n",
       "    </tr>\n",
       "    <tr>\n",
       "      <th>regression type</th>\n",
       "      <th></th>\n",
       "    </tr>\n",
       "  </thead>\n",
       "  <tbody>\n",
       "    <tr>\n",
       "      <th>OLS</th>\n",
       "      <td>0.619847</td>\n",
       "    </tr>\n",
       "    <tr>\n",
       "      <th>ridge</th>\n",
       "      <td>0.300234</td>\n",
       "    </tr>\n",
       "  </tbody>\n",
       "</table>\n",
       "</div>"
      ],
      "text/plain": [
       "                      mse\n",
       "regression type          \n",
       "OLS              0.619847\n",
       "ridge            0.300234"
      ]
     },
     "metadata": {},
     "output_type": "display_data"
    },
    {
     "name": "stdout",
     "output_type": "stream",
     "text": [
      "\n"
     ]
    }
   ],
   "source": [
    "# Bootstrap parameters\n",
    "n_bootstraps = 1000\n",
    "maxdegree = 12\n",
    "\n",
    "#cross_validation parameters\n",
    "k = 10\n",
    "kfold = KFold(n_splits = k, shuffle=True, random_state=22)\n",
    "\n",
    "polydegrees = np.zeros(maxdegree)\n",
    "\n",
    "#Error arrays\n",
    "mse_ridge_bootstrap = np.zeros(maxdegree)\n",
    "mse_ols_bootstrap = np.zeros(maxdegree)\n",
    "\n",
    "bias_ridge_bootstrap = np.zeros(maxdegree)\n",
    "bias_ols_bootstrap = np.zeros(maxdegree)\n",
    "\n",
    "variance_ridge_bootstrap = np.zeros(maxdegree)\n",
    "variance_ols_bootstrap = np.zeros(maxdegree)\n",
    "\n",
    "mse_ridge_cvd = np.zeros(maxdegree)\n",
    "mse_ols_cvd = np.zeros(maxdegree)\n",
    "\n",
    "\n",
    "lmd = 0.001\n",
    "\n",
    "for i in range(maxdegree):\n",
    "    degree = i\n",
    "    polydegrees[i] = degree\n",
    "    print(\"Polynomial degree: %i\" %(i))\n",
    "    X = create_X(x_flat, y_flat, degree)\n",
    "    X_train, X_test, z_train, z_test = train_test_split(X,z, test_size=0.2)\n",
    "    X_train, X_test, z_train, z_test = scale(X_train, X_test, z_train, z_test)\n",
    "    \n",
    "    #Bootstrap\n",
    "    z_pred_ridge_bootstrap = np.empty((z_test.shape[0], n_bootstraps))\n",
    "    z_pred_ols_bootstrap = np.empty((z_test.shape[0], n_bootstraps))\n",
    "    print(\"\")\n",
    "    print(\"Bootstrap\")\n",
    "    for j in range(n_bootstraps):\n",
    "\n",
    "        x_bs,z_bs = resample(X_train,z_train)\n",
    "        \n",
    "        I_ = np.eye(X_train.shape[1], X_train.shape[1])\n",
    "        \n",
    "        beta_ridge_bootstrap = np.linalg.pinv(x_bs.T @ x_bs + lmd*I_) @ x_bs.T @ z_bs\n",
    "        beta_ols_bootstrap = np.linalg.pinv(x_bs.T @ x_bs) @ x_bs.T @ z_bs\n",
    "        \n",
    "        z_pred_ols_bootstrap[:,j] = X_test @ beta_ols_bootstrap\n",
    "        z_pred_ridge_bootstrap[:,j] = X_test @ beta_ridge_bootstrap\n",
    "        \n",
    "    #Bootstrap errors\n",
    "    mse_ridge_bootstrap[i] = np.mean(np.mean((z_test.reshape(-1,1) - z_pred_ridge_bootstrap)**2, axis=1, keepdims=True))\n",
    "    mse_ols_bootstrap[i] = np.mean(np.mean((z_test.reshape(-1,1) - z_pred_ols_bootstrap)**2, axis=1, keepdims=True))\n",
    "    \n",
    "    bias_ridge_bootstrap[i] = np.mean((z_test.reshape(-1,1) - np.mean(z_pred_ridge_bootstrap, axis=1, keepdims=True))**2)\n",
    "    bias_ols_bootstrap[i] = np.mean((z_test.reshape(-1,1) - np.mean(z_pred_ols_bootstrap, axis=1, keepdims=True))**2)\n",
    "    \n",
    "    variance_ridge_bootstrap[i] = np.mean(np.var(z_pred_ridge_bootstrap, axis=1, keepdims=True))\n",
    "    variance_ols_bootstrap[i] = np.mean(np.var(z_pred_ols_bootstrap, axis=1, keepdims=True)) \n",
    "    \n",
    "    # Table for displaying mse, bias and variance for the different regression methods\n",
    "    table_bs = pd.DataFrame({'regression type': ['OLS', 'ridge'],\\\n",
    "                          'mse': [mse_ols_bootstrap[i], mse_ridge_bootstrap[i]], \\\n",
    "                          'bias': [bias_ols_bootstrap[i], bias_ridge_bootstrap[i]], \\\n",
    "                          'variance':[variance_ols_bootstrap[i], variance_ridge_bootstrap[i]]})\n",
    "    \n",
    "    table_bs = table_bs.set_index('regression type')\n",
    "    display(table_bs)\n",
    "    print(\"\")\n",
    "    \n",
    "    #Cross-validation\n",
    "    cv_split = 0\n",
    "    mse_ols_cvd_split = np.zeros(k)\n",
    "    mse_ridge_cvd_split = np.zeros(k)\n",
    "    print(\"\")\n",
    "    print(\"Cross-validation\")\n",
    "    for train_indexes, test_indexes in kfold.split(X):\n",
    "        X_train = X[train_indexes]; X_test = X[test_indexes]\n",
    "        z_train = z[train_indexes]; z_test = z[test_indexes]\n",
    "        X_train, X_test, z_train, z_test = scale(X_train, X_test, z_train, z_test)\n",
    "        \n",
    "        I_ = np.eye(X_train.shape[1], X_train.shape[1])\n",
    "        \n",
    "        beta_ols_cvd = np.linalg.pinv(X_train.T @ X_train) @ X_train.T @ z_train\n",
    "        z_pred_ols_cvd = X_test @ beta_ols_cvd\n",
    "        \n",
    "        beta_ridge_cvd = np.linalg.pinv(X_train.T @ X_train + lmd*I_) @ X_train.T @ z_train\n",
    "        z_pred_ridge_cvd = X_test @ beta_ridge_cvd\n",
    "        \n",
    "        mse_ols_cvd_split[cv_split] = mean_squared_error(z_test, z_pred_ols_cvd)\n",
    "        mse_ridge_cvd_split[cv_split] = mean_squared_error(z_test, z_pred_ridge_cvd)\n",
    "    \n",
    "        cv_split += 1\n",
    "    \n",
    "    # Cvd errors\n",
    "    mse_ridge_cvd[i] = np.mean(mse_ridge_cvd_split)\n",
    "    mse_ols_cvd[i] = np.mean(mse_ols_cvd_split)\n",
    "    \n",
    "    # Table for displaying mse, bias and variance for the different regression methods\n",
    "    table_cvd = pd.DataFrame({'regression type': ['OLS', 'ridge'],\\\n",
    "                          'mse': [mse_ols_cvd[i], mse_ridge_cvd[i]]})\n",
    "    table_cvd = table_cvd.set_index('regression type')\n",
    "    display(table_cvd)\n",
    "    print(\"\")"
   ]
  },
  {
   "cell_type": "code",
   "execution_count": 14,
   "metadata": {},
   "outputs": [
    {
     "data": {
      "image/png": "[encoded data removed]",
      "text/plain": [
       "<Figure size 864x432 with 2 Axes>"
      ]
     },
     "metadata": {
      "needs_background": "light"
     },
     "output_type": "display_data"
    }
   ],
   "source": [
    "# Plot results \n",
    "\n",
    "# MSE with bootstrap for ridge vs ols\n",
    "fig, ax = plt.subplots(ncols=2, figsize=(12,6))\n",
    "\n",
    "ax[0].plot(polydegrees, mse_ols_bootstrap, label='OLS')\n",
    "ax[0].plot(polydegrees, mse_ridge_bootstrap, label=('Ridge with lambda = {}'.format(lmd)))\n",
    "ax[0].set_xlabel('Complexity')\n",
    "ax[0].set_ylabel('MSE')\n",
    "ax[0].set_ylim(0,3)\n",
    "ax[0].set_title('Bootstrap')\n",
    "ax[0].legend()\n",
    "                       \n",
    "ax[1].plot(polydegrees, mse_ols_cvd, label='OLS')\n",
    "ax[1].plot(polydegrees, mse_ridge_cvd, label='Ridge with lambda = {}'.format(lmd))\n",
    "ax[1].set_xlabel('Complexity')\n",
    "ax[1].set_ylabel('MSE')\n",
    "ax[1].set_ylim(0,3)\n",
    "ax[1].set_title('Cross-validation')\n",
    "ax[1].legend()\n",
    "plt.show()"
   ]
  },
  {
   "cell_type": "markdown",
   "metadata": {},
   "source": [
    "#### 4.3. Discussion of bias-variance trade-off  <a class=\"anchor\" id=\"4.3\"></a>\n",
    "In this example we illustrate the idea of ridge regression mentioned above, namely that ridge regression effectvly shrinks the parameter variance, and thus aid in reduce the problem of overfitting in regard to the polynomial complexity. We will reserve the discussion of the hyperparameter lambda to the end in order to compare with lasso regression. For this example, we implemented a hyperparamater of $10^{-3}$ as this resulted in the best MSE from the analysis above. "
   ]
  },
  {
   "cell_type": "markdown",
   "metadata": {},
   "source": [
    "### Exercise 5 - Lasso Regression on the Franke function with resampling\n",
    "<a class=\"anchor\" id=\"5\"></a>\n",
    "\n",
    "The same approach is used in this exercise as the previous. We do a simple lasso regression for one polynomial degree at a time, in order to find relevant values for lamda. The chosen lambdas are then used when implementing bootstrap and cvd."
   ]
  },
  {
   "cell_type": "code",
   "execution_count": 15,
   "metadata": {},
   "outputs": [
    {
     "name": "stderr",
     "output_type": "stream",
     "text": [
      "/Users/Andreas/opt/anaconda3/lib/python3.8/site-packages/sklearn/linear_model/_coordinate_descent.py:530: ConvergenceWarning: Objective did not converge. You might want to increase the number of iterations. Duality gap: 36.30992593963253, tolerance: 32.0\n",
      "  model = cd_fast.enet_coordinate_descent(\n",
      "/Users/Andreas/opt/anaconda3/lib/python3.8/site-packages/sklearn/linear_model/_coordinate_descent.py:530: ConvergenceWarning: Objective did not converge. You might want to increase the number of iterations. Duality gap: 34.90033095263986, tolerance: 32.0\n",
      "  model = cd_fast.enet_coordinate_descent(\n",
      "/Users/Andreas/opt/anaconda3/lib/python3.8/site-packages/sklearn/linear_model/_coordinate_descent.py:530: ConvergenceWarning: Objective did not converge. You might want to increase the number of iterations. Duality gap: 33.35607465047403, tolerance: 32.0\n",
      "  model = cd_fast.enet_coordinate_descent(\n"
     ]
    },
    {
     "data": {
      "image/png": "[encoded data removed]",
      "text/plain": [
       "<Figure size 432x288 with 1 Axes>"
      ]
     },
     "metadata": {
      "needs_background": "light"
     },
     "output_type": "display_data"
    }
   ],
   "source": [
    "from sklearn.linear_model import Lasso\n",
    "\n",
    "N = 20\n",
    "np.random.seed(64)\n",
    "x = np.sort(np.random.uniform(0, 1, N))\n",
    "y = np.sort(np.random.uniform(0, 1, N))\n",
    "x_mesh, y_mesh = np.meshgrid(x,y)\n",
    "x_flat = np.ravel(x_mesh)\n",
    "y_flat = np.ravel(y_mesh)\n",
    "\n",
    "z = FrankeFunction(x_flat, y_flat, 0.15)\n",
    "\n",
    "n_lambdas = 100\n",
    "lambdas = np.logspace(-5,1,n_lambdas)\n",
    "degree = 6\n",
    "\n",
    "#Error arrays\n",
    "mse = np.zeros(n_lambdas)\n",
    "\n",
    "X = create_X(x_flat, y_flat, degree)\n",
    "X_train, X_test, z_train, z_test = train_test_split(X,z, test_size=0.2)\n",
    "X_train, X_test, z_train, z_test = scale(X_train, X_test, z_train, z_test)\n",
    "for i in range(n_lambdas):\n",
    "    lmd = lambdas[i]\n",
    "    \n",
    "    lassoreg = Lasso(lmd, max_iter=1e5, tol=0.1)\n",
    "    lassoreg.fit(X_train, z_train)\n",
    "    z_pred_lasso = lassoreg.predict(X_test)\n",
    "    \n",
    "    mse[i] = mean_squared_error(z_test, z_pred_lasso)\n",
    "\n",
    "plt.plot(np.log10(lambdas), mse, label=\"Lasso\")\n",
    "plt.xlabel(\"log10(lambda)\")\n",
    "plt.ylabel(\"MSE\")\n",
    "plt.title('Simple lasso regression: mse as function of lambda')\n",
    "plt.legend()\n",
    "plt.show()"
   ]
  },
  {
   "cell_type": "markdown",
   "metadata": {},
   "source": [
    "This figure shows that a value of 1e-3 is a good choice for lasso regression as was the case for ridge, from the figure we could argue that an even lower value would be beneficial, but given the computational expense of lasso implementaton, we decided on 1e-3."
   ]
  },
  {
   "cell_type": "markdown",
   "metadata": {},
   "source": [
    "#### 5.1. Lasso regression <a class=\"anchor\" id=\"5.1\"></a>\n",
    "\n",
    "The code below performs the lasso regression, now implementing resampling and increasing complexity"
   ]
  },
  {
   "cell_type": "code",
   "execution_count": 25,
   "metadata": {},
   "outputs": [
    {
     "name": "stdout",
     "output_type": "stream",
     "text": [
      "Polynomial degree: 0\n",
      "\n",
      "Bootstrap\n"
     ]
    },
    {
     "data": {
      "text/html": [
       "<div>\n",
       "<style scoped>\n",
       "    .dataframe tbody tr th:only-of-type {\n",
       "        vertical-align: middle;\n",
       "    }\n",
       "\n",
       "    .dataframe tbody tr th {\n",
       "        vertical-align: top;\n",
       "    }\n",
       "\n",
       "    .dataframe thead th {\n",
       "        text-align: right;\n",
       "    }\n",
       "</style>\n",
       "<table border=\"1\" class=\"dataframe\">\n",
       "  <thead>\n",
       "    <tr style=\"text-align: right;\">\n",
       "      <th></th>\n",
       "      <th>mse</th>\n",
       "      <th>bias</th>\n",
       "      <th>variance</th>\n",
       "    </tr>\n",
       "    <tr>\n",
       "      <th>regression type</th>\n",
       "      <th></th>\n",
       "      <th></th>\n",
       "      <th></th>\n",
       "    </tr>\n",
       "  </thead>\n",
       "  <tbody>\n",
       "    <tr>\n",
       "      <th>OLS</th>\n",
       "      <td>1.053165</td>\n",
       "      <td>1.053165</td>\n",
       "      <td>0.0</td>\n",
       "    </tr>\n",
       "    <tr>\n",
       "      <th>ridge</th>\n",
       "      <td>1.053165</td>\n",
       "      <td>1.053165</td>\n",
       "      <td>0.0</td>\n",
       "    </tr>\n",
       "    <tr>\n",
       "      <th>lasso</th>\n",
       "      <td>1.053165</td>\n",
       "      <td>1.053165</td>\n",
       "      <td>0.0</td>\n",
       "    </tr>\n",
       "  </tbody>\n",
       "</table>\n",
       "</div>"
      ],
      "text/plain": [
       "                      mse      bias  variance\n",
       "regression type                              \n",
       "OLS              1.053165  1.053165       0.0\n",
       "ridge            1.053165  1.053165       0.0\n",
       "lasso            1.053165  1.053165       0.0"
      ]
     },
     "metadata": {},
     "output_type": "display_data"
    },
    {
     "name": "stdout",
     "output_type": "stream",
     "text": [
      "\n",
      "\n",
      "Cross-validation\n"
     ]
    },
    {
     "data": {
      "text/html": [
       "<div>\n",
       "<style scoped>\n",
       "    .dataframe tbody tr th:only-of-type {\n",
       "        vertical-align: middle;\n",
       "    }\n",
       "\n",
       "    .dataframe tbody tr th {\n",
       "        vertical-align: top;\n",
       "    }\n",
       "\n",
       "    .dataframe thead th {\n",
       "        text-align: right;\n",
       "    }\n",
       "</style>\n",
       "<table border=\"1\" class=\"dataframe\">\n",
       "  <thead>\n",
       "    <tr style=\"text-align: right;\">\n",
       "      <th></th>\n",
       "      <th>mse</th>\n",
       "    </tr>\n",
       "    <tr>\n",
       "      <th>regression type</th>\n",
       "      <th></th>\n",
       "    </tr>\n",
       "  </thead>\n",
       "  <tbody>\n",
       "    <tr>\n",
       "      <th>OLS</th>\n",
       "      <td>1.014967</td>\n",
       "    </tr>\n",
       "    <tr>\n",
       "      <th>ridge</th>\n",
       "      <td>1.014967</td>\n",
       "    </tr>\n",
       "    <tr>\n",
       "      <th>lasso</th>\n",
       "      <td>1.014967</td>\n",
       "    </tr>\n",
       "  </tbody>\n",
       "</table>\n",
       "</div>"
      ],
      "text/plain": [
       "                      mse\n",
       "regression type          \n",
       "OLS              1.014967\n",
       "ridge            1.014967\n",
       "lasso            1.014967"
      ]
     },
     "metadata": {},
     "output_type": "display_data"
    },
    {
     "name": "stdout",
     "output_type": "stream",
     "text": [
      "\n",
      "Polynomial degree: 1\n",
      "\n",
      "Bootstrap\n"
     ]
    },
    {
     "data": {
      "text/html": [
       "<div>\n",
       "<style scoped>\n",
       "    .dataframe tbody tr th:only-of-type {\n",
       "        vertical-align: middle;\n",
       "    }\n",
       "\n",
       "    .dataframe tbody tr th {\n",
       "        vertical-align: top;\n",
       "    }\n",
       "\n",
       "    .dataframe thead th {\n",
       "        text-align: right;\n",
       "    }\n",
       "</style>\n",
       "<table border=\"1\" class=\"dataframe\">\n",
       "  <thead>\n",
       "    <tr style=\"text-align: right;\">\n",
       "      <th></th>\n",
       "      <th>mse</th>\n",
       "      <th>bias</th>\n",
       "      <th>variance</th>\n",
       "    </tr>\n",
       "    <tr>\n",
       "      <th>regression type</th>\n",
       "      <th></th>\n",
       "      <th></th>\n",
       "      <th></th>\n",
       "    </tr>\n",
       "  </thead>\n",
       "  <tbody>\n",
       "    <tr>\n",
       "      <th>OLS</th>\n",
       "      <td>0.607061</td>\n",
       "      <td>0.604152</td>\n",
       "      <td>2.909249e-03</td>\n",
       "    </tr>\n",
       "    <tr>\n",
       "      <th>ridge</th>\n",
       "      <td>0.607061</td>\n",
       "      <td>0.604152</td>\n",
       "      <td>2.909228e-03</td>\n",
       "    </tr>\n",
       "    <tr>\n",
       "      <th>lasso</th>\n",
       "      <td>0.604087</td>\n",
       "      <td>0.604087</td>\n",
       "      <td>8.809775e-33</td>\n",
       "    </tr>\n",
       "  </tbody>\n",
       "</table>\n",
       "</div>"
      ],
      "text/plain": [
       "                      mse      bias      variance\n",
       "regression type                                  \n",
       "OLS              0.607061  0.604152  2.909249e-03\n",
       "ridge            0.607061  0.604152  2.909228e-03\n",
       "lasso            0.604087  0.604087  8.809775e-33"
      ]
     },
     "metadata": {},
     "output_type": "display_data"
    },
    {
     "name": "stdout",
     "output_type": "stream",
     "text": [
      "\n",
      "\n",
      "Cross-validation\n"
     ]
    },
    {
     "data": {
      "text/html": [
       "<div>\n",
       "<style scoped>\n",
       "    .dataframe tbody tr th:only-of-type {\n",
       "        vertical-align: middle;\n",
       "    }\n",
       "\n",
       "    .dataframe tbody tr th {\n",
       "        vertical-align: top;\n",
       "    }\n",
       "\n",
       "    .dataframe thead th {\n",
       "        text-align: right;\n",
       "    }\n",
       "</style>\n",
       "<table border=\"1\" class=\"dataframe\">\n",
       "  <thead>\n",
       "    <tr style=\"text-align: right;\">\n",
       "      <th></th>\n",
       "      <th>mse</th>\n",
       "    </tr>\n",
       "    <tr>\n",
       "      <th>regression type</th>\n",
       "      <th></th>\n",
       "    </tr>\n",
       "  </thead>\n",
       "  <tbody>\n",
       "    <tr>\n",
       "      <th>OLS</th>\n",
       "      <td>0.543536</td>\n",
       "    </tr>\n",
       "    <tr>\n",
       "      <th>ridge</th>\n",
       "      <td>0.543536</td>\n",
       "    </tr>\n",
       "    <tr>\n",
       "      <th>lasso</th>\n",
       "      <td>0.543543</td>\n",
       "    </tr>\n",
       "  </tbody>\n",
       "</table>\n",
       "</div>"
      ],
      "text/plain": [
       "                      mse\n",
       "regression type          \n",
       "OLS              0.543536\n",
       "ridge            0.543536\n",
       "lasso            0.543543"
      ]
     },
     "metadata": {},
     "output_type": "display_data"
    },
    {
     "name": "stdout",
     "output_type": "stream",
     "text": [
      "\n",
      "Polynomial degree: 2\n",
      "\n",
      "Bootstrap\n"
     ]
    },
    {
     "data": {
      "text/html": [
       "<div>\n",
       "<style scoped>\n",
       "    .dataframe tbody tr th:only-of-type {\n",
       "        vertical-align: middle;\n",
       "    }\n",
       "\n",
       "    .dataframe tbody tr th {\n",
       "        vertical-align: top;\n",
       "    }\n",
       "\n",
       "    .dataframe thead th {\n",
       "        text-align: right;\n",
       "    }\n",
       "</style>\n",
       "<table border=\"1\" class=\"dataframe\">\n",
       "  <thead>\n",
       "    <tr style=\"text-align: right;\">\n",
       "      <th></th>\n",
       "      <th>mse</th>\n",
       "      <th>bias</th>\n",
       "      <th>variance</th>\n",
       "    </tr>\n",
       "    <tr>\n",
       "      <th>regression type</th>\n",
       "      <th></th>\n",
       "      <th></th>\n",
       "      <th></th>\n",
       "    </tr>\n",
       "  </thead>\n",
       "  <tbody>\n",
       "    <tr>\n",
       "      <th>OLS</th>\n",
       "      <td>0.317918</td>\n",
       "      <td>0.309061</td>\n",
       "      <td>8.856466e-03</td>\n",
       "    </tr>\n",
       "    <tr>\n",
       "      <th>ridge</th>\n",
       "      <td>0.317915</td>\n",
       "      <td>0.309059</td>\n",
       "      <td>8.855613e-03</td>\n",
       "    </tr>\n",
       "    <tr>\n",
       "      <th>lasso</th>\n",
       "      <td>0.306288</td>\n",
       "      <td>0.306288</td>\n",
       "      <td>2.453364e-32</td>\n",
       "    </tr>\n",
       "  </tbody>\n",
       "</table>\n",
       "</div>"
      ],
      "text/plain": [
       "                      mse      bias      variance\n",
       "regression type                                  \n",
       "OLS              0.317918  0.309061  8.856466e-03\n",
       "ridge            0.317915  0.309059  8.855613e-03\n",
       "lasso            0.306288  0.306288  2.453364e-32"
      ]
     },
     "metadata": {},
     "output_type": "display_data"
    },
    {
     "name": "stdout",
     "output_type": "stream",
     "text": [
      "\n",
      "\n",
      "Cross-validation\n"
     ]
    },
    {
     "data": {
      "text/html": [
       "<div>\n",
       "<style scoped>\n",
       "    .dataframe tbody tr th:only-of-type {\n",
       "        vertical-align: middle;\n",
       "    }\n",
       "\n",
       "    .dataframe tbody tr th {\n",
       "        vertical-align: top;\n",
       "    }\n",
       "\n",
       "    .dataframe thead th {\n",
       "        text-align: right;\n",
       "    }\n",
       "</style>\n",
       "<table border=\"1\" class=\"dataframe\">\n",
       "  <thead>\n",
       "    <tr style=\"text-align: right;\">\n",
       "      <th></th>\n",
       "      <th>mse</th>\n",
       "    </tr>\n",
       "    <tr>\n",
       "      <th>regression type</th>\n",
       "      <th></th>\n",
       "    </tr>\n",
       "  </thead>\n",
       "  <tbody>\n",
       "    <tr>\n",
       "      <th>OLS</th>\n",
       "      <td>0.460891</td>\n",
       "    </tr>\n",
       "    <tr>\n",
       "      <th>ridge</th>\n",
       "      <td>0.460891</td>\n",
       "    </tr>\n",
       "    <tr>\n",
       "      <th>lasso</th>\n",
       "      <td>0.459969</td>\n",
       "    </tr>\n",
       "  </tbody>\n",
       "</table>\n",
       "</div>"
      ],
      "text/plain": [
       "                      mse\n",
       "regression type          \n",
       "OLS              0.460891\n",
       "ridge            0.460891\n",
       "lasso            0.459969"
      ]
     },
     "metadata": {},
     "output_type": "display_data"
    },
    {
     "name": "stdout",
     "output_type": "stream",
     "text": [
      "\n",
      "Polynomial degree: 3\n",
      "\n",
      "Bootstrap\n"
     ]
    },
    {
     "data": {
      "text/html": [
       "<div>\n",
       "<style scoped>\n",
       "    .dataframe tbody tr th:only-of-type {\n",
       "        vertical-align: middle;\n",
       "    }\n",
       "\n",
       "    .dataframe tbody tr th {\n",
       "        vertical-align: top;\n",
       "    }\n",
       "\n",
       "    .dataframe thead th {\n",
       "        text-align: right;\n",
       "    }\n",
       "</style>\n",
       "<table border=\"1\" class=\"dataframe\">\n",
       "  <thead>\n",
       "    <tr style=\"text-align: right;\">\n",
       "      <th></th>\n",
       "      <th>mse</th>\n",
       "      <th>bias</th>\n",
       "      <th>variance</th>\n",
       "    </tr>\n",
       "    <tr>\n",
       "      <th>regression type</th>\n",
       "      <th></th>\n",
       "      <th></th>\n",
       "      <th></th>\n",
       "    </tr>\n",
       "  </thead>\n",
       "  <tbody>\n",
       "    <tr>\n",
       "      <th>OLS</th>\n",
       "      <td>0.372843</td>\n",
       "      <td>0.362416</td>\n",
       "      <td>1.042740e-02</td>\n",
       "    </tr>\n",
       "    <tr>\n",
       "      <th>ridge</th>\n",
       "      <td>0.372735</td>\n",
       "      <td>0.362331</td>\n",
       "      <td>1.040423e-02</td>\n",
       "    </tr>\n",
       "    <tr>\n",
       "      <th>lasso</th>\n",
       "      <td>0.372233</td>\n",
       "      <td>0.372233</td>\n",
       "      <td>1.221100e-32</td>\n",
       "    </tr>\n",
       "  </tbody>\n",
       "</table>\n",
       "</div>"
      ],
      "text/plain": [
       "                      mse      bias      variance\n",
       "regression type                                  \n",
       "OLS              0.372843  0.362416  1.042740e-02\n",
       "ridge            0.372735  0.362331  1.040423e-02\n",
       "lasso            0.372233  0.372233  1.221100e-32"
      ]
     },
     "metadata": {},
     "output_type": "display_data"
    },
    {
     "name": "stdout",
     "output_type": "stream",
     "text": [
      "\n",
      "\n",
      "Cross-validation\n"
     ]
    },
    {
     "data": {
      "text/html": [
       "<div>\n",
       "<style scoped>\n",
       "    .dataframe tbody tr th:only-of-type {\n",
       "        vertical-align: middle;\n",
       "    }\n",
       "\n",
       "    .dataframe tbody tr th {\n",
       "        vertical-align: top;\n",
       "    }\n",
       "\n",
       "    .dataframe thead th {\n",
       "        text-align: right;\n",
       "    }\n",
       "</style>\n",
       "<table border=\"1\" class=\"dataframe\">\n",
       "  <thead>\n",
       "    <tr style=\"text-align: right;\">\n",
       "      <th></th>\n",
       "      <th>mse</th>\n",
       "    </tr>\n",
       "    <tr>\n",
       "      <th>regression type</th>\n",
       "      <th></th>\n",
       "    </tr>\n",
       "  </thead>\n",
       "  <tbody>\n",
       "    <tr>\n",
       "      <th>OLS</th>\n",
       "      <td>0.327560</td>\n",
       "    </tr>\n",
       "    <tr>\n",
       "      <th>ridge</th>\n",
       "      <td>0.327537</td>\n",
       "    </tr>\n",
       "    <tr>\n",
       "      <th>lasso</th>\n",
       "      <td>0.350756</td>\n",
       "    </tr>\n",
       "  </tbody>\n",
       "</table>\n",
       "</div>"
      ],
      "text/plain": [
       "                      mse\n",
       "regression type          \n",
       "OLS              0.327560\n",
       "ridge            0.327537\n",
       "lasso            0.350756"
      ]
     },
     "metadata": {},
     "output_type": "display_data"
    },
    {
     "name": "stdout",
     "output_type": "stream",
     "text": [
      "\n",
      "Polynomial degree: 4\n",
      "\n",
      "Bootstrap\n"
     ]
    },
    {
     "data": {
      "text/html": [
       "<div>\n",
       "<style scoped>\n",
       "    .dataframe tbody tr th:only-of-type {\n",
       "        vertical-align: middle;\n",
       "    }\n",
       "\n",
       "    .dataframe tbody tr th {\n",
       "        vertical-align: top;\n",
       "    }\n",
       "\n",
       "    .dataframe thead th {\n",
       "        text-align: right;\n",
       "    }\n",
       "</style>\n",
       "<table border=\"1\" class=\"dataframe\">\n",
       "  <thead>\n",
       "    <tr style=\"text-align: right;\">\n",
       "      <th></th>\n",
       "      <th>mse</th>\n",
       "      <th>bias</th>\n",
       "      <th>variance</th>\n",
       "    </tr>\n",
       "    <tr>\n",
       "      <th>regression type</th>\n",
       "      <th></th>\n",
       "      <th></th>\n",
       "      <th></th>\n",
       "    </tr>\n",
       "  </thead>\n",
       "  <tbody>\n",
       "    <tr>\n",
       "      <th>OLS</th>\n",
       "      <td>0.356109</td>\n",
       "      <td>0.340902</td>\n",
       "      <td>1.520692e-02</td>\n",
       "    </tr>\n",
       "    <tr>\n",
       "      <th>ridge</th>\n",
       "      <td>0.354488</td>\n",
       "      <td>0.340112</td>\n",
       "      <td>1.437613e-02</td>\n",
       "    </tr>\n",
       "    <tr>\n",
       "      <th>lasso</th>\n",
       "      <td>0.373758</td>\n",
       "      <td>0.373758</td>\n",
       "      <td>1.825902e-32</td>\n",
       "    </tr>\n",
       "  </tbody>\n",
       "</table>\n",
       "</div>"
      ],
      "text/plain": [
       "                      mse      bias      variance\n",
       "regression type                                  \n",
       "OLS              0.356109  0.340902  1.520692e-02\n",
       "ridge            0.354488  0.340112  1.437613e-02\n",
       "lasso            0.373758  0.373758  1.825902e-32"
      ]
     },
     "metadata": {},
     "output_type": "display_data"
    },
    {
     "name": "stdout",
     "output_type": "stream",
     "text": [
      "\n",
      "\n",
      "Cross-validation\n"
     ]
    },
    {
     "data": {
      "text/html": [
       "<div>\n",
       "<style scoped>\n",
       "    .dataframe tbody tr th:only-of-type {\n",
       "        vertical-align: middle;\n",
       "    }\n",
       "\n",
       "    .dataframe tbody tr th {\n",
       "        vertical-align: top;\n",
       "    }\n",
       "\n",
       "    .dataframe thead th {\n",
       "        text-align: right;\n",
       "    }\n",
       "</style>\n",
       "<table border=\"1\" class=\"dataframe\">\n",
       "  <thead>\n",
       "    <tr style=\"text-align: right;\">\n",
       "      <th></th>\n",
       "      <th>mse</th>\n",
       "    </tr>\n",
       "    <tr>\n",
       "      <th>regression type</th>\n",
       "      <th></th>\n",
       "    </tr>\n",
       "  </thead>\n",
       "  <tbody>\n",
       "    <tr>\n",
       "      <th>OLS</th>\n",
       "      <td>0.314723</td>\n",
       "    </tr>\n",
       "    <tr>\n",
       "      <th>ridge</th>\n",
       "      <td>0.314523</td>\n",
       "    </tr>\n",
       "    <tr>\n",
       "      <th>lasso</th>\n",
       "      <td>0.336961</td>\n",
       "    </tr>\n",
       "  </tbody>\n",
       "</table>\n",
       "</div>"
      ],
      "text/plain": [
       "                      mse\n",
       "regression type          \n",
       "OLS              0.314723\n",
       "ridge            0.314523\n",
       "lasso            0.336961"
      ]
     },
     "metadata": {},
     "output_type": "display_data"
    },
    {
     "name": "stdout",
     "output_type": "stream",
     "text": [
      "\n",
      "Polynomial degree: 5\n",
      "\n",
      "Bootstrap\n"
     ]
    },
    {
     "data": {
      "text/html": [
       "<div>\n",
       "<style scoped>\n",
       "    .dataframe tbody tr th:only-of-type {\n",
       "        vertical-align: middle;\n",
       "    }\n",
       "\n",
       "    .dataframe tbody tr th {\n",
       "        vertical-align: top;\n",
       "    }\n",
       "\n",
       "    .dataframe thead th {\n",
       "        text-align: right;\n",
       "    }\n",
       "</style>\n",
       "<table border=\"1\" class=\"dataframe\">\n",
       "  <thead>\n",
       "    <tr style=\"text-align: right;\">\n",
       "      <th></th>\n",
       "      <th>mse</th>\n",
       "      <th>bias</th>\n",
       "      <th>variance</th>\n",
       "    </tr>\n",
       "    <tr>\n",
       "      <th>regression type</th>\n",
       "      <th></th>\n",
       "      <th></th>\n",
       "      <th></th>\n",
       "    </tr>\n",
       "  </thead>\n",
       "  <tbody>\n",
       "    <tr>\n",
       "      <th>OLS</th>\n",
       "      <td>0.387316</td>\n",
       "      <td>0.310714</td>\n",
       "      <td>7.660144e-02</td>\n",
       "    </tr>\n",
       "    <tr>\n",
       "      <th>ridge</th>\n",
       "      <td>0.343886</td>\n",
       "      <td>0.295671</td>\n",
       "      <td>4.821461e-02</td>\n",
       "    </tr>\n",
       "    <tr>\n",
       "      <th>lasso</th>\n",
       "      <td>0.347249</td>\n",
       "      <td>0.347249</td>\n",
       "      <td>2.872825e-32</td>\n",
       "    </tr>\n",
       "  </tbody>\n",
       "</table>\n",
       "</div>"
      ],
      "text/plain": [
       "                      mse      bias      variance\n",
       "regression type                                  \n",
       "OLS              0.387316  0.310714  7.660144e-02\n",
       "ridge            0.343886  0.295671  4.821461e-02\n",
       "lasso            0.347249  0.347249  2.872825e-32"
      ]
     },
     "metadata": {},
     "output_type": "display_data"
    },
    {
     "name": "stdout",
     "output_type": "stream",
     "text": [
      "\n",
      "\n",
      "Cross-validation\n"
     ]
    },
    {
     "data": {
      "text/html": [
       "<div>\n",
       "<style scoped>\n",
       "    .dataframe tbody tr th:only-of-type {\n",
       "        vertical-align: middle;\n",
       "    }\n",
       "\n",
       "    .dataframe tbody tr th {\n",
       "        vertical-align: top;\n",
       "    }\n",
       "\n",
       "    .dataframe thead th {\n",
       "        text-align: right;\n",
       "    }\n",
       "</style>\n",
       "<table border=\"1\" class=\"dataframe\">\n",
       "  <thead>\n",
       "    <tr style=\"text-align: right;\">\n",
       "      <th></th>\n",
       "      <th>mse</th>\n",
       "    </tr>\n",
       "    <tr>\n",
       "      <th>regression type</th>\n",
       "      <th></th>\n",
       "    </tr>\n",
       "  </thead>\n",
       "  <tbody>\n",
       "    <tr>\n",
       "      <th>OLS</th>\n",
       "      <td>0.298608</td>\n",
       "    </tr>\n",
       "    <tr>\n",
       "      <th>ridge</th>\n",
       "      <td>0.301059</td>\n",
       "    </tr>\n",
       "    <tr>\n",
       "      <th>lasso</th>\n",
       "      <td>0.338757</td>\n",
       "    </tr>\n",
       "  </tbody>\n",
       "</table>\n",
       "</div>"
      ],
      "text/plain": [
       "                      mse\n",
       "regression type          \n",
       "OLS              0.298608\n",
       "ridge            0.301059\n",
       "lasso            0.338757"
      ]
     },
     "metadata": {},
     "output_type": "display_data"
    },
    {
     "name": "stdout",
     "output_type": "stream",
     "text": [
      "\n",
      "Polynomial degree: 6\n",
      "\n",
      "Bootstrap\n"
     ]
    },
    {
     "data": {
      "text/html": [
       "<div>\n",
       "<style scoped>\n",
       "    .dataframe tbody tr th:only-of-type {\n",
       "        vertical-align: middle;\n",
       "    }\n",
       "\n",
       "    .dataframe tbody tr th {\n",
       "        vertical-align: top;\n",
       "    }\n",
       "\n",
       "    .dataframe thead th {\n",
       "        text-align: right;\n",
       "    }\n",
       "</style>\n",
       "<table border=\"1\" class=\"dataframe\">\n",
       "  <thead>\n",
       "    <tr style=\"text-align: right;\">\n",
       "      <th></th>\n",
       "      <th>mse</th>\n",
       "      <th>bias</th>\n",
       "      <th>variance</th>\n",
       "    </tr>\n",
       "    <tr>\n",
       "      <th>regression type</th>\n",
       "      <th></th>\n",
       "      <th></th>\n",
       "      <th></th>\n",
       "    </tr>\n",
       "  </thead>\n",
       "  <tbody>\n",
       "    <tr>\n",
       "      <th>OLS</th>\n",
       "      <td>0.480300</td>\n",
       "      <td>0.458719</td>\n",
       "      <td>2.158136e-02</td>\n",
       "    </tr>\n",
       "    <tr>\n",
       "      <th>ridge</th>\n",
       "      <td>0.412454</td>\n",
       "      <td>0.396320</td>\n",
       "      <td>1.613346e-02</td>\n",
       "    </tr>\n",
       "    <tr>\n",
       "      <th>lasso</th>\n",
       "      <td>0.447481</td>\n",
       "      <td>0.447481</td>\n",
       "      <td>1.851481e-32</td>\n",
       "    </tr>\n",
       "  </tbody>\n",
       "</table>\n",
       "</div>"
      ],
      "text/plain": [
       "                      mse      bias      variance\n",
       "regression type                                  \n",
       "OLS              0.480300  0.458719  2.158136e-02\n",
       "ridge            0.412454  0.396320  1.613346e-02\n",
       "lasso            0.447481  0.447481  1.851481e-32"
      ]
     },
     "metadata": {},
     "output_type": "display_data"
    },
    {
     "name": "stdout",
     "output_type": "stream",
     "text": [
      "\n",
      "\n",
      "Cross-validation\n"
     ]
    },
    {
     "data": {
      "text/html": [
       "<div>\n",
       "<style scoped>\n",
       "    .dataframe tbody tr th:only-of-type {\n",
       "        vertical-align: middle;\n",
       "    }\n",
       "\n",
       "    .dataframe tbody tr th {\n",
       "        vertical-align: top;\n",
       "    }\n",
       "\n",
       "    .dataframe thead th {\n",
       "        text-align: right;\n",
       "    }\n",
       "</style>\n",
       "<table border=\"1\" class=\"dataframe\">\n",
       "  <thead>\n",
       "    <tr style=\"text-align: right;\">\n",
       "      <th></th>\n",
       "      <th>mse</th>\n",
       "    </tr>\n",
       "    <tr>\n",
       "      <th>regression type</th>\n",
       "      <th></th>\n",
       "    </tr>\n",
       "  </thead>\n",
       "  <tbody>\n",
       "    <tr>\n",
       "      <th>OLS</th>\n",
       "      <td>0.283374</td>\n",
       "    </tr>\n",
       "    <tr>\n",
       "      <th>ridge</th>\n",
       "      <td>0.295862</td>\n",
       "    </tr>\n",
       "    <tr>\n",
       "      <th>lasso</th>\n",
       "      <td>0.342351</td>\n",
       "    </tr>\n",
       "  </tbody>\n",
       "</table>\n",
       "</div>"
      ],
      "text/plain": [
       "                      mse\n",
       "regression type          \n",
       "OLS              0.283374\n",
       "ridge            0.295862\n",
       "lasso            0.342351"
      ]
     },
     "metadata": {},
     "output_type": "display_data"
    },
    {
     "name": "stdout",
     "output_type": "stream",
     "text": [
      "\n",
      "Polynomial degree: 7\n",
      "\n",
      "Bootstrap\n"
     ]
    },
    {
     "data": {
      "text/html": [
       "<div>\n",
       "<style scoped>\n",
       "    .dataframe tbody tr th:only-of-type {\n",
       "        vertical-align: middle;\n",
       "    }\n",
       "\n",
       "    .dataframe tbody tr th {\n",
       "        vertical-align: top;\n",
       "    }\n",
       "\n",
       "    .dataframe thead th {\n",
       "        text-align: right;\n",
       "    }\n",
       "</style>\n",
       "<table border=\"1\" class=\"dataframe\">\n",
       "  <thead>\n",
       "    <tr style=\"text-align: right;\">\n",
       "      <th></th>\n",
       "      <th>mse</th>\n",
       "      <th>bias</th>\n",
       "      <th>variance</th>\n",
       "    </tr>\n",
       "    <tr>\n",
       "      <th>regression type</th>\n",
       "      <th></th>\n",
       "      <th></th>\n",
       "      <th></th>\n",
       "    </tr>\n",
       "  </thead>\n",
       "  <tbody>\n",
       "    <tr>\n",
       "      <th>OLS</th>\n",
       "      <td>0.395863</td>\n",
       "      <td>0.292353</td>\n",
       "      <td>1.035102e-01</td>\n",
       "    </tr>\n",
       "    <tr>\n",
       "      <th>ridge</th>\n",
       "      <td>0.355081</td>\n",
       "      <td>0.314025</td>\n",
       "      <td>4.105573e-02</td>\n",
       "    </tr>\n",
       "    <tr>\n",
       "      <th>lasso</th>\n",
       "      <td>0.355052</td>\n",
       "      <td>0.355052</td>\n",
       "      <td>1.817657e-32</td>\n",
       "    </tr>\n",
       "  </tbody>\n",
       "</table>\n",
       "</div>"
      ],
      "text/plain": [
       "                      mse      bias      variance\n",
       "regression type                                  \n",
       "OLS              0.395863  0.292353  1.035102e-01\n",
       "ridge            0.355081  0.314025  4.105573e-02\n",
       "lasso            0.355052  0.355052  1.817657e-32"
      ]
     },
     "metadata": {},
     "output_type": "display_data"
    },
    {
     "name": "stdout",
     "output_type": "stream",
     "text": [
      "\n",
      "\n",
      "Cross-validation\n"
     ]
    },
    {
     "data": {
      "text/html": [
       "<div>\n",
       "<style scoped>\n",
       "    .dataframe tbody tr th:only-of-type {\n",
       "        vertical-align: middle;\n",
       "    }\n",
       "\n",
       "    .dataframe tbody tr th {\n",
       "        vertical-align: top;\n",
       "    }\n",
       "\n",
       "    .dataframe thead th {\n",
       "        text-align: right;\n",
       "    }\n",
       "</style>\n",
       "<table border=\"1\" class=\"dataframe\">\n",
       "  <thead>\n",
       "    <tr style=\"text-align: right;\">\n",
       "      <th></th>\n",
       "      <th>mse</th>\n",
       "    </tr>\n",
       "    <tr>\n",
       "      <th>regression type</th>\n",
       "      <th></th>\n",
       "    </tr>\n",
       "  </thead>\n",
       "  <tbody>\n",
       "    <tr>\n",
       "      <th>OLS</th>\n",
       "      <td>0.293943</td>\n",
       "    </tr>\n",
       "    <tr>\n",
       "      <th>ridge</th>\n",
       "      <td>0.291445</td>\n",
       "    </tr>\n",
       "    <tr>\n",
       "      <th>lasso</th>\n",
       "      <td>0.345669</td>\n",
       "    </tr>\n",
       "  </tbody>\n",
       "</table>\n",
       "</div>"
      ],
      "text/plain": [
       "                      mse\n",
       "regression type          \n",
       "OLS              0.293943\n",
       "ridge            0.291445\n",
       "lasso            0.345669"
      ]
     },
     "metadata": {},
     "output_type": "display_data"
    },
    {
     "name": "stdout",
     "output_type": "stream",
     "text": [
      "\n",
      "Polynomial degree: 8\n",
      "\n",
      "Bootstrap\n"
     ]
    },
    {
     "data": {
      "text/html": [
       "<div>\n",
       "<style scoped>\n",
       "    .dataframe tbody tr th:only-of-type {\n",
       "        vertical-align: middle;\n",
       "    }\n",
       "\n",
       "    .dataframe tbody tr th {\n",
       "        vertical-align: top;\n",
       "    }\n",
       "\n",
       "    .dataframe thead th {\n",
       "        text-align: right;\n",
       "    }\n",
       "</style>\n",
       "<table border=\"1\" class=\"dataframe\">\n",
       "  <thead>\n",
       "    <tr style=\"text-align: right;\">\n",
       "      <th></th>\n",
       "      <th>mse</th>\n",
       "      <th>bias</th>\n",
       "      <th>variance</th>\n",
       "    </tr>\n",
       "    <tr>\n",
       "      <th>regression type</th>\n",
       "      <th></th>\n",
       "      <th></th>\n",
       "      <th></th>\n",
       "    </tr>\n",
       "  </thead>\n",
       "  <tbody>\n",
       "    <tr>\n",
       "      <th>OLS</th>\n",
       "      <td>0.544183</td>\n",
       "      <td>0.401236</td>\n",
       "      <td>1.429471e-01</td>\n",
       "    </tr>\n",
       "    <tr>\n",
       "      <th>ridge</th>\n",
       "      <td>0.348592</td>\n",
       "      <td>0.316725</td>\n",
       "      <td>3.186664e-02</td>\n",
       "    </tr>\n",
       "    <tr>\n",
       "      <th>lasso</th>\n",
       "      <td>0.370348</td>\n",
       "      <td>0.370348</td>\n",
       "      <td>2.030953e-32</td>\n",
       "    </tr>\n",
       "  </tbody>\n",
       "</table>\n",
       "</div>"
      ],
      "text/plain": [
       "                      mse      bias      variance\n",
       "regression type                                  \n",
       "OLS              0.544183  0.401236  1.429471e-01\n",
       "ridge            0.348592  0.316725  3.186664e-02\n",
       "lasso            0.370348  0.370348  2.030953e-32"
      ]
     },
     "metadata": {},
     "output_type": "display_data"
    },
    {
     "name": "stdout",
     "output_type": "stream",
     "text": [
      "\n",
      "\n",
      "Cross-validation\n"
     ]
    },
    {
     "data": {
      "text/html": [
       "<div>\n",
       "<style scoped>\n",
       "    .dataframe tbody tr th:only-of-type {\n",
       "        vertical-align: middle;\n",
       "    }\n",
       "\n",
       "    .dataframe tbody tr th {\n",
       "        vertical-align: top;\n",
       "    }\n",
       "\n",
       "    .dataframe thead th {\n",
       "        text-align: right;\n",
       "    }\n",
       "</style>\n",
       "<table border=\"1\" class=\"dataframe\">\n",
       "  <thead>\n",
       "    <tr style=\"text-align: right;\">\n",
       "      <th></th>\n",
       "      <th>mse</th>\n",
       "    </tr>\n",
       "    <tr>\n",
       "      <th>regression type</th>\n",
       "      <th></th>\n",
       "    </tr>\n",
       "  </thead>\n",
       "  <tbody>\n",
       "    <tr>\n",
       "      <th>OLS</th>\n",
       "      <td>0.320473</td>\n",
       "    </tr>\n",
       "    <tr>\n",
       "      <th>ridge</th>\n",
       "      <td>0.292902</td>\n",
       "    </tr>\n",
       "    <tr>\n",
       "      <th>lasso</th>\n",
       "      <td>0.347375</td>\n",
       "    </tr>\n",
       "  </tbody>\n",
       "</table>\n",
       "</div>"
      ],
      "text/plain": [
       "                      mse\n",
       "regression type          \n",
       "OLS              0.320473\n",
       "ridge            0.292902\n",
       "lasso            0.347375"
      ]
     },
     "metadata": {},
     "output_type": "display_data"
    },
    {
     "name": "stdout",
     "output_type": "stream",
     "text": [
      "\n",
      "Polynomial degree: 9\n",
      "\n",
      "Bootstrap\n"
     ]
    },
    {
     "data": {
      "text/html": [
       "<div>\n",
       "<style scoped>\n",
       "    .dataframe tbody tr th:only-of-type {\n",
       "        vertical-align: middle;\n",
       "    }\n",
       "\n",
       "    .dataframe tbody tr th {\n",
       "        vertical-align: top;\n",
       "    }\n",
       "\n",
       "    .dataframe thead th {\n",
       "        text-align: right;\n",
       "    }\n",
       "</style>\n",
       "<table border=\"1\" class=\"dataframe\">\n",
       "  <thead>\n",
       "    <tr style=\"text-align: right;\">\n",
       "      <th></th>\n",
       "      <th>mse</th>\n",
       "      <th>bias</th>\n",
       "      <th>variance</th>\n",
       "    </tr>\n",
       "    <tr>\n",
       "      <th>regression type</th>\n",
       "      <th></th>\n",
       "      <th></th>\n",
       "      <th></th>\n",
       "    </tr>\n",
       "  </thead>\n",
       "  <tbody>\n",
       "    <tr>\n",
       "      <th>OLS</th>\n",
       "      <td>1.786219</td>\n",
       "      <td>0.531052</td>\n",
       "      <td>1.255167e+00</td>\n",
       "    </tr>\n",
       "    <tr>\n",
       "      <th>ridge</th>\n",
       "      <td>0.415538</td>\n",
       "      <td>0.370276</td>\n",
       "      <td>4.526200e-02</td>\n",
       "    </tr>\n",
       "    <tr>\n",
       "      <th>lasso</th>\n",
       "      <td>0.470041</td>\n",
       "      <td>0.470041</td>\n",
       "      <td>2.299139e-32</td>\n",
       "    </tr>\n",
       "  </tbody>\n",
       "</table>\n",
       "</div>"
      ],
      "text/plain": [
       "                      mse      bias      variance\n",
       "regression type                                  \n",
       "OLS              1.786219  0.531052  1.255167e+00\n",
       "ridge            0.415538  0.370276  4.526200e-02\n",
       "lasso            0.470041  0.470041  2.299139e-32"
      ]
     },
     "metadata": {},
     "output_type": "display_data"
    },
    {
     "name": "stdout",
     "output_type": "stream",
     "text": [
      "\n",
      "\n",
      "Cross-validation\n"
     ]
    },
    {
     "data": {
      "text/html": [
       "<div>\n",
       "<style scoped>\n",
       "    .dataframe tbody tr th:only-of-type {\n",
       "        vertical-align: middle;\n",
       "    }\n",
       "\n",
       "    .dataframe tbody tr th {\n",
       "        vertical-align: top;\n",
       "    }\n",
       "\n",
       "    .dataframe thead th {\n",
       "        text-align: right;\n",
       "    }\n",
       "</style>\n",
       "<table border=\"1\" class=\"dataframe\">\n",
       "  <thead>\n",
       "    <tr style=\"text-align: right;\">\n",
       "      <th></th>\n",
       "      <th>mse</th>\n",
       "    </tr>\n",
       "    <tr>\n",
       "      <th>regression type</th>\n",
       "      <th></th>\n",
       "    </tr>\n",
       "  </thead>\n",
       "  <tbody>\n",
       "    <tr>\n",
       "      <th>OLS</th>\n",
       "      <td>0.368816</td>\n",
       "    </tr>\n",
       "    <tr>\n",
       "      <th>ridge</th>\n",
       "      <td>0.296343</td>\n",
       "    </tr>\n",
       "    <tr>\n",
       "      <th>lasso</th>\n",
       "      <td>0.345084</td>\n",
       "    </tr>\n",
       "  </tbody>\n",
       "</table>\n",
       "</div>"
      ],
      "text/plain": [
       "                      mse\n",
       "regression type          \n",
       "OLS              0.368816\n",
       "ridge            0.296343\n",
       "lasso            0.345084"
      ]
     },
     "metadata": {},
     "output_type": "display_data"
    },
    {
     "name": "stdout",
     "output_type": "stream",
     "text": [
      "\n",
      "Polynomial degree: 10\n",
      "\n",
      "Bootstrap\n"
     ]
    },
    {
     "data": {
      "text/html": [
       "<div>\n",
       "<style scoped>\n",
       "    .dataframe tbody tr th:only-of-type {\n",
       "        vertical-align: middle;\n",
       "    }\n",
       "\n",
       "    .dataframe tbody tr th {\n",
       "        vertical-align: top;\n",
       "    }\n",
       "\n",
       "    .dataframe thead th {\n",
       "        text-align: right;\n",
       "    }\n",
       "</style>\n",
       "<table border=\"1\" class=\"dataframe\">\n",
       "  <thead>\n",
       "    <tr style=\"text-align: right;\">\n",
       "      <th></th>\n",
       "      <th>mse</th>\n",
       "      <th>bias</th>\n",
       "      <th>variance</th>\n",
       "    </tr>\n",
       "    <tr>\n",
       "      <th>regression type</th>\n",
       "      <th></th>\n",
       "      <th></th>\n",
       "      <th></th>\n",
       "    </tr>\n",
       "  </thead>\n",
       "  <tbody>\n",
       "    <tr>\n",
       "      <th>OLS</th>\n",
       "      <td>0.628687</td>\n",
       "      <td>0.319220</td>\n",
       "      <td>3.094676e-01</td>\n",
       "    </tr>\n",
       "    <tr>\n",
       "      <th>ridge</th>\n",
       "      <td>0.322671</td>\n",
       "      <td>0.293645</td>\n",
       "      <td>2.902571e-02</td>\n",
       "    </tr>\n",
       "    <tr>\n",
       "      <th>lasso</th>\n",
       "      <td>0.327330</td>\n",
       "      <td>0.327330</td>\n",
       "      <td>1.337619e-32</td>\n",
       "    </tr>\n",
       "  </tbody>\n",
       "</table>\n",
       "</div>"
      ],
      "text/plain": [
       "                      mse      bias      variance\n",
       "regression type                                  \n",
       "OLS              0.628687  0.319220  3.094676e-01\n",
       "ridge            0.322671  0.293645  2.902571e-02\n",
       "lasso            0.327330  0.327330  1.337619e-32"
      ]
     },
     "metadata": {},
     "output_type": "display_data"
    },
    {
     "name": "stdout",
     "output_type": "stream",
     "text": [
      "\n",
      "\n",
      "Cross-validation\n"
     ]
    },
    {
     "data": {
      "text/html": [
       "<div>\n",
       "<style scoped>\n",
       "    .dataframe tbody tr th:only-of-type {\n",
       "        vertical-align: middle;\n",
       "    }\n",
       "\n",
       "    .dataframe tbody tr th {\n",
       "        vertical-align: top;\n",
       "    }\n",
       "\n",
       "    .dataframe thead th {\n",
       "        text-align: right;\n",
       "    }\n",
       "</style>\n",
       "<table border=\"1\" class=\"dataframe\">\n",
       "  <thead>\n",
       "    <tr style=\"text-align: right;\">\n",
       "      <th></th>\n",
       "      <th>mse</th>\n",
       "    </tr>\n",
       "    <tr>\n",
       "      <th>regression type</th>\n",
       "      <th></th>\n",
       "    </tr>\n",
       "  </thead>\n",
       "  <tbody>\n",
       "    <tr>\n",
       "      <th>OLS</th>\n",
       "      <td>0.451438</td>\n",
       "    </tr>\n",
       "    <tr>\n",
       "      <th>ridge</th>\n",
       "      <td>0.298731</td>\n",
       "    </tr>\n",
       "    <tr>\n",
       "      <th>lasso</th>\n",
       "      <td>0.343534</td>\n",
       "    </tr>\n",
       "  </tbody>\n",
       "</table>\n",
       "</div>"
      ],
      "text/plain": [
       "                      mse\n",
       "regression type          \n",
       "OLS              0.451438\n",
       "ridge            0.298731\n",
       "lasso            0.343534"
      ]
     },
     "metadata": {},
     "output_type": "display_data"
    },
    {
     "name": "stdout",
     "output_type": "stream",
     "text": [
      "\n",
      "Polynomial degree: 11\n",
      "\n",
      "Bootstrap\n"
     ]
    },
    {
     "data": {
      "text/html": [
       "<div>\n",
       "<style scoped>\n",
       "    .dataframe tbody tr th:only-of-type {\n",
       "        vertical-align: middle;\n",
       "    }\n",
       "\n",
       "    .dataframe tbody tr th {\n",
       "        vertical-align: top;\n",
       "    }\n",
       "\n",
       "    .dataframe thead th {\n",
       "        text-align: right;\n",
       "    }\n",
       "</style>\n",
       "<table border=\"1\" class=\"dataframe\">\n",
       "  <thead>\n",
       "    <tr style=\"text-align: right;\">\n",
       "      <th></th>\n",
       "      <th>mse</th>\n",
       "      <th>bias</th>\n",
       "      <th>variance</th>\n",
       "    </tr>\n",
       "    <tr>\n",
       "      <th>regression type</th>\n",
       "      <th></th>\n",
       "      <th></th>\n",
       "      <th></th>\n",
       "    </tr>\n",
       "  </thead>\n",
       "  <tbody>\n",
       "    <tr>\n",
       "      <th>OLS</th>\n",
       "      <td>14.601360</td>\n",
       "      <td>0.798020</td>\n",
       "      <td>1.380334e+01</td>\n",
       "    </tr>\n",
       "    <tr>\n",
       "      <th>ridge</th>\n",
       "      <td>0.562051</td>\n",
       "      <td>0.357645</td>\n",
       "      <td>2.044065e-01</td>\n",
       "    </tr>\n",
       "    <tr>\n",
       "      <th>lasso</th>\n",
       "      <td>0.341360</td>\n",
       "      <td>0.341360</td>\n",
       "      <td>2.313824e-32</td>\n",
       "    </tr>\n",
       "  </tbody>\n",
       "</table>\n",
       "</div>"
      ],
      "text/plain": [
       "                       mse      bias      variance\n",
       "regression type                                   \n",
       "OLS              14.601360  0.798020  1.380334e+01\n",
       "ridge             0.562051  0.357645  2.044065e-01\n",
       "lasso             0.341360  0.341360  2.313824e-32"
      ]
     },
     "metadata": {},
     "output_type": "display_data"
    },
    {
     "name": "stdout",
     "output_type": "stream",
     "text": [
      "\n",
      "\n",
      "Cross-validation\n"
     ]
    },
    {
     "data": {
      "text/html": [
       "<div>\n",
       "<style scoped>\n",
       "    .dataframe tbody tr th:only-of-type {\n",
       "        vertical-align: middle;\n",
       "    }\n",
       "\n",
       "    .dataframe tbody tr th {\n",
       "        vertical-align: top;\n",
       "    }\n",
       "\n",
       "    .dataframe thead th {\n",
       "        text-align: right;\n",
       "    }\n",
       "</style>\n",
       "<table border=\"1\" class=\"dataframe\">\n",
       "  <thead>\n",
       "    <tr style=\"text-align: right;\">\n",
       "      <th></th>\n",
       "      <th>mse</th>\n",
       "    </tr>\n",
       "    <tr>\n",
       "      <th>regression type</th>\n",
       "      <th></th>\n",
       "    </tr>\n",
       "  </thead>\n",
       "  <tbody>\n",
       "    <tr>\n",
       "      <th>OLS</th>\n",
       "      <td>0.619847</td>\n",
       "    </tr>\n",
       "    <tr>\n",
       "      <th>ridge</th>\n",
       "      <td>0.300234</td>\n",
       "    </tr>\n",
       "    <tr>\n",
       "      <th>lasso</th>\n",
       "      <td>0.342030</td>\n",
       "    </tr>\n",
       "  </tbody>\n",
       "</table>\n",
       "</div>"
      ],
      "text/plain": [
       "                      mse\n",
       "regression type          \n",
       "OLS              0.619847\n",
       "ridge            0.300234\n",
       "lasso            0.342030"
      ]
     },
     "metadata": {},
     "output_type": "display_data"
    },
    {
     "name": "stdout",
     "output_type": "stream",
     "text": [
      "\n"
     ]
    }
   ],
   "source": [
    "# Bootstrap parameters\n",
    "n_bootstraps = 500\n",
    "maxdegree = 12\n",
    "\n",
    "# Cross-validation parameters\n",
    "k = 10\n",
    "kfold = KFold(n_splits = k, shuffle=True, random_state=22)\n",
    "\n",
    "polydegrees = np.zeros(maxdegree)\n",
    "\n",
    "#Error arrays\n",
    "\n",
    "# Bootstrap\n",
    "mse_ols_bootstrap = np.zeros(maxdegree)\n",
    "mse_ridge_bootstrap = np.zeros(maxdegree)\n",
    "mse_lasso_bootstrap = np.zeros(maxdegree)\n",
    "\n",
    "bias_ols_bootstrap = np.zeros(maxdegree)\n",
    "bias_ridge_bootstrap = np.zeros(maxdegree)\n",
    "bias_lasso_bootstrap = np.zeros(maxdegree)\n",
    "\n",
    "variance_ols_bootstrap = np.zeros(maxdegree)\n",
    "variance_ridge_bootstrap = np.zeros(maxdegree)\n",
    "variance_lasso_bootstrap = np.zeros(maxdegree)\n",
    "\n",
    "# cvd\n",
    "mse_ols_cvd = np.zeros(maxdegree)\n",
    "mse_ridge_cvd = np.zeros(maxdegree)\n",
    "mse_lasso_cvd = np.zeros(maxdegree)\n",
    "\n",
    "lmd = 1e-3\n",
    "for i in range(maxdegree):\n",
    "    degree = i\n",
    "    polydegrees[i] = degree\n",
    "    print(\"Polynomial degree: %i\" %(i))\n",
    "    \n",
    "    X = create_X(x_flat, y_flat, degree)\n",
    "\n",
    "    # Bootstrap\n",
    "    X_train, X_test, z_train, z_test = train_test_split(X,z, test_size=0.2)\n",
    "    X_train, X_test, z_train, z_test = scale(X_train, X_test, z_train, z_test)\n",
    "    \n",
    "    z_pred_ridge_bootstrap = np.empty((z_test.shape[0], n_bootstraps))\n",
    "    z_pred_ols_bootstrap = np.empty((z_test.shape[0], n_bootstraps))\n",
    "    z_pred_lasso_bootstrap = np.empty((z_test.shape[0], n_bootstraps))\n",
    "    \n",
    "    print(\"\")\n",
    "    print(\"Bootstrap\")\n",
    "    for j in range(n_bootstraps):\n",
    "        x_bs,z_bs = resample(X_train,z_train)\n",
    "        \n",
    "        beta_ols_bootstrap = np.linalg.pinv(x_bs.T @ x_bs) @ x_bs.T @ z_bs\n",
    "        beta_ridge_bootstrap = np.linalg.pinv(x_bs.T @ x_bs + lmd*np.eye(x_bs.shape[1],x_bs.shape[1])) @ x_bs.T @ z_bs\n",
    "        \n",
    "        z_pred_ols_bootstrap[:,j] = X_test @ beta_ols_bootstrap\n",
    "        z_pred_ridge_bootstrap[:,j] = X_test @ beta_ridge_bootstrap\n",
    "        \n",
    "        reglasso_bootstrap = Lasso(lmd, max_iter=1e5, tol=0.1)\n",
    "        reglasso_bootstrap.fit(X_train, z_train)\n",
    "        z_pred_lasso_bootstrap[:,j] = reglasso_bootstrap.predict(X_test)\n",
    "    \n",
    "    \n",
    "    mse_ols_bootstrap[i] = np.mean(np.mean((z_test.reshape(-1,1) - z_pred_ols_bootstrap)**2, axis=1, keepdims=True))\n",
    "    mse_ridge_bootstrap[i] = np.mean(np.mean((z_test.reshape(-1,1) - z_pred_ridge_bootstrap)**2, axis=1, keepdims=True))\n",
    "    mse_lasso_bootstrap[i] = np.mean(np.mean((z_test.reshape(-1,1) - z_pred_lasso_bootstrap)**2, axis=1, keepdims=True))\n",
    "    \n",
    "    bias_ols_bootstrap[i] = np.mean((z_test.reshape(-1,1) - np.mean(z_pred_ols_bootstrap, axis=1, keepdims=True))**2)\n",
    "    bias_ridge_bootstrap[i] = np.mean((z_test.reshape(-1,1) - np.mean(z_pred_ridge_bootstrap, axis=1, keepdims=True))**2)\n",
    "    bias_lasso_bootstrap[i] = np.mean((z_test.reshape(-1,1) - np.mean(z_pred_lasso_bootstrap, axis=1, keepdims=True))**2)\n",
    "    \n",
    "    variance_ols_bootstrap[i] = np.mean(np.var(z_pred_ols_bootstrap, axis=1, keepdims=True))\n",
    "    variance_ridge_bootstrap[i] = np.mean(np.var(z_pred_ridge_bootstrap, axis=1, keepdims=True))\n",
    "    variance_lasso_bootstrap[i] = np.mean(np.var(z_pred_lasso_bootstrap, axis=1, keepdims=True))\n",
    "    \n",
    "    # Table for displaying mse, bias and variance for the different regression methods\n",
    "    table_bs = pd.DataFrame({'regression type': ['OLS', 'ridge', 'lasso'],\\\n",
    "                          'mse': [mse_ols_bootstrap[i], mse_ridge_bootstrap[i], mse_lasso_bootstrap[i]], \\\n",
    "                          'bias': [bias_ols_bootstrap[i], bias_ridge_bootstrap[i], bias_lasso_bootstrap[i]], \\\n",
    "                          'variance':[variance_ols_bootstrap[i], variance_ridge_bootstrap[i], variance_lasso_bootstrap[i]]})\n",
    "    table_bs = table_bs.set_index('regression type')\n",
    "    display(table_bs)\n",
    "    print(\"\")\n",
    "    \n",
    "    \n",
    "    # cvd\n",
    "    cv_split = 0\n",
    "    mse_ols_cvd_split = np.zeros(k)\n",
    "    mse_ridge_cvd_split = np.zeros(k)\n",
    "    mse_lasso_cvd_split = np.zeros(k)\n",
    "    \n",
    "    print(\"\")\n",
    "    print(\"Cross-validation\")\n",
    "    for train_indexes, test_indexes in kfold.split(X):\n",
    "        \n",
    "        # Split and scale\n",
    "        X_train = X[train_indexes]\n",
    "        X_test = X[test_indexes]\n",
    "        z_train = z[train_indexes]\n",
    "        z_test = z[test_indexes]\n",
    "        X_train, X_test, z_train, z_test = scale(X_train, X_test, z_train, z_test)\n",
    "        \n",
    "        # Make beta\n",
    "        I_ = np.eye(X_train.shape[1], X_train.shape[1])\n",
    "        beta_ols_cvd = np.linalg.pinv(X_train.T @ X_train) @ X_train.T @ z_train\n",
    "        beta_ridge_cvd = np.linalg.pinv(X_train.T @ X_train + lmd*I_) @ X_train.T @ z_train\n",
    "        \n",
    "        # Predictions\n",
    "        z_pred_ols_cvd = X_test @ beta_ols_cvd\n",
    "        z_pred_ridge_cvd = X_test @ beta_ridge_cvd\n",
    "        \n",
    "        reglasso_cvd = Lasso(lmd, max_iter=1e5, tol=0.1)\n",
    "        reglasso_cvd.fit(X_train, z_train)\n",
    "        z_pred_lasso_cvd = reglasso_cvd.predict(X_test)\n",
    "        \n",
    "        # Errors\n",
    "        mse_ols_cvd_split[cv_split] = mean_squared_error(z_test, z_pred_ols_cvd)\n",
    "        mse_ridge_cvd_split[cv_split] = mean_squared_error(z_test, z_pred_ridge_cvd)\n",
    "        mse_lasso_cvd_split[cv_split] = mean_squared_error(z_test, z_pred_lasso_cvd)\n",
    "        \n",
    "        cv_split += 1\n",
    "    \n",
    "    # Cvd errors\n",
    "    mse_ridge_cvd[i] = np.mean(mse_ridge_cvd_split)\n",
    "    mse_ols_cvd[i] = np.mean(mse_ols_cvd_split)\n",
    "    mse_lasso_cvd[i] = np.mean(mse_lasso_cvd_split)\n",
    "    \n",
    "    # Table for displaying mse, bias and variance for the different regression methods\n",
    "    table_cvd = pd.DataFrame({'regression type': ['OLS', 'ridge', 'lasso'],\\\n",
    "                          'mse': [mse_ols_cvd[i], mse_ridge_cvd[i], mse_lasso_cvd[i]]})\n",
    "    table_cvd = table_cvd.set_index('regression type')\n",
    "    display(table_cvd)\n",
    "    print(\"\")"
   ]
  },
  {
   "cell_type": "code",
   "execution_count": 26,
   "metadata": {},
   "outputs": [
    {
     "data": {
      "image/png": "[encoded data removed]",
      "text/plain": [
       "<Figure size 864x432 with 2 Axes>"
      ]
     },
     "metadata": {
      "needs_background": "light"
     },
     "output_type": "display_data"
    }
   ],
   "source": [
    "# Plot results \n",
    "\n",
    "# MSE with bootstrap for ridge vs ols\n",
    "fig, ax = plt.subplots(ncols=2, figsize=(12,6))\n",
    "\n",
    "ax[0].plot(polydegrees, mse_ols_bootstrap, label='OLS')\n",
    "ax[0].plot(polydegrees, mse_ridge_bootstrap, label=('Ridge with lambda = {}'.format(lmd)))\n",
    "ax[0].plot(polydegrees, mse_lasso_bootstrap, label=('Lasso with lambda = {}'.format(lmd)))\n",
    "ax[0].set_xlabel('Complexity')\n",
    "ax[0].set_ylabel('MSE')\n",
    "ax[0].set_ylim(0,3)\n",
    "ax[0].set_title('Bootstrap')\n",
    "ax[0].legend()\n",
    "                       \n",
    "ax[1].plot(polydegrees, mse_ols_cvd, label='OLS')\n",
    "ax[1].plot(polydegrees, mse_ridge_cvd, label='Ridge with lamdda = {}'.format(lmd))\n",
    "ax[1].plot(polydegrees, mse_lasso_cvd, label='Lasso with lambda = {}'.format(lmd))\n",
    "ax[1].set_xlabel('Complexity')\n",
    "ax[1].set_ylabel('MSE')\n",
    "ax[1].set_ylim(0,3)\n",
    "ax[1].set_title('Cross-validation')\n",
    "ax[1].legend()\n",
    "plt.show()"
   ]
  },
  {
   "cell_type": "markdown",
   "metadata": {},
   "source": [
    "The results from the figure above illustrate that the models follow each other quite closely as we have seen in the previous models. However, the effect of lasso and ridge kick in at higher polynomial proving Lasso to exellently silence the variance.\n",
    "\n",
    "Altering the hyperparameter lambda has a minor impact on the bias-variance results. Reducing lambda further than 0.001 proves to be too challanging computationaly, and increasing the the value results in slightly worse MSE values. Increasing lambda further does not provide any signifiacnt change to the ridge model, but lasso blows up."
   ]
  },
  {
   "cell_type": "markdown",
   "metadata": {},
   "source": [
    "## Exercise 6: Analysis of real data <a class=\"anchor\" id=\"6\"></a>"
   ]
  },
  {
   "cell_type": "markdown",
   "metadata": {},
   "source": [
    "For this exercise, we chose the data terrain1 from the fys-stk4155 repository. As this problem involves large amounts of bootstrap, cross-validation and and various regression methods, the datasize proved to be too great to compute. Therefore we reduced the amount of datapoints to only include every 25th point of the original data. We also found scaling the data to be an absoulte must for sensible results, for this we again employed the standardScaler method included in scikit-learn. Another factor to keep in mind for this analysis, is that we were not always able to apply the optimal paramaters in a never ending battle for computational economics. This includes a larger lambda than optimal, having to reduce the number of bootstraps and kfolds. However, we have conducted tests of lesser complexity with appropriate datasets, bootstraps and paramaters to feel that these simplifications provide consistent and reliable results. "
   ]
  },
  {
   "cell_type": "markdown",
   "metadata": {},
   "source": [
    "The code for the results to follow can be found at our github repository as project1_6.py. We decided to not include it here to avoid excessive repetion and disorder."
   ]
  },
  {
   "attachments": {
    "ols_degree25.png": {
     "image/png": "[encoded data removed]"
    }
   },
   "cell_type": "markdown",
   "metadata": {},
   "source": [
    "#### Regular OLS <a class=\"anchor\" id=\"6.1\"></a>\n",
    "![ols_degree25.png](attachment:ols_degree25.png)"
   ]
  },
  {
   "attachments": {
    "cInterval.png": {
     "image/png": "[encoded data removed]"
    }
   },
   "cell_type": "markdown",
   "metadata": {},
   "source": [
    "### Confidence interval of beta <a class=\"anchor\" id=\"6.2\"></a>\n",
    "![cInterval.png](attachment:cInterval.png)"
   ]
  },
  {
   "attachments": {
    "1000bootstraps_10degrees.png": {
     "image/png": "[encoded data removed]"
    }
   },
   "cell_type": "markdown",
   "metadata": {},
   "source": [
    "#### Bias-variance trade-off for OLS with bootstrap <a class=\"anchor\" id=\"6.3\"></a>\n",
    "![1000bootstraps_10degrees.png](attachment:1000bootstraps_10degrees.png)"
   ]
  },
  {
   "attachments": {
    "comparisson.png": {
     "image/png": "[encoded data removed]"
    }
   },
   "cell_type": "markdown",
   "metadata": {},
   "source": [
    "####  CVD - Comparison of the different models <a class=\"anchor\" id=\"6.4\"></a>\n",
    "![comparisson.png](attachment:comparisson.png)"
   ]
  },
  {
   "attachments": {
    "comparisson.png": {
     "image/png": "[encoded data removed]"
    }
   },
   "cell_type": "markdown",
   "metadata": {},
   "source": [
    "#### Bootstrap - Comparison of the different models <a class=\"anchor\" id=\"6.5\"></a>\n",
    "![comparisson.png](attachment:comparisson.png)"
   ]
  },
  {
   "cell_type": "markdown",
   "metadata": {},
   "source": [
    "### Complexity analysis with different lambdas <a class=\"anchor\" id=\"6.4\"></a>"
   ]
  },
  {
   "attachments": {
    "lambda_1e0.png": {
     "image/png": "[encoded data removed]"
    }
   },
   "cell_type": "markdown",
   "metadata": {},
   "source": [
    "![lambda_1e0.png](attachment:lambda_1e0.png)"
   ]
  },
  {
   "attachments": {
    "lambda_1e-2.png": {
     "image/png": "[encoded data removed]"
    }
   },
   "cell_type": "markdown",
   "metadata": {},
   "source": [
    "![lambda_1e-2.png](attachment:lambda_1e-2.png)"
   ]
  },
  {
   "attachments": {
    "lambda_1e-4.png": {
     "image/png": "[encoded data removed]"
    }
   },
   "cell_type": "markdown",
   "metadata": {},
   "source": [
    "![lambda_1e-4.png](attachment:lambda_1e-4.png)"
   ]
  },
  {
   "cell_type": "markdown",
   "metadata": {},
   "source": [
    "The results from this exercise does not provide the same behaviour as that seen for the frankefunction. In the simpler example, we noted a substantial increase in the MSE error becouse of overfitting, as mentioned in the bias-variance section. In this case, the mean squared error seemingly converge with increased complexity. A possible reason is that the terrain data is a very complex function. This argument is backed by the relative high bias observed in the bootstrap resampling of ols, ridge ans lasso. The high bias and low variance means that the model fit is bias dominated, and thus may indicate underfitting of the data. Other errors such as loss of nummerical precision and the frugal amount of datapoints in comparission with the original data, may also influence the results \n",
    "\n",
    "The role of the hyperparameter lambda in this example plays a very minor role in the study of the mean squared error of our models. Escpecially in the range of 1e-5 to 1e-1 as shown in the figures where we plot the MSE of OLS, ridge and Lasso for different values of lambda. Nevertheless, the best fit for both ridge and Lasso is with lambda = 1e-4,. Due to computational troubles, we were forced to use a lambda of 1e-3 instead, in this case its obvious that ordinary least squares provides the best solution for the terrain data. Intuitavly, in model fits dominated by bias, wwith nearly 0 variance, the pro's of lasso and ridge render irrelevant. \n",
    "\n",
    "It should be mentioned, that all though these results insinuate that ordinary least squares is the superior method, due to the computation effort invloved in this problem, we were not able to conduct enough quantative data to elimate the factor of randomness and variation between runs. But from the tests we did perform, ordinary least squares does in fact seem to provide the best fit. "
   ]
  }
 ],
 "metadata": {
  "kernelspec": {
   "display_name": "Python 3 (ipykernel)",
   "language": "python",
   "name": "python3"
  },
  "language_info": {
   "codemirror_mode": {
    "name": "ipython",
    "version": 3
   },
   "file_extension": ".py",
   "mimetype": "text/x-python",
   "name": "python",
   "nbconvert_exporter": "python",
   "pygments_lexer": "ipython3",
   "version": "3.8.10"
  }
 },
 "nbformat": 4,
 "nbformat_minor": 4
}
