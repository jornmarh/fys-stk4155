{
 "cells": [
  {
   "cell_type": "markdown",
   "metadata": {},
   "source": [
    "# FYS-STK4155 - Project 1\n",
    "\n",
    "## By Jørn Marcus Høylo Rosenberg and Andreas Dyve\n",
    "\n",
    "This Notebook contains both the code for the project and the report. The notebook is structured with each exercise in its own cell(s). This leads to some repeting code, but is practical for the purpose of evaluating each task seperately. (eller noe i denne duren?)"
   ]
  },
  {
   "cell_type": "markdown",
   "metadata": {},
   "source": [
    "### Table of Contents\n",
    "\n",
    "* [1. Imported libraries](#imports)\n",
    "* [2. Functions used throughout the project](#functions)\n",
    "    * [2.1. Franke function](#frankefunction)\n",
    "    * [2.2. Cost functions](#costfunctions) \n",
    "    * [2.3. Design matrix function](#Xfunction)\n",
    "    * [2.4. Scaling function](#scalefunction)\n",
    "* [3. Exercise 1](#3)\n",
    "    * [3.1. OLS regression](#3.1)\n",
    "    * [3.2. Confidence intervals](#3.2)\n",
    "    * [3.3. Discussion on scaling](3.3)\n",
    "* [4. Exercise 2](#4)\n",
    "    * [4.1. OLS regression with bootstrap](#4.1)\n",
    "    * [4.2. bias-variance trade-off](#4.2)\n",
    "* [5. Exercise 3](#5)\n",
    "    * [5.1. OLS regression with cross-validation](#5.1)\n",
    "    * [5.2. Comparison with bootstrap](#5.2)\n",
    "* [6. Exercise 4](#6)\n",
    "    * [6.1. Ridge regression with bootstrap and cross-validation](#6.1)\n",
    "    * [6.2. Discussion of lambda](#6.2)\n",
    "* [7. Exercise 5](#7)\n",
    "    * [7.1 Lasso regression with bootstrap and cross-validation](#7.1)\n",
    "    * [7.2 Evaluation of models](#7.2)\n",
    "* [8. Exercise 6](#8)"
   ]
  },
  {
   "cell_type": "markdown",
   "metadata": {},
   "source": [
    "### 1. Imported libraries <a class=\"anchor\" id=\"imports\"></a>"
   ]
  },
  {
   "cell_type": "code",
   "execution_count": 5,
   "metadata": {},
   "outputs": [],
   "source": [
    "import numpy as np\n",
    "from random import random, seed\n",
    "from sklearn.model_selection import train_test_split\n",
    "from sklearn.linear_model import LinearRegression, Ridge\n",
    "from sklearn.preprocessing import StandardScaler\n",
    "import matplotlib.pyplot as plt\n",
    "from mpl_toolkits.mplot3d import Axes3D\n",
    "from matplotlib import cm\n",
    "from matplotlib.ticker import LinearLocator, FormatStrFormatter\n",
    "from sklearn.metrics import mean_squared_error, r2_score\n",
    "import pandas as pd\n",
    "from sklearn.utils import resample"
   ]
  },
  {
   "cell_type": "markdown",
   "metadata": {},
   "source": [
    "### 2. Functions used throughout the project <a class=\"anchor\" id=\"functions\"></a>\n",
    "\n",
    "The following functions are used for much of the repetative tasks in this project"
   ]
  },
  {
   "cell_type": "markdown",
   "metadata": {},
   "source": [
    "#### 2.1. Error functions <a class=\"anchor\" id=\"errorfunctions\"></a>"
   ]
  },
  {
   "cell_type": "code",
   "execution_count": 6,
   "metadata": {},
   "outputs": [],
   "source": [
    "def R2(y_data, y_model):\n",
    "    return 1 - np.sum((y_data - y_model) ** 2) / np.sum((y_data - np.mean(y_data)) ** 2)\n",
    "def MSE(y_data,y_model):\n",
    "    n = np.size(y_model)\n",
    "    return np.sum((y_data-y_model)**2)/n"
   ]
  },
  {
   "cell_type": "markdown",
   "metadata": {},
   "source": [
    "#### 2.2. Franke function <a class=\"anchor\" id=\"frankefunction\"></a>\n",
    "\n",
    "The provided code in the exercise set is used for making and plotting of the Franke function."
   ]
  },
  {
   "cell_type": "code",
   "execution_count": 383,
   "metadata": {},
   "outputs": [
    {
     "ename": "ValueError",
     "evalue": "not enough values to unpack (expected 5, got 0)",
     "output_type": "error",
     "traceback": [
      "\u001b[0;31m---------------------------------------------------------------------------\u001b[0m",
      "\u001b[0;31mValueError\u001b[0m                                Traceback (most recent call last)",
      "\u001b[0;32m~/opt/anaconda3/lib/python3.8/site-packages/IPython/core/formatters.py\u001b[0m in \u001b[0;36m__call__\u001b[0;34m(self, obj)\u001b[0m\n\u001b[1;32m    339\u001b[0m                 \u001b[0;32mpass\u001b[0m\u001b[0;34m\u001b[0m\u001b[0;34m\u001b[0m\u001b[0m\n\u001b[1;32m    340\u001b[0m             \u001b[0;32melse\u001b[0m\u001b[0;34m:\u001b[0m\u001b[0;34m\u001b[0m\u001b[0;34m\u001b[0m\u001b[0m\n\u001b[0;32m--> 341\u001b[0;31m                 \u001b[0;32mreturn\u001b[0m \u001b[0mprinter\u001b[0m\u001b[0;34m(\u001b[0m\u001b[0mobj\u001b[0m\u001b[0;34m)\u001b[0m\u001b[0;34m\u001b[0m\u001b[0;34m\u001b[0m\u001b[0m\n\u001b[0m\u001b[1;32m    342\u001b[0m             \u001b[0;31m# Finally look for special method names\u001b[0m\u001b[0;34m\u001b[0m\u001b[0;34m\u001b[0m\u001b[0;34m\u001b[0m\u001b[0m\n\u001b[1;32m    343\u001b[0m             \u001b[0mmethod\u001b[0m \u001b[0;34m=\u001b[0m \u001b[0mget_real_method\u001b[0m\u001b[0;34m(\u001b[0m\u001b[0mobj\u001b[0m\u001b[0;34m,\u001b[0m \u001b[0mself\u001b[0m\u001b[0;34m.\u001b[0m\u001b[0mprint_method\u001b[0m\u001b[0;34m)\u001b[0m\u001b[0;34m\u001b[0m\u001b[0;34m\u001b[0m\u001b[0m\n",
      "\u001b[0;32m~/opt/anaconda3/lib/python3.8/site-packages/IPython/core/pylabtools.py\u001b[0m in \u001b[0;36m<lambda>\u001b[0;34m(fig)\u001b[0m\n\u001b[1;32m    246\u001b[0m \u001b[0;34m\u001b[0m\u001b[0m\n\u001b[1;32m    247\u001b[0m     \u001b[0;32mif\u001b[0m \u001b[0;34m'png'\u001b[0m \u001b[0;32min\u001b[0m \u001b[0mformats\u001b[0m\u001b[0;34m:\u001b[0m\u001b[0;34m\u001b[0m\u001b[0;34m\u001b[0m\u001b[0m\n\u001b[0;32m--> 248\u001b[0;31m         \u001b[0mpng_formatter\u001b[0m\u001b[0;34m.\u001b[0m\u001b[0mfor_type\u001b[0m\u001b[0;34m(\u001b[0m\u001b[0mFigure\u001b[0m\u001b[0;34m,\u001b[0m \u001b[0;32mlambda\u001b[0m \u001b[0mfig\u001b[0m\u001b[0;34m:\u001b[0m \u001b[0mprint_figure\u001b[0m\u001b[0;34m(\u001b[0m\u001b[0mfig\u001b[0m\u001b[0;34m,\u001b[0m \u001b[0;34m'png'\u001b[0m\u001b[0;34m,\u001b[0m \u001b[0;34m**\u001b[0m\u001b[0mkwargs\u001b[0m\u001b[0;34m)\u001b[0m\u001b[0;34m)\u001b[0m\u001b[0;34m\u001b[0m\u001b[0;34m\u001b[0m\u001b[0m\n\u001b[0m\u001b[1;32m    249\u001b[0m     \u001b[0;32mif\u001b[0m \u001b[0;34m'retina'\u001b[0m \u001b[0;32min\u001b[0m \u001b[0mformats\u001b[0m \u001b[0;32mor\u001b[0m \u001b[0;34m'png2x'\u001b[0m \u001b[0;32min\u001b[0m \u001b[0mformats\u001b[0m\u001b[0;34m:\u001b[0m\u001b[0;34m\u001b[0m\u001b[0;34m\u001b[0m\u001b[0m\n\u001b[1;32m    250\u001b[0m         \u001b[0mpng_formatter\u001b[0m\u001b[0;34m.\u001b[0m\u001b[0mfor_type\u001b[0m\u001b[0;34m(\u001b[0m\u001b[0mFigure\u001b[0m\u001b[0;34m,\u001b[0m \u001b[0;32mlambda\u001b[0m \u001b[0mfig\u001b[0m\u001b[0;34m:\u001b[0m \u001b[0mretina_figure\u001b[0m\u001b[0;34m(\u001b[0m\u001b[0mfig\u001b[0m\u001b[0;34m,\u001b[0m \u001b[0;34m**\u001b[0m\u001b[0mkwargs\u001b[0m\u001b[0;34m)\u001b[0m\u001b[0;34m)\u001b[0m\u001b[0;34m\u001b[0m\u001b[0;34m\u001b[0m\u001b[0m\n",
      "\u001b[0;32m~/opt/anaconda3/lib/python3.8/site-packages/IPython/core/pylabtools.py\u001b[0m in \u001b[0;36mprint_figure\u001b[0;34m(fig, fmt, bbox_inches, **kwargs)\u001b[0m\n\u001b[1;32m    130\u001b[0m         \u001b[0mFigureCanvasBase\u001b[0m\u001b[0;34m(\u001b[0m\u001b[0mfig\u001b[0m\u001b[0;34m)\u001b[0m\u001b[0;34m\u001b[0m\u001b[0;34m\u001b[0m\u001b[0m\n\u001b[1;32m    131\u001b[0m \u001b[0;34m\u001b[0m\u001b[0m\n\u001b[0;32m--> 132\u001b[0;31m     \u001b[0mfig\u001b[0m\u001b[0;34m.\u001b[0m\u001b[0mcanvas\u001b[0m\u001b[0;34m.\u001b[0m\u001b[0mprint_figure\u001b[0m\u001b[0;34m(\u001b[0m\u001b[0mbytes_io\u001b[0m\u001b[0;34m,\u001b[0m \u001b[0;34m**\u001b[0m\u001b[0mkw\u001b[0m\u001b[0;34m)\u001b[0m\u001b[0;34m\u001b[0m\u001b[0;34m\u001b[0m\u001b[0m\n\u001b[0m\u001b[1;32m    133\u001b[0m     \u001b[0mdata\u001b[0m \u001b[0;34m=\u001b[0m \u001b[0mbytes_io\u001b[0m\u001b[0;34m.\u001b[0m\u001b[0mgetvalue\u001b[0m\u001b[0;34m(\u001b[0m\u001b[0;34m)\u001b[0m\u001b[0;34m\u001b[0m\u001b[0;34m\u001b[0m\u001b[0m\n\u001b[1;32m    134\u001b[0m     \u001b[0;32mif\u001b[0m \u001b[0mfmt\u001b[0m \u001b[0;34m==\u001b[0m \u001b[0;34m'svg'\u001b[0m\u001b[0;34m:\u001b[0m\u001b[0;34m\u001b[0m\u001b[0;34m\u001b[0m\u001b[0m\n",
      "\u001b[0;32m~/opt/anaconda3/lib/python3.8/site-packages/matplotlib/backend_bases.py\u001b[0m in \u001b[0;36mprint_figure\u001b[0;34m(self, filename, dpi, facecolor, edgecolor, orientation, format, bbox_inches, pad_inches, bbox_extra_artists, backend, **kwargs)\u001b[0m\n\u001b[1;32m   2191\u001b[0m                            else suppress())\n\u001b[1;32m   2192\u001b[0m                     \u001b[0;32mwith\u001b[0m \u001b[0mctx\u001b[0m\u001b[0;34m:\u001b[0m\u001b[0;34m\u001b[0m\u001b[0;34m\u001b[0m\u001b[0m\n\u001b[0;32m-> 2193\u001b[0;31m                         \u001b[0mself\u001b[0m\u001b[0;34m.\u001b[0m\u001b[0mfigure\u001b[0m\u001b[0;34m.\u001b[0m\u001b[0mdraw\u001b[0m\u001b[0;34m(\u001b[0m\u001b[0mrenderer\u001b[0m\u001b[0;34m)\u001b[0m\u001b[0;34m\u001b[0m\u001b[0;34m\u001b[0m\u001b[0m\n\u001b[0m\u001b[1;32m   2194\u001b[0m \u001b[0;34m\u001b[0m\u001b[0m\n\u001b[1;32m   2195\u001b[0m                     bbox_inches = self.figure.get_tightbbox(\n",
      "\u001b[0;32m~/opt/anaconda3/lib/python3.8/site-packages/matplotlib/artist.py\u001b[0m in \u001b[0;36mdraw_wrapper\u001b[0;34m(artist, renderer, *args, **kwargs)\u001b[0m\n\u001b[1;32m     39\u001b[0m                 \u001b[0mrenderer\u001b[0m\u001b[0;34m.\u001b[0m\u001b[0mstart_filter\u001b[0m\u001b[0;34m(\u001b[0m\u001b[0;34m)\u001b[0m\u001b[0;34m\u001b[0m\u001b[0;34m\u001b[0m\u001b[0m\n\u001b[1;32m     40\u001b[0m \u001b[0;34m\u001b[0m\u001b[0m\n\u001b[0;32m---> 41\u001b[0;31m             \u001b[0;32mreturn\u001b[0m \u001b[0mdraw\u001b[0m\u001b[0;34m(\u001b[0m\u001b[0martist\u001b[0m\u001b[0;34m,\u001b[0m \u001b[0mrenderer\u001b[0m\u001b[0;34m,\u001b[0m \u001b[0;34m*\u001b[0m\u001b[0margs\u001b[0m\u001b[0;34m,\u001b[0m \u001b[0;34m**\u001b[0m\u001b[0mkwargs\u001b[0m\u001b[0;34m)\u001b[0m\u001b[0;34m\u001b[0m\u001b[0;34m\u001b[0m\u001b[0m\n\u001b[0m\u001b[1;32m     42\u001b[0m         \u001b[0;32mfinally\u001b[0m\u001b[0;34m:\u001b[0m\u001b[0;34m\u001b[0m\u001b[0;34m\u001b[0m\u001b[0m\n\u001b[1;32m     43\u001b[0m             \u001b[0;32mif\u001b[0m \u001b[0martist\u001b[0m\u001b[0;34m.\u001b[0m\u001b[0mget_agg_filter\u001b[0m\u001b[0;34m(\u001b[0m\u001b[0;34m)\u001b[0m \u001b[0;32mis\u001b[0m \u001b[0;32mnot\u001b[0m \u001b[0;32mNone\u001b[0m\u001b[0;34m:\u001b[0m\u001b[0;34m\u001b[0m\u001b[0;34m\u001b[0m\u001b[0m\n",
      "\u001b[0;32m~/opt/anaconda3/lib/python3.8/site-packages/matplotlib/figure.py\u001b[0m in \u001b[0;36mdraw\u001b[0;34m(self, renderer)\u001b[0m\n\u001b[1;32m   1861\u001b[0m \u001b[0;34m\u001b[0m\u001b[0m\n\u001b[1;32m   1862\u001b[0m             \u001b[0mself\u001b[0m\u001b[0;34m.\u001b[0m\u001b[0mpatch\u001b[0m\u001b[0;34m.\u001b[0m\u001b[0mdraw\u001b[0m\u001b[0;34m(\u001b[0m\u001b[0mrenderer\u001b[0m\u001b[0;34m)\u001b[0m\u001b[0;34m\u001b[0m\u001b[0;34m\u001b[0m\u001b[0m\n\u001b[0;32m-> 1863\u001b[0;31m             mimage._draw_list_compositing_images(\n\u001b[0m\u001b[1;32m   1864\u001b[0m                 renderer, self, artists, self.suppressComposite)\n\u001b[1;32m   1865\u001b[0m \u001b[0;34m\u001b[0m\u001b[0m\n",
      "\u001b[0;32m~/opt/anaconda3/lib/python3.8/site-packages/matplotlib/image.py\u001b[0m in \u001b[0;36m_draw_list_compositing_images\u001b[0;34m(renderer, parent, artists, suppress_composite)\u001b[0m\n\u001b[1;32m    129\u001b[0m     \u001b[0;32mif\u001b[0m \u001b[0mnot_composite\u001b[0m \u001b[0;32mor\u001b[0m \u001b[0;32mnot\u001b[0m \u001b[0mhas_images\u001b[0m\u001b[0;34m:\u001b[0m\u001b[0;34m\u001b[0m\u001b[0;34m\u001b[0m\u001b[0m\n\u001b[1;32m    130\u001b[0m         \u001b[0;32mfor\u001b[0m \u001b[0ma\u001b[0m \u001b[0;32min\u001b[0m \u001b[0martists\u001b[0m\u001b[0;34m:\u001b[0m\u001b[0;34m\u001b[0m\u001b[0;34m\u001b[0m\u001b[0m\n\u001b[0;32m--> 131\u001b[0;31m             \u001b[0ma\u001b[0m\u001b[0;34m.\u001b[0m\u001b[0mdraw\u001b[0m\u001b[0;34m(\u001b[0m\u001b[0mrenderer\u001b[0m\u001b[0;34m)\u001b[0m\u001b[0;34m\u001b[0m\u001b[0;34m\u001b[0m\u001b[0m\n\u001b[0m\u001b[1;32m    132\u001b[0m     \u001b[0;32melse\u001b[0m\u001b[0;34m:\u001b[0m\u001b[0;34m\u001b[0m\u001b[0;34m\u001b[0m\u001b[0m\n\u001b[1;32m    133\u001b[0m         \u001b[0;31m# Composite any adjacent images together\u001b[0m\u001b[0;34m\u001b[0m\u001b[0;34m\u001b[0m\u001b[0;34m\u001b[0m\u001b[0m\n",
      "\u001b[0;32m~/opt/anaconda3/lib/python3.8/site-packages/matplotlib/artist.py\u001b[0m in \u001b[0;36mdraw_wrapper\u001b[0;34m(artist, renderer, *args, **kwargs)\u001b[0m\n\u001b[1;32m     39\u001b[0m                 \u001b[0mrenderer\u001b[0m\u001b[0;34m.\u001b[0m\u001b[0mstart_filter\u001b[0m\u001b[0;34m(\u001b[0m\u001b[0;34m)\u001b[0m\u001b[0;34m\u001b[0m\u001b[0;34m\u001b[0m\u001b[0m\n\u001b[1;32m     40\u001b[0m \u001b[0;34m\u001b[0m\u001b[0m\n\u001b[0;32m---> 41\u001b[0;31m             \u001b[0;32mreturn\u001b[0m \u001b[0mdraw\u001b[0m\u001b[0;34m(\u001b[0m\u001b[0martist\u001b[0m\u001b[0;34m,\u001b[0m \u001b[0mrenderer\u001b[0m\u001b[0;34m,\u001b[0m \u001b[0;34m*\u001b[0m\u001b[0margs\u001b[0m\u001b[0;34m,\u001b[0m \u001b[0;34m**\u001b[0m\u001b[0mkwargs\u001b[0m\u001b[0;34m)\u001b[0m\u001b[0;34m\u001b[0m\u001b[0;34m\u001b[0m\u001b[0m\n\u001b[0m\u001b[1;32m     42\u001b[0m         \u001b[0;32mfinally\u001b[0m\u001b[0;34m:\u001b[0m\u001b[0;34m\u001b[0m\u001b[0;34m\u001b[0m\u001b[0m\n\u001b[1;32m     43\u001b[0m             \u001b[0;32mif\u001b[0m \u001b[0martist\u001b[0m\u001b[0;34m.\u001b[0m\u001b[0mget_agg_filter\u001b[0m\u001b[0;34m(\u001b[0m\u001b[0;34m)\u001b[0m \u001b[0;32mis\u001b[0m \u001b[0;32mnot\u001b[0m \u001b[0;32mNone\u001b[0m\u001b[0;34m:\u001b[0m\u001b[0;34m\u001b[0m\u001b[0;34m\u001b[0m\u001b[0m\n",
      "\u001b[0;32m~/opt/anaconda3/lib/python3.8/site-packages/mpl_toolkits/mplot3d/axes3d.py\u001b[0m in \u001b[0;36mdraw\u001b[0;34m(self, renderer)\u001b[0m\n\u001b[1;32m    443\u001b[0m                             for axis in self._get_axis_list()) + 1\n\u001b[1;32m    444\u001b[0m         for i, col in enumerate(\n\u001b[0;32m--> 445\u001b[0;31m                 sorted(self.collections,\n\u001b[0m\u001b[1;32m    446\u001b[0m                        \u001b[0mkey\u001b[0m\u001b[0;34m=\u001b[0m\u001b[0;32mlambda\u001b[0m \u001b[0mcol\u001b[0m\u001b[0;34m:\u001b[0m \u001b[0mcol\u001b[0m\u001b[0;34m.\u001b[0m\u001b[0mdo_3d_projection\u001b[0m\u001b[0;34m(\u001b[0m\u001b[0mrenderer\u001b[0m\u001b[0;34m)\u001b[0m\u001b[0;34m,\u001b[0m\u001b[0;34m\u001b[0m\u001b[0;34m\u001b[0m\u001b[0m\n\u001b[1;32m    447\u001b[0m                        reverse=True)):\n",
      "\u001b[0;32m~/opt/anaconda3/lib/python3.8/site-packages/mpl_toolkits/mplot3d/axes3d.py\u001b[0m in \u001b[0;36m<lambda>\u001b[0;34m(col)\u001b[0m\n\u001b[1;32m    444\u001b[0m         for i, col in enumerate(\n\u001b[1;32m    445\u001b[0m                 sorted(self.collections,\n\u001b[0;32m--> 446\u001b[0;31m                        \u001b[0mkey\u001b[0m\u001b[0;34m=\u001b[0m\u001b[0;32mlambda\u001b[0m \u001b[0mcol\u001b[0m\u001b[0;34m:\u001b[0m \u001b[0mcol\u001b[0m\u001b[0;34m.\u001b[0m\u001b[0mdo_3d_projection\u001b[0m\u001b[0;34m(\u001b[0m\u001b[0mrenderer\u001b[0m\u001b[0;34m)\u001b[0m\u001b[0;34m,\u001b[0m\u001b[0;34m\u001b[0m\u001b[0;34m\u001b[0m\u001b[0m\n\u001b[0m\u001b[1;32m    447\u001b[0m                        reverse=True)):\n\u001b[1;32m    448\u001b[0m             \u001b[0mcol\u001b[0m\u001b[0;34m.\u001b[0m\u001b[0mzorder\u001b[0m \u001b[0;34m=\u001b[0m \u001b[0mzorder_offset\u001b[0m \u001b[0;34m+\u001b[0m \u001b[0mi\u001b[0m\u001b[0;34m\u001b[0m\u001b[0;34m\u001b[0m\u001b[0m\n",
      "\u001b[0;32m~/opt/anaconda3/lib/python3.8/site-packages/mpl_toolkits/mplot3d/art3d.py\u001b[0m in \u001b[0;36mdo_3d_projection\u001b[0;34m(self, renderer)\u001b[0m\n\u001b[1;32m    691\u001b[0m             key=lambda x: x[0], reverse=True)\n\u001b[1;32m    692\u001b[0m \u001b[0;34m\u001b[0m\u001b[0m\n\u001b[0;32m--> 693\u001b[0;31m         \u001b[0mzzs\u001b[0m\u001b[0;34m,\u001b[0m \u001b[0msegments_2d\u001b[0m\u001b[0;34m,\u001b[0m \u001b[0mself\u001b[0m\u001b[0;34m.\u001b[0m\u001b[0m_facecolors2d\u001b[0m\u001b[0;34m,\u001b[0m \u001b[0mself\u001b[0m\u001b[0;34m.\u001b[0m\u001b[0m_edgecolors2d\u001b[0m\u001b[0;34m,\u001b[0m \u001b[0midxs\u001b[0m \u001b[0;34m=\u001b[0m\u001b[0;31m \u001b[0m\u001b[0;31m\\\u001b[0m\u001b[0;34m\u001b[0m\u001b[0;34m\u001b[0m\u001b[0m\n\u001b[0m\u001b[1;32m    694\u001b[0m             \u001b[0mzip\u001b[0m\u001b[0;34m(\u001b[0m\u001b[0;34m*\u001b[0m\u001b[0mz_segments_2d\u001b[0m\u001b[0;34m)\u001b[0m\u001b[0;34m\u001b[0m\u001b[0;34m\u001b[0m\u001b[0m\n\u001b[1;32m    695\u001b[0m \u001b[0;34m\u001b[0m\u001b[0m\n",
      "\u001b[0;31mValueError\u001b[0m: not enough values to unpack (expected 5, got 0)"
     ]
    },
    {
     "data": {
      "text/plain": [
       "<Figure size 1440x576 with 2 Axes>"
      ]
     },
     "metadata": {
      "needs_background": "light"
     },
     "output_type": "display_data"
    }
   ],
   "source": [
    "fig = plt.figure(figsize=(20,8))\n",
    "ax = fig.gca(projection='3d')\n",
    "\n",
    "# Make data.\n",
    "N = 20\n",
    "x = np.arange(0, 1, N)\n",
    "y = np.arange(0, 1, N)\n",
    "x, y = np.meshgrid(x,y)\n",
    "\n",
    "def FrankeFunction(x,y,noise_coef):\n",
    "    term1 = 0.75*np.exp(-(0.25*(9*x-2)**2) - 0.25*((9*y-2)**2))\n",
    "    term2 = 0.75*np.exp(-((9*x+1)**2)/49.0 - 0.1*(9*y+1))\n",
    "    term3 = 0.5*np.exp(-(9*x-7)**2/4.0 - 0.25*((9*y-3)**2))\n",
    "    term4 = -0.2*np.exp(-(9*x-4)**2 - (9*y-7)**2)\n",
    "    noise = noise_coef * np.random.randn(N*N)\n",
    "    return term1 + term2 + term3 + term4 + noise\n",
    "\n",
    "\n",
    "z = FrankeFunction(x, y, np.random.randn(N*N))\n",
    "\n",
    "# Plot the surface.\n",
    "surf = ax.plot_surface(x, y, z, cmap=cm.coolwarm,\n",
    "                       linewidth=0, antialiased=False)\n",
    "# Customize the z axis.\n",
    "ax.set_zlim(-0.10, 1.40)\n",
    "ax.zaxis.set_major_locator(LinearLocator(10))\n",
    "ax.zaxis.set_major_formatter(FormatStrFormatter('%.02f'))\n",
    "\n",
    "ax.set_xlabel('X', fontsize=15)\n",
    "ax.set_ylabel('Y', fontsize=15)\n",
    "ax.set_zlabel('Z', fontsize=15)\n",
    "\n",
    "# Add a color bar which maps values to colors.\n",
    "fig.colorbar(surf, shrink=0.5, aspect=5)\n",
    "\n",
    "plt.show()"
   ]
  },
  {
   "cell_type": "markdown",
   "metadata": {},
   "source": [
    "#### 2.3. Design matrix function <a class=\"anchor\" id=\"Xfunction\"></a>\n",
    "\n",
    "The provided code is used for computing the design matrix"
   ]
  },
  {
   "cell_type": "code",
   "execution_count": 316,
   "metadata": {},
   "outputs": [],
   "source": [
    "def create_X(x, y, n ):\n",
    "    if len(x.shape) > 1:\n",
    "        x = np.ravel(x)\n",
    "        y = np.ravel(y)\n",
    "\n",
    "    N = len(x)\n",
    "    l = int((n+1)*(n+2)/2) # Number of columns in beta\n",
    "    X = np.ones((N,l)) \n",
    "\n",
    "    for i in range(1,n+1):\n",
    "        q = int((i)*(i+1)/2) \n",
    "        for k in range(i+1): \n",
    "            X[:,q+k] = (x**(i-k))*(y**k)\n",
    "\n",
    "    return X"
   ]
  },
  {
   "cell_type": "markdown",
   "metadata": {},
   "source": [
    "#### 2.4. Scaling function <a class=\"anchor\" id=\"scalefunction\"></a>"
   ]
  },
  {
   "cell_type": "code",
   "execution_count": 317,
   "metadata": {},
   "outputs": [],
   "source": [
    "def scale(X_train, X_test, z_train, z_test):\n",
    "    scaler = StandardScaler() # Utilizing scikit's standardscaler\n",
    "\n",
    "    scaler_x = scaler.fit(X_train) # Scaling x-data\n",
    "    X_train_scaled = scaler_x.transform(X_train)\n",
    "    X_test_scaled = scaler_x.transform(X_test)\n",
    "\n",
    "    scaler_z = scaler.fit(z_train.reshape(-1,1)) # Scaling z-data\n",
    "    z_train_scaled = scaler_z.transform(z_train.reshape(-1,1)).ravel()\n",
    "    z_test_scaled = scaler_z.transform(z_test.reshape(-1,1)).ravel()\n",
    "\n",
    "    return X_train_scaled, X_test_scaled, z_train_scaled, z_test_scaled"
   ]
  },
  {
   "cell_type": "markdown",
   "metadata": {},
   "source": [
    "## 3. Exercise 1: OLS on the Franke function <a class=\"anchor\" id=\"3\"></a>\n",
    "\n",
    "The goal of this task is to do an OLS regression analysis of the Franke function for a polynomial degree up to 5. The OLS is implemented in the following way:\n",
    "> $ \\beta = $ blablba"
   ]
  },
  {
   "cell_type": "markdown",
   "metadata": {},
   "source": [
    "#### 3.1. OLS regression code <a class=\"anchor\" id=\"3.1\"></a>\n",
    "\n",
    "The following code creates the dataset and does an OLS regression analysis."
   ]
  },
  {
   "cell_type": "code",
   "execution_count": 380,
   "metadata": {},
   "outputs": [
    {
     "name": "stdout",
     "output_type": "stream",
     "text": [
      "Degree: 0   mse train: 0.073942   mse test: 0.093350   r2_train: 0.000000   r2 test: -0.035137\n",
      "Degree: 1   mse train: 0.028605   mse test: 0.038754   r2_train: 0.613136   r2 test: 0.570263\n",
      "Degree: 2   mse train: 0.024410   mse test: 0.034942   r2_train: 0.669868   r2 test: 0.612535\n",
      "Degree: 3   mse train: 0.015388   mse test: 0.019819   r2_train: 0.791889   r2 test: 0.780232\n",
      "Degree: 4   mse train: 0.012630   mse test: 0.015897   r2_train: 0.829196   r2 test: 0.823720\n",
      "Degree: 5   mse train: 0.010191   mse test: 0.014165   r2_train: 0.862176   r2 test: 0.842932\n"
     ]
    },
    {
     "data": {
      "image/png": "[encoded data removed]",
      "text/plain": [
       "<Figure size 432x288 with 1 Axes>"
      ]
     },
     "metadata": {
      "needs_background": "light"
     },
     "output_type": "display_data"
    }
   ],
   "source": [
    "# Making meshgrid of datapoints and compute Franke's function\n",
    "maxdegrees = 5\n",
    "N = 20\n",
    "x = np.sort(np.random.uniform(0, 1, N))\n",
    "y = np.sort(np.random.uniform(0, 1, N))\n",
    "x_mesh, y_mesh = np.meshgrid(x,y)\n",
    "x_flat = np.ravel(x_mesh)\n",
    "y_flat = np.ravel(y_mesh)\n",
    "\n",
    "z = FrankeFunction(x_flat, y_flat, 0.1*np.random.randn(N*N))\n",
    "\n",
    "polydegree = np.zeros(maxdegrees+1)\n",
    "r2_train = np.zeros(maxdegrees+1)\n",
    "r2_test = np.zeros(maxdegrees+1)\n",
    "mse_train = np.zeros(maxdegrees+1)\n",
    "mse_test = np.zeros(maxdegrees+1)\n",
    "\n",
    "# OLS regression for polynomials from 0 to maxdegrees\n",
    "for i in range(maxdegrees+1):\n",
    "    degree = i\n",
    "    polydegree[i] = degree\n",
    "    X = create_X(x_flat, y_flat, degree)\n",
    "    X_train, X_test, z_train, z_test = train_test_split(X,z, test_size=0.2, random_state=42)\n",
    "    #X_train, X_test, z_train, z_test = scale(X_train, X_test, z_train, z_test)\n",
    "    \n",
    "    # prediction\n",
    "    betaOLS = np.linalg.pinv(X_train.T @ X_train) @ X_train.T @ z_train\n",
    "    ztilde_train = X_train @ betaOLS\n",
    "    ztilde_test = X_test @ betaOLS\n",
    "    \n",
    "    # cost functions\n",
    "    r2_train[i] = r2_score(z_train, ztilde_train)\n",
    "    r2_test[i] = r2_score(z_test, ztilde_test)\n",
    "    mse_train[i] = MSE(z_train,ztilde_train) \n",
    "    mse_test[i] = MSE(z_test,ztilde_test) #mean_squared_error(z_test, ztilde_test)\n",
    "    print('Degree: %i   mse train: %.6f   mse test: %.6f   r2_train: %.6f   r2 test: %.6f'\\\n",
    "          %(degree, mse_train[i], mse_test[i], r2_train[i], r2_test[i]))\n",
    "\n",
    "plt.plot(polydegree, mse_train, label='mse_train')\n",
    "plt.plot(polydegree, mse_test, label='mse_test')\n",
    "plt.plot(polydegree, r2_train, label='r2_train')\n",
    "plt.plot(polydegree, r2_test, label='r2_test')\n",
    "plt.legend()\n",
    "plt.show()"
   ]
  },
  {
   "cell_type": "markdown",
   "metadata": {},
   "source": [
    "#### 3.2. Confidence intervals <a class=\"anchor\" id=\"3.2\"></a>\n",
    "\n",
    "- $\\mu_{\\beta} \\pm \\frac{2\\sigma_{\\beta}}{\\sqrt{n}}$"
   ]
  },
  {
   "cell_type": "code",
   "execution_count": 381,
   "metadata": {},
   "outputs": [
    {
     "data": {
      "image/png": "[encoded data removed]",
      "text/plain": [
       "<Figure size 432x288 with 1 Axes>"
      ]
     },
     "metadata": {
      "needs_background": "light"
     },
     "output_type": "display_data"
    },
    {
     "data": {
      "text/html": [
       "<div>\n",
       "<style scoped>\n",
       "    .dataframe tbody tr th:only-of-type {\n",
       "        vertical-align: middle;\n",
       "    }\n",
       "\n",
       "    .dataframe tbody tr th {\n",
       "        vertical-align: top;\n",
       "    }\n",
       "\n",
       "    .dataframe thead th {\n",
       "        text-align: right;\n",
       "    }\n",
       "</style>\n",
       "<table border=\"1\" class=\"dataframe\">\n",
       "  <thead>\n",
       "    <tr style=\"text-align: right;\">\n",
       "      <th></th>\n",
       "      <th>Beta</th>\n",
       "      <th>+-</th>\n",
       "    </tr>\n",
       "  </thead>\n",
       "  <tbody>\n",
       "    <tr>\n",
       "      <th>0</th>\n",
       "      <td>-0.085626</td>\n",
       "      <td>0.078890</td>\n",
       "    </tr>\n",
       "    <tr>\n",
       "      <th>1</th>\n",
       "      <td>11.286255</td>\n",
       "      <td>0.737270</td>\n",
       "    </tr>\n",
       "    <tr>\n",
       "      <th>2</th>\n",
       "      <td>6.443977</td>\n",
       "      <td>0.650180</td>\n",
       "    </tr>\n",
       "    <tr>\n",
       "      <th>3</th>\n",
       "      <td>-45.005969</td>\n",
       "      <td>2.974635</td>\n",
       "    </tr>\n",
       "    <tr>\n",
       "      <th>4</th>\n",
       "      <td>-26.125528</td>\n",
       "      <td>2.509336</td>\n",
       "    </tr>\n",
       "    <tr>\n",
       "      <th>5</th>\n",
       "      <td>-14.463418</td>\n",
       "      <td>2.713593</td>\n",
       "    </tr>\n",
       "    <tr>\n",
       "      <th>6</th>\n",
       "      <td>66.735967</td>\n",
       "      <td>6.169039</td>\n",
       "    </tr>\n",
       "    <tr>\n",
       "      <th>7</th>\n",
       "      <td>60.810002</td>\n",
       "      <td>4.901169</td>\n",
       "    </tr>\n",
       "    <tr>\n",
       "      <th>8</th>\n",
       "      <td>39.120554</td>\n",
       "      <td>4.576690</td>\n",
       "    </tr>\n",
       "    <tr>\n",
       "      <th>9</th>\n",
       "      <td>-5.644865</td>\n",
       "      <td>5.722228</td>\n",
       "    </tr>\n",
       "    <tr>\n",
       "      <th>10</th>\n",
       "      <td>-40.615978</td>\n",
       "      <td>6.201773</td>\n",
       "    </tr>\n",
       "    <tr>\n",
       "      <th>11</th>\n",
       "      <td>-63.754255</td>\n",
       "      <td>4.779063</td>\n",
       "    </tr>\n",
       "    <tr>\n",
       "      <th>12</th>\n",
       "      <td>-21.123862</td>\n",
       "      <td>4.316390</td>\n",
       "    </tr>\n",
       "    <tr>\n",
       "      <th>13</th>\n",
       "      <td>-46.569468</td>\n",
       "      <td>4.703204</td>\n",
       "    </tr>\n",
       "    <tr>\n",
       "      <th>14</th>\n",
       "      <td>35.255272</td>\n",
       "      <td>5.799242</td>\n",
       "    </tr>\n",
       "    <tr>\n",
       "      <th>15</th>\n",
       "      <td>7.736397</td>\n",
       "      <td>2.360197</td>\n",
       "    </tr>\n",
       "    <tr>\n",
       "      <th>16</th>\n",
       "      <td>21.120349</td>\n",
       "      <td>1.954218</td>\n",
       "    </tr>\n",
       "    <tr>\n",
       "      <th>17</th>\n",
       "      <td>15.475714</td>\n",
       "      <td>1.831526</td>\n",
       "    </tr>\n",
       "    <tr>\n",
       "      <th>18</th>\n",
       "      <td>-2.836954</td>\n",
       "      <td>1.802085</td>\n",
       "    </tr>\n",
       "    <tr>\n",
       "      <th>19</th>\n",
       "      <td>23.703991</td>\n",
       "      <td>2.077867</td>\n",
       "    </tr>\n",
       "    <tr>\n",
       "      <th>20</th>\n",
       "      <td>-21.370132</td>\n",
       "      <td>2.247797</td>\n",
       "    </tr>\n",
       "  </tbody>\n",
       "</table>\n",
       "</div>"
      ],
      "text/plain": [
       "         Beta        +-\n",
       "0   -0.085626  0.078890\n",
       "1   11.286255  0.737270\n",
       "2    6.443977  0.650180\n",
       "3  -45.005969  2.974635\n",
       "4  -26.125528  2.509336\n",
       "5  -14.463418  2.713593\n",
       "6   66.735967  6.169039\n",
       "7   60.810002  4.901169\n",
       "8   39.120554  4.576690\n",
       "9   -5.644865  5.722228\n",
       "10 -40.615978  6.201773\n",
       "11 -63.754255  4.779063\n",
       "12 -21.123862  4.316390\n",
       "13 -46.569468  4.703204\n",
       "14  35.255272  5.799242\n",
       "15   7.736397  2.360197\n",
       "16  21.120349  1.954218\n",
       "17  15.475714  1.831526\n",
       "18  -2.836954  1.802085\n",
       "19  23.703991  2.077867\n",
       "20 -21.370132  2.247797"
      ]
     },
     "execution_count": 381,
     "metadata": {},
     "output_type": "execute_result"
    }
   ],
   "source": [
    "variance = np.zeros(len(betaOLS))\n",
    "CI = np.zeros(len(betaOLS))\n",
    "\n",
    "for i in range(len(betaOLS)):\n",
    "    variance[i] = 0.1**2 * np.linalg.pinv(X_train.T @ X_train)[i,i]\n",
    "    CI[i] = 2*np.sqrt(variance[i])/np.sqrt(N)\n",
    "\n",
    "plt.errorbar(np.arange(0,len(betaOLS)), betaOLS, yerr=CI, fmt='o', ecolor='red', capsize=5, markersize=4, label='beta_j with confidence range')\n",
    "plt.xlabel('i')\n",
    "plt.ylabel('beta [i]')\n",
    "plt.legend()\n",
    "plt.show()\n",
    "\n",
    "table = pd.DataFrame({'Beta': betaOLS, '+-': CI})\n",
    "table"
   ]
  },
  {
   "cell_type": "markdown",
   "metadata": {},
   "source": [
    "#### 3.3 Discussion on scaling <a class=\"anchor\" id=\"3.3\"></a>"
   ]
  },
  {
   "cell_type": "markdown",
   "metadata": {},
   "source": [
    "### 4. Exercise 2 - Bias-variance trade-off and resampling techniques \n",
    "<a class=\"anchor\" id=\"4\"></a>\n",
    "\n",
    "#### Notes\n",
    "- scaling or not scaling - no difference as expected (ref notes exercise 1)\n",
    "- Increasing from 50 bootstraps gives no improved results\n",
    "- Increasing N from 100 only smoothens the curve\n",
    "- Polynomial degree above 10 does not decrease errors"
   ]
  },
  {
   "cell_type": "markdown",
   "metadata": {},
   "source": [
    "#### 4.1. OLS regression with bootstrap resampling <a class=\"anchor\" id=\"4.1\"></a>"
   ]
  },
  {
   "cell_type": "code",
   "execution_count": 468,
   "metadata": {},
   "outputs": [
    {
     "name": "stdout",
     "output_type": "stream",
     "text": [
      "degree: 0    mse: 1.440723    bias: 1.440723    variance: 0.000000\n",
      "degree: 1    mse: 0.582708    bias: 0.579693    variance: 0.003015\n",
      "degree: 2    mse: 0.559894    bias: 0.552413    variance: 0.007481\n",
      "degree: 3    mse: 0.286937    bias: 0.271045    variance: 0.015892\n",
      "degree: 4    mse: 0.332429    bias: 0.314781    variance: 0.017647\n",
      "degree: 5    mse: 0.437245    bias: 0.374523    variance: 0.062722\n",
      "degree: 6    mse: 0.267234    bias: 0.244661    variance: 0.022573\n",
      "degree: 7    mse: 0.393427    bias: 0.332294    variance: 0.061133\n",
      "degree: 8    mse: 0.467450    bias: 0.372830    variance: 0.094619\n",
      "degree: 9    mse: 1.836629    bias: 0.522469    variance: 1.314160\n",
      "degree: 10    mse: 3.973155    bias: 0.584781    variance: 3.388373\n",
      "degree: 11    mse: 3.497928    bias: 0.777047    variance: 2.720881\n"
     ]
    },
    {
     "data": {
      "image/png": "[encoded data removed]",
      "text/plain": [
       "<Figure size 432x288 with 1 Axes>"
      ]
     },
     "metadata": {
      "needs_background": "light"
     },
     "output_type": "display_data"
    }
   ],
   "source": [
    "# Parameters\n",
    "N = 20\n",
    "n_bootstraps = 1000\n",
    "maxdegree = 12\n",
    "\n",
    "# Create data\n",
    "np.random.seed(64)\n",
    "x = np.sort(np.random.uniform(0, 1, N))\n",
    "y = np.sort(np.random.uniform(0, 1, N))\n",
    "x_mesh, y_mesh = np.meshgrid(x,y)\n",
    "x_flat = np.ravel(x_mesh)\n",
    "y_flat = np.ravel(y_mesh)\n",
    "\n",
    "z = FrankeFunction(x_flat, y_flat, 0.15)\n",
    "\n",
    "# Cost functions\n",
    "mse_error = np.zeros(maxdegree)\n",
    "r2_error = np.zeros(maxdegree)\n",
    "bias = np.zeros(maxdegree)\n",
    "variance = np.zeros(maxdegree)\n",
    "mse_est = np.zeros(maxdegree)\n",
    "\n",
    "\n",
    "polydegree = np.zeros(maxdegree)\n",
    "for i in range(maxdegree):\n",
    "    degree = i\n",
    "    polydegree[i] = degree\n",
    "    X = create_X(x_flat, y_flat, degree)\n",
    "\n",
    "    X_train, X_test, z_train, z_test = train_test_split(X,z, test_size=0.2)\n",
    "    X_train, X_test, z_train, z_test = scale(X_train, X_test, z_train, z_test)\n",
    "\n",
    "    z_pred = np.empty((z_test.shape[0], n_bootstraps))\n",
    "    for j in range(n_bootstraps):\n",
    "        x_bs,z_bs = resample(X_train, z_train)\n",
    "        beta_ols = np.linalg.pinv(x_bs.T @ x_bs) @ x_bs.T @ z_bs\n",
    "        z_pred[:,j] = X_test @ beta_ols\n",
    "    \n",
    "    mse_error[i] = np.mean(np.mean((z_test.reshape(-1,1) - z_pred)**2, axis=1, keepdims=True))\n",
    "    bias[i] = np.mean((z_test.reshape(-1,1) - np.mean(z_pred, axis=1, keepdims=True))**2)\n",
    "    variance[i] = np.mean(np.var(z_pred, axis=1, keepdims=True))\n",
    "    \n",
    "    print('degree: %i    mse: %.6f    bias: %.6f    variance: %.6f' \\\n",
    "          %(degree, mse_error[i], bias[i], variance[i]))\n",
    "    \n",
    "\n",
    "plt.plot(polydegree, mse_error, label='mse_ols')\n",
    "plt.plot(polydegree, bias, label='bias')\n",
    "plt.plot(polydegree, variance, label='variance')\n",
    "plt.xlabel('Complexity [n]')\n",
    "plt.ylabel('error')\n",
    "plt.ylim(0,2)\n",
    "plt.legend()\n",
    "plt.show()"
   ]
  },
  {
   "cell_type": "markdown",
   "metadata": {},
   "source": [
    "#### 4.2. Discussion of bias-variance trade-off <a class=\"anchor\" id=\"4.2\"></a>"
   ]
  },
  {
   "cell_type": "markdown",
   "metadata": {},
   "source": [
    "### 5. Exercise 3 - Cross validation as resampling technique, adding more complexity \n",
    "<a class=\"anchor\" id=\"5\"></a>"
   ]
  },
  {
   "cell_type": "markdown",
   "metadata": {},
   "source": [
    "#### 5.1. OLS regression with cross-validation resampling <a class=\"anchor\" id=\"5.1\"></a>"
   ]
  },
  {
   "cell_type": "code",
   "execution_count": 521,
   "metadata": {},
   "outputs": [
    {
     "name": "stdout",
     "output_type": "stream",
     "text": [
      "degree: 0    mse: 1.014967    scikit mse: -0.094468\n",
      "degree: 1    mse: 0.543536    scikit mse: -0.050611\n",
      "degree: 2    mse: 0.460891    scikit mse: -0.042991\n",
      "degree: 3    mse: 0.327560    scikit mse: -0.030584\n",
      "degree: 4    mse: 0.314723    scikit mse: -0.029365\n",
      "degree: 5    mse: 0.298608    scikit mse: -0.027879\n",
      "degree: 6    mse: 0.283374    scikit mse: -0.028802\n",
      "degree: 7    mse: 0.293943    scikit mse: -0.031155\n",
      "degree: 8    mse: 0.320473    scikit mse: -0.033205\n",
      "degree: 9    mse: 0.368816    scikit mse: -0.036215\n",
      "degree: 10    mse: 0.451438    scikit mse: -0.048001\n",
      "degree: 11    mse: 0.619847    scikit mse: -0.060673\n"
     ]
    },
    {
     "data": {
      "image/png": "[encoded data removed]",
      "text/plain": [
       "<Figure size 432x288 with 1 Axes>"
      ]
     },
     "metadata": {
      "needs_background": "light"
     },
     "output_type": "display_data"
    },
    {
     "name": "stdout",
     "output_type": "stream",
     "text": [
      "-0.06067256052363421\n"
     ]
    }
   ],
   "source": [
    "from sklearn.model_selection import cross_val_score\n",
    "from sklearn.model_selection import KFold\n",
    "\n",
    "# Parameters\n",
    "N = 20\n",
    "maxdegree = 12\n",
    "k = 10\n",
    "kfold = KFold(n_splits = k, shuffle=True, random_state=22)\n",
    "\n",
    "# Make dataset\n",
    "np.random.seed(64)\n",
    "x = np.sort(np.random.uniform(0, 1, N))\n",
    "y = np.sort(np.random.uniform(0, 1, N))\n",
    "x_mesh, y_mesh = np.meshgrid(x,y)\n",
    "x_flat = np.ravel(x_mesh)\n",
    "y_flat = np.ravel(y_mesh)\n",
    "z = FrankeFunction(x_flat, y_flat, 0.15)\n",
    "\n",
    "# Cost function\n",
    "mse_ols_cvd = np.zeros(maxdegree)\n",
    "polydegree = np.zeros(maxdegree)\n",
    "\n",
    "for i in range(maxdegree):\n",
    "    degree = i\n",
    "    polydegree[i] = degree\n",
    "    X = create_X(x_flat, y_flat, degree)\n",
    "    mse_split = np.zeros(k)\n",
    "    cv_split = 0\n",
    "    for train_indexes, test_indexes in kfold.split(X):\n",
    "        X_train = X[train_indexes]\n",
    "        X_test = X[test_indexes]\n",
    "        z_train = z[train_indexes]\n",
    "        z_test = z[test_indexes]\n",
    "        X_train, X_test, z_train, z_test = scale(X_train, X_test, z_train, z_test)\n",
    "\n",
    "        beta = np.linalg.pinv(X_train.T @ X_train) @ X_train.T @ z_train\n",
    "        z_pred = X_test @ beta\n",
    "        \n",
    "        mse_split[cv_split] = mean_squared_error(z_test, z_pred)\n",
    "        \n",
    "        cv_split += 1\n",
    "    \n",
    "    mse_ols_cvd[i] = np.mean(mse_split)\n",
    "    \n",
    "    linreg = LinearRegression()\n",
    "    mse_scikit_cv = np.mean(cross_val_score(linreg, X, z, scoring='neg_mean_squared_error', cv=kfold))\n",
    "    \n",
    "    print('degree: %i    mse: %.6f    scikit mse: %.6f' %(degree, mse_ols_cvd[i], mse_scikit_cv))\n",
    "    \n",
    "plt.plot(polydegree, mse_ols_cvd)\n",
    "plt.ylim(0,1)\n",
    "plt.show()\n",
    "    \n",
    "\n",
    "print(mse_scikit_cv)\n",
    "#print('mse with scikit: %.6f' %(mse_scikit_cv))"
   ]
  },
  {
   "cell_type": "markdown",
   "metadata": {},
   "source": [
    "#### 5.2. Comments <a class=\"anchor\" id=\"5.2\"></a>"
   ]
  },
  {
   "cell_type": "markdown",
   "metadata": {},
   "source": [
    "### 6. Exercise 4 - Ridge regression on the Franke function with resampling\n",
    "<a class=\"anchor\" id=\"4\"></a>\n",
    "\n",
    "- Ridge: Shrinking beta-coefficients with large variance, but never to zero\n",
    "- Lasso: Same, but can shrink to zero\n",
    "- Noisy function means large variance\n",
    "- To compare OLS/ridge/beta, try to compute coefficients and see with/without noise\n",
    "- Beta coefficients in ridge are given by Gaussian distribution, in Lasso they are given by Laplace distribution (thats why they can go to zero)\n",
    "\n",
    "- Scaling: Subtracting the mean value means first column of design matrix (1,1,1,...) becomes zero."
   ]
  },
  {
   "cell_type": "markdown",
   "metadata": {},
   "source": [
    "#### 6.1. Ridge regression with bootstrap and cross validation <a class=\"anchor\" id=\"6.1\"></a>"
   ]
  },
  {
   "cell_type": "code",
   "execution_count": 528,
   "metadata": {},
   "outputs": [
    {
     "name": "stdout",
     "output_type": "stream",
     "text": [
      "hei\n",
      "hei\n",
      "hei\n",
      "hei\n",
      "hei\n",
      "hei\n",
      "hei\n",
      "hei\n",
      "hei\n",
      "hei\n",
      "hei\n",
      "hei\n"
     ]
    },
    {
     "data": {
      "image/png": "[encoded data removed]",
      "text/plain": [
       "<Figure size 432x288 with 2 Axes>"
      ]
     },
     "metadata": {
      "needs_background": "light"
     },
     "output_type": "display_data"
    },
    {
     "data": {
      "image/png": "[encoded data removed]",
      "text/plain": [
       "<Figure size 432x288 with 1 Axes>"
      ]
     },
     "metadata": {
      "needs_background": "light"
     },
     "output_type": "display_data"
    }
   ],
   "source": [
    "N = 20\n",
    "x = np.sort(np.random.uniform(0, 1, N))\n",
    "y = np.sort(np.random.uniform(0, 1, N))\n",
    "x_mesh, y_mesh = np.meshgrid(x,y)\n",
    "x_flat = np.ravel(x_mesh)\n",
    "y_flat = np.ravel(y_mesh)\n",
    "np.random.seed(64)\n",
    "\n",
    "z = FrankeFunction(x_flat, y_flat, 0.15) \n",
    "\n",
    "#Bootstrap parameters\n",
    "n_bootstraps = 1000\n",
    "maxdegree = 12\n",
    "\n",
    "#cross_validation parameters\n",
    "k = 10\n",
    "kfold = KFold(n_splits = k, shuffle=True, random_state=22)\n",
    "\n",
    "polydegrees = np.zeros(maxdegree)\n",
    "\n",
    "#Error arrays\n",
    "mse_ridge_bootstrap = np.zeros(maxdegree)\n",
    "mse_ols_bootstrap = np.zeros(maxdegree)\n",
    "\n",
    "bias_ridge_bootstrap = np.zeros(maxdegree)\n",
    "bias_ols_bootstrap = np.zeros(maxdegree)\n",
    "\n",
    "variance_ridge_bootstrap = np.zeros(maxdegree)\n",
    "variance_ols_bootstrap = np.zeros(maxdegree)\n",
    "\n",
    "mse_ridge_cvd = np.zeros(maxdegree)\n",
    "mse_ols_cvd = np.zeros(maxdegree)\n",
    "\n",
    "for i in range(maxdegree):\n",
    "    degree = i\n",
    "    polydegrees[i] = degree\n",
    "    X = create_X(x_flat, y_flat, degree)\n",
    "    X_train, X_test, z_train, z_test = train_test_split(X,z, test_size=0.2)\n",
    "    X_train, X_test, z_train, z_test = scale(X_train, X_test, z_train, z_test)\n",
    "    \n",
    "    z_pred_ridge_bootstrap = np.empty((z_test.shape[0], n_bootstraps))\n",
    "    z_pred_ols_bootstrap = np.empty((z_test.shape[0], n_bootstraps))\n",
    "    \n",
    "    for j in range(n_bootstraps):\n",
    "        lmd = 1\n",
    "        \n",
    "        x_bs,z_bs = resample(X_train,z_train\n",
    "                            )\n",
    "        beta_ridge_bootstrap = np.linalg.pinv(x_bs.T @ x_bs + lmd*np.eye(x_bs.shape[1],x_bs.shape[1])) @ x_bs.T @ z_bs\n",
    "        beta_ols_bootstrap = np.linalg.pinv(x_bs.T @ x_bs) @ x_bs.T @ z_bs\n",
    "        \n",
    "        z_pred_ridge_bootstrap[:,j] = X_test @ beta_ridge_bootstrap\n",
    "        z_pred_ols_bootstrap[:,j] = X_test @ beta_ols_bootstrap\n",
    "    \n",
    "    #Bootstrap errors\n",
    "    mse_ridge_bootstrap[i] = np.mean(np.mean((z_test.reshape(-1,1) - z_pred_ridge_bootstrap)**2, axis=1, keepdims=True))\n",
    "    mse_ols_bootstrap[i] = np.mean(np.mean((z_test.reshape(-1,1) - z_pred_ols_bootstrap)**2, axis=1, keepdims=True))\n",
    "    \n",
    "    bias_ridge_bootstrap[i] = np.mean((z_test.reshape(-1,1) - np.mean(z_pred_ridge_bootstrap, axis=1, keepdims=True))**2)\n",
    "    bias_ols_bootstrap[i] = np.mean((z_test.reshape(-1,1) - np.mean(z_pred_ols_bootstrap, axis=1, keepdims=True))**2)\n",
    "    \n",
    "    variance_ridge_bootstrap[i] = np.mean(np.var(z_pred_ridge_bootstrap, axis=1, keepdims=True))\n",
    "    variance_ols_bootstrap[i] = np.mean(np.var(z_pred_ols_bootstrap, axis=1, keepdims=True))\n",
    "    \n",
    "    #print('Degree: %i    lambda: %.4f    mse_ridge: %.4f    mse_ols: %.4f    bias: %.4f    variance: %.4f'\\\n",
    "     #     %(degree, lmb, mse_ridge_bootstrap[i], mse_ols_bootstrap[i], bias_ridge_bootstrap[i],\\\n",
    "      #     variance_ols_bootstrap[i]))\n",
    "    \n",
    "    \n",
    "    cv_split = 0\n",
    "    mse_ols_cvd_split = np.zeros(k)\n",
    "    mse_ridge_cvd_split = np.zeros(k)\n",
    "    \n",
    "\n",
    "    for train_indexes, test_indexes in kfold.split(X):\n",
    "        X_train = X[train_indexes]\n",
    "        X_test = X[test_indexes]\n",
    "        z_train = z[train_indexes]\n",
    "        z_test = z[test_indexes]\n",
    "        X_train, X_test, z_train, z_test = scale(X_train, X_test, z_train, z_test)\n",
    "        \n",
    "        lmd = 0.01\n",
    "        I_ = np.eye(X_train.shape[1], X_train.shape[1])\n",
    "        \n",
    "        beta_ols_cvd = np.linalg.pinv(X_train.T @ X_train) @ X_train.T @ z_train\n",
    "        z_pred_ols_cvd = X_test @ beta_ols_cvd\n",
    "        \n",
    "        beta_ridge_cvd = np.linalg.pinv(X_train.T @ X_train + lmd*I_) @ X_train.T @ z_train\n",
    "        z_pred_ridge_cvd = X_test @ beta_ridge_cvd\n",
    "        \n",
    "        mse_ols_cvd_split[cv_split] = mean_squared_error(z_test, z_pred_ols_cvd)\n",
    "        mse_ridge_cvd_split[cv_split] = mean_squared_error(z_test, z_pred_ridge_cvd)\n",
    "    \n",
    "        cv_split += 1\n",
    "    \n",
    "    print('hei')\n",
    "    # Cvd errors\n",
    "    mse_ridge_cvd[i] = np.mean(mse_ridge_cvd_split)\n",
    "    mse_ols_cvd[i] = np.mean(mse_ols_cvd_split)\n",
    "    \n",
    "    #print('Degree: %i    lambda: %.4f    mse_ridge: %.4f    mse_ols: %.4f' %(degree, lmb, mse_error_ridge_cvd[i], mse_error_ols_cvd[i]))\n",
    "\n",
    "\n",
    "# Endre plot til subplots\n",
    "fig,ax = plt.subplots(2, sharey=True)\n",
    "ax[0].plot(polydegrees, mse_ridge_bootstrap, label='mse')\n",
    "ax[0].plot(polydegrees, bias_ridge_bootstrap, label='bias')\n",
    "ax[0].plot(polydegrees, variance_ridge_bootstrap, label='variance')\n",
    "ax[0].set_ylim(0,1)\n",
    "ax[0].legend()\n",
    "ax[0].set_title('Ridge')\n",
    "\n",
    "ax[1].plot(polydegrees, mse_ols_bootstrap, label='mse')\n",
    "ax[1].plot(polydegrees, bias_ols_bootstrap, label='bias')\n",
    "ax[1].plot(polydegrees, variance_ols_bootstrap, label='variance')\n",
    "ax[1].legend()\n",
    "ax[1].set_title('OLS')\n",
    "plt.show()\n",
    "\n",
    "fig,ax = plt.subplots(1, sharey=True)\n",
    "ax.plot(polydegrees, mse_ridge_cvd, label='ridge')\n",
    "ax.plot(polydegrees, mse_ols_cvd, label='OLS')\n",
    "ax.set_xlabel('complexity')\n",
    "ax.set_ylabel('MSE')\n",
    "ax.legend()\n",
    "plt.title('mse errors for cvd')\n",
    "plt.show()"
   ]
  },
  {
   "cell_type": "markdown",
   "metadata": {},
   "source": [
    "#### 6.2. Discussion of lambda dependence <a class=\"anchor\" id=\"6.2\"></a>"
   ]
  },
  {
   "cell_type": "markdown",
   "metadata": {},
   "source": [
    "#### 6.3. Discussion of bias-variance trade-off  <a class=\"anchor\" id=\"6.3\"></a>"
   ]
  },
  {
   "cell_type": "code",
   "execution_count": 182,
   "metadata": {},
   "outputs": [],
   "source": [
    "N = 100\n",
    "degree = 5\n",
    "x = np.sort(np.random.uniform(0, 1, N))\n",
    "y = np.sort(np.random.uniform(0, 1, N))\n",
    "x_mesh, y_mesh = np.meshgrid(x,y)\n",
    "x_flat = np.ravel(x_mesh)\n",
    "y_flat = np.ravel(y_mesh)\n",
    "\n",
    "z = FrankeFunction(x_flat, y_flat)\n",
    "#z = z - np.mean(z)\n",
    "X = create_X(x_flat, y_flat, degree)\n",
    "#X = X - np.mean(X)\n",
    "X_train, X_test, z_train, z_test = train_test_split(X,z, test_size=0.2)\n",
    "\n",
    "\n",
    "nlambdas = 100\n",
    "lambdas = np.logspace(-5, 5, nlambdas)\n",
    "\n",
    "# Cross-validation\n",
    "k = 5\n",
    "kfold = KFold(n_splits = k)\n",
    "mse_ridge_cv = np.zeros(nlambdas)\n",
    "\n",
    "# Bootstrap\n",
    "n_bootstraps = 50\n",
    "mse_ridge_bs = np.zeros(nlambdas)\n",
    "bias_bs = np.zeros(nlambdas)\n",
    "variance_bs = np.zeros(nlambdas)\n",
    "\n",
    "for i in range(nlambdas):\n",
    "    lmd = lambdas[i]\n",
    "    # Cross validation\n",
    "    mse_cv = []\n",
    "    for train_indexes, test_indexes in kfold.split(X):\n",
    "        X_train_cv = X[train_indexes]\n",
    "        X_test_cv = X[test_indexes]\n",
    "        z_train_cv = z[train_indexes]\n",
    "        z_test_cv = z[test_indexes]\n",
    "\n",
    "        beta_cv = np.linalg.pinv(X_train_cv.T @ X_train_cv + lmd*np.eye(X_train_cv.shape[1], X_train_cv.shape[1])) @ X_train_cv.T @ z_train_cv\n",
    "        z_pred_cv = X_test_cv @ beta_cv\n",
    "        mse_cv.append(mean_squared_error(z_test_cv, z_pred_cv))\n",
    "    mse_ridge_cv[i] = np.mean(mse_cv)\n",
    "    \n",
    "    \n",
    "    # Bootstrap\n",
    "    z_pred = np.empty((z_test.shape[0], n_bootstraps))\n",
    "    for j in range(n_bootstraps):\n",
    "        x_bs,z_bs = resample(X_train, z_train)\n",
    "        beta_bs = np.linalg.pinv(x_bs.T @ x_bs + lmd*np.eye(x_bs.shape[1], x_bs.shape[1])) @ x_bs.T @ z_bs\n",
    "        z_pred_bs = X_test @ beta_bs\n",
    "    \n",
    "    mse_ridge_bs[i] = np.mean(np.mean((z_test.reshape(-1,1) - z_pred)**2, axis=1, keepdims=True))\n",
    "    bias_bs[i] = np.mean((z_test.reshape(-1,1) - np.mean(z_pred, axis=1, keepdims=True))**2)\n",
    "    variance_bs[i] = np.mean(np.var(z_pred, axis=1, keepdims=True))"
   ]
  },
  {
   "cell_type": "code",
   "execution_count": 184,
   "metadata": {},
   "outputs": [
    {
     "data": {
      "image/png": "[encoded data removed]",
      "text/plain": [
       "<Figure size 720x720 with 2 Axes>"
      ]
     },
     "metadata": {
      "needs_background": "light"
     },
     "output_type": "display_data"
    }
   ],
   "source": [
    "fig,ax = plt.subplots(2, figsize=(10,10))\n",
    "ax[0].plot(np.log10(lambdas), mse_ridge_bs, label='mse ridge bootstrap')\n",
    "ax[0].plot(np.log10(lambdas), mse_ridge_cv, label='mse ridge cross-validation')\n",
    "ax[0].set_xlabel('log10(lambda)')\n",
    "ax[0].set_ylabel('mse error')\n",
    "ax[0].legend()\n",
    "ax[0].set_title('Ridge regression: Bootstrap vs cross-validation')\n",
    "\n",
    "ax[1].plot(np.log10(lambdas), bias_bs, label='bias')\n",
    "ax[1].plot(np.log10(lambdas), variance_bs, label='variance')\n",
    "ax[1].plot(np.log10(lambdas), mse_ridge_bs, label='mse')\n",
    "ax[1].set_xlabel('log10(lambda)')\n",
    "ax[1].legend()\n",
    "ax[1].set_title('Ridge regression: Bias vs variance for bootstrap')\n",
    "plt.show()"
   ]
  },
  {
   "cell_type": "markdown",
   "metadata": {},
   "source": [
    "### 7. Exercise 5 - Lasso Regression on the Franke function with resampling\n",
    "<a class=\"anchor\" id=\"7\"></a>"
   ]
  },
  {
   "cell_type": "markdown",
   "metadata": {},
   "source": [
    "#### 7.1. Lasso regression"
   ]
  },
  {
   "cell_type": "code",
   "execution_count": null,
   "metadata": {},
   "outputs": [],
   "source": [
    "from sklearn.linear_model import Lasso\n",
    "\n",
    "N = 100\n",
    "degree = 5\n",
    "x = np.sort(np.random.uniform(0, 1, N))\n",
    "y = np.sort(np.random.uniform(0, 1, N))\n",
    "x_mesh, y_mesh = np.meshgrid(x,y)\n",
    "x_flat = np.ravel(x_mesh)\n",
    "y_flat = np.ravel(y_mesh)\n",
    "\n",
    "\n",
    "z = FrankeFunction(x_flat, y_flat)\n",
    "#z = z - np.mean(z)\n",
    "X = create_X(x_flat, y_flat, degree)\n",
    "#X = X - np.mean(X)\n",
    "\n",
    "\n",
    "nlambdas = 100\n",
    "lambdas = np.logspace(-5, -2, nlambdas)\n",
    "k = 5\n",
    "kfold = KFold(n_splits = k)\n",
    "\n",
    "mse_lasso_bs = np.zeros(nlambdas)\n",
    "mse_lasso_cv = np.zeros(nlambdas)\n",
    "bias = np.zeros(nlambdas)\n",
    "variance = np.zeros(nlambdas)\n",
    "\n",
    "for i in range(nlambdas):\n",
    "    lmd = lambdas[i]\n",
    "    print(lmd)\n",
    "    # Cross validation\n",
    "    mse_cv = []\n",
    "    mse_bs = []\n",
    "    lassoreg = Lasso(alpha=lmd, normalize = True, tol = 0.1)\n",
    "    for train_indexes, test_indexes in kfold.split(X):\n",
    "        X_train_cv = X[train_indexes]\n",
    "        X_test_cv = X[test_indexes]\n",
    "        z_train_cv = z[train_indexes]\n",
    "        z_test_cv = z[test_indexes]\n",
    "\n",
    "        lassoreg.fit(X_train_cv, z_train_cv)\n",
    "        z_pred_cv = lassoreg.predict(X_test_cv)\n",
    "        print(lassoreg.coef_)\n",
    "        \n",
    "        mse_cv.append(mean_squared_error(z_test_cv, z_pred_cv))\n",
    "    mse_lasso_cv[i] = np.mean(mse_cv)\n",
    "        \n",
    "plt.plot(np.log10(lambdas), mse_lasso_cv)\n",
    "plt.show()"
   ]
  },
  {
   "cell_type": "code",
   "execution_count": null,
   "metadata": {},
   "outputs": [],
   "source": [
    "fig,ax = plt.subplots(2, figsize=(10,10))\n",
    "ax[0].plot(np.log10(lambdas), mse_lasso_bs, label='mse lasso bootstrap')\n",
    "ax[0].plot(np.log10(lambdas), mse_lasso_cv, label='mse lasso cross-validation')\n",
    "ax[0].set_xlabel('log10(lambda)')\n",
    "ax[0].set_ylabel('mse error')\n",
    "ax[0].legend()\n",
    "ax[0].set_title('Ridge regression: Bootstrap vs cross-validation')\n",
    "\n",
    "ax[1].plot(np.log10(lambdas), bias, label='bias')\n",
    "ax[1].plot(np.log10(lambdas), variance, label='variance')\n",
    "ax[1].set_xlabel('log10(lambda)')\n",
    "ax[1].legend()\n",
    "ax[1].set_title('Lasso regression: Bias vs variance for bootstrap')\n",
    "plt.show()"
   ]
  },
  {
   "cell_type": "markdown",
   "metadata": {},
   "source": [
    "#### 7.2. Evaluation of methods  <a class=\"anchor\" id=\"7.2\"></a>"
   ]
  }
 ],
 "metadata": {
  "kernelspec": {
   "display_name": "Python 3",
   "language": "python",
   "name": "python3"
  },
  "language_info": {
   "codemirror_mode": {
    "name": "ipython",
    "version": 3
   },
   "file_extension": ".py",
   "mimetype": "text/x-python",
   "name": "python",
   "nbconvert_exporter": "python",
   "pygments_lexer": "ipython3",
   "version": "3.8.5"
  }
 },
 "nbformat": 4,
 "nbformat_minor": 4
}
